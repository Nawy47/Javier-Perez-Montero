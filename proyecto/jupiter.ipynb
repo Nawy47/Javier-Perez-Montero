{
 "cells": [
  {
   "attachments": {},
   "cell_type": "markdown",
   "metadata": {},
   "source": [
    "## Introducción\n",
    "  \"Bienvenido!!! En este proyecto presentamos el análisis detallado de algunos productos del día a día. Presentamos paso a paso todo el procedimiento que se llevó a cabo para la elaboración de dicho proyecto. El proyecto tiene su base en el esfuerzo de presentar cada uno de los datos con la mayor cautela y detalle, yendo a la raíz de la información. Se visitaron cafeterías y agros al 100% para obtener la mayor veracidad de la base de datos que presentaremos a continuación.\n",
    "\n",
    "En esta ocasión, escogimos 4 productos para trabajar y analizar su comportamiento conforme a la situación actual. Dichos productos son: cerveza, cebolla, refresco instantáneo y refresco gaseado. Conforman el análisis de dicho proyecto. Estaremos respondiendo varias preguntas que surgieron a medida que trabajábamos. Junto con relaciones, comparaciones y, sobre todo, fomentar como objetivo la investigación de cada producto.\n",
    "\n",
    "Sin más, comenzaremos y esperamos que disfrutes de nuestra presentación. \n",
    "  "
   ]
  },
  {
   "attachments": {},
   "cell_type": "markdown",
   "metadata": {},
   "source": [
    "---\n",
    "Códigos de Importación y Bibliotecas\n",
    "---  \n",
    "  Para la confección de nuestra base de Datos utilizamos un archivo tipo(.json) en el cual se detalla en cada línea las categorías de datos que recolectamos de los productos antes dicho. \n",
    "\n",
    "  Para poderle dar una mejor presentación de una forma más interactiva y menos tediosa de visualizar, decidimos presentar la información en varias gráficas y tablas explicativas, estas fueron importadas de varias bibliotecas que utilizamos que a continuación le mostraremos.\n"
   ]
  },
  {
   "cell_type": "code",
   "execution_count": 20,
   "metadata": {},
   "outputs": [],
   "source": [
    "# Importar json\n",
    "import json\n",
    "# Importar pandas\n",
    "import pandas as pd\n",
    "# Importar matplotlib\n",
    "import matplotlib.pyplot as plt\n",
    "# Importar numpy\n",
    "import numpy as np\n",
    "# Importar seaborn\n",
    "import seaborn as sns\n",
    "# Importar plotly\n",
    "import plotly.express as px\n",
    "# Importando el json correspondiente\n",
    "with open(\"valido\", \"r\",encoding=\"utf-8\") as file:\n",
    "    dicc=json.load(file)"
   ]
  },
  {
   "attachments": {},
   "cell_type": "markdown",
   "metadata": {},
   "source": [
    "--- \n",
    " Recolección y Recopilación de Datos\n",
    "---\n",
    "\n",
    "\n",
    "   \n",
    "   Como explicamos anteriormente, nos tomamos la molestia de realizar trabajo de campo y hacer una recolección exhaustiva pero muy beneficiosa para presentar una información veraz. Utilizando Pandas, una de las bibliotecas que mencionamos antes, presentaremos en las siguientes celdas los códigos para realizar las tablas en donde se ilustran los datos de cada uno de los productos de nuestro archivo .json.\n",
    "\n",
    "En nuestro proyecto, recopilamos datos con respecto a la ubicación e imágenes de cada uno de los lugares que visitamos en el municipio de Marianao, el municipio experimento de nuestro proyecto. Las imágenes se encuentran como prueba de la recopilación de los datos y se habilitó una carpeta donde se pueden ver cada una de ellas, en caso de ser necesario. A medida que avancemos en la presentación, podrás acceder a distintas imágenes para una mejor visualización del contenido. La geolocalización es característica en nuestros datos, ya que se puede presenciar el lugar exacto de donde se extrajo el dato, lo que ayuda a que nuestra información llegue con más peso y valor al espectador. Entre otras categorías, se encuentran ya rasgos y datos más específicos de cada producto que están presentes en las próximas tablas.  "
   ]
  },
  {
   "cell_type": "code",
   "execution_count": 15,
   "metadata": {},
   "outputs": [
    {
     "data": {
      "text/html": [
       "<div>\n",
       "<style scoped>\n",
       "    .dataframe tbody tr th:only-of-type {\n",
       "        vertical-align: middle;\n",
       "    }\n",
       "\n",
       "    .dataframe tbody tr th {\n",
       "        vertical-align: top;\n",
       "    }\n",
       "\n",
       "    .dataframe thead th {\n",
       "        text-align: right;\n",
       "    }\n",
       "</style>\n",
       "<table border=\"1\" class=\"dataframe\">\n",
       "  <thead>\n",
       "    <tr style=\"text-align: right;\">\n",
       "      <th></th>\n",
       "      <th>marca</th>\n",
       "      <th>precio</th>\n",
       "      <th>coloracion</th>\n",
       "      <th>loc</th>\n",
       "      <th>municipio</th>\n",
       "      <th>imagenes</th>\n",
       "      <th>pais</th>\n",
       "    </tr>\n",
       "  </thead>\n",
       "  <tbody>\n",
       "    <tr>\n",
       "      <th>0</th>\n",
       "      <td>colonia</td>\n",
       "      <td>160</td>\n",
       "      <td>clara</td>\n",
       "      <td>[23.08565330505371, -82.42872619628906]</td>\n",
       "      <td>Marianao</td>\n",
       "      <td>./fotos/foto1.jpg</td>\n",
       "      <td>Brasil</td>\n",
       "    </tr>\n",
       "    <tr>\n",
       "      <th>1</th>\n",
       "      <td>mahou</td>\n",
       "      <td>150</td>\n",
       "      <td>clara</td>\n",
       "      <td>[23.070594787597656, -82.4329605102539]</td>\n",
       "      <td>Marianao</td>\n",
       "      <td>./fotos/foto3.jpg</td>\n",
       "      <td>Espana</td>\n",
       "    </tr>\n",
       "    <tr>\n",
       "      <th>2</th>\n",
       "      <td>martens</td>\n",
       "      <td>150</td>\n",
       "      <td>clara</td>\n",
       "      <td>[23.070594787597656, -82.4329605102539]</td>\n",
       "      <td>Marianao</td>\n",
       "      <td>./fotos/foto3.jpg</td>\n",
       "      <td>Belgica</td>\n",
       "    </tr>\n",
       "    <tr>\n",
       "      <th>3</th>\n",
       "      <td>presidente</td>\n",
       "      <td>130</td>\n",
       "      <td>clara</td>\n",
       "      <td>[23.070594787597656, -82.4329605102539]</td>\n",
       "      <td>Marianao</td>\n",
       "      <td>./fotos/foto3.jpg</td>\n",
       "      <td>Republica Dominicana</td>\n",
       "    </tr>\n",
       "    <tr>\n",
       "      <th>4</th>\n",
       "      <td>holland</td>\n",
       "      <td>165</td>\n",
       "      <td>clara</td>\n",
       "      <td>[23.070594787597656, -82.4329605102539]</td>\n",
       "      <td>Marianao</td>\n",
       "      <td>./fotos/foto5.jpg</td>\n",
       "      <td>Paises Bajos</td>\n",
       "    </tr>\n",
       "    <tr>\n",
       "      <th>...</th>\n",
       "      <td>...</td>\n",
       "      <td>...</td>\n",
       "      <td>...</td>\n",
       "      <td>...</td>\n",
       "      <td>...</td>\n",
       "      <td>...</td>\n",
       "      <td>...</td>\n",
       "    </tr>\n",
       "    <tr>\n",
       "      <th>99</th>\n",
       "      <td>hollandia</td>\n",
       "      <td>200</td>\n",
       "      <td>clara</td>\n",
       "      <td>[23.079747, -82.434144]</td>\n",
       "      <td>Marianao</td>\n",
       "      <td>./fotos/foto144.jpg</td>\n",
       "      <td>Paises Bajos</td>\n",
       "    </tr>\n",
       "    <tr>\n",
       "      <th>100</th>\n",
       "      <td>cristal</td>\n",
       "      <td>250</td>\n",
       "      <td>clara</td>\n",
       "      <td>[23.079816, -82.434184]</td>\n",
       "      <td>Marianao</td>\n",
       "      <td>./fotos/foto144.jpg</td>\n",
       "      <td>Cuba</td>\n",
       "    </tr>\n",
       "    <tr>\n",
       "      <th>101</th>\n",
       "      <td>martens</td>\n",
       "      <td>200</td>\n",
       "      <td>clara</td>\n",
       "      <td>[23.079747, -82.434144]</td>\n",
       "      <td>Marianao</td>\n",
       "      <td>./fotos/foto144.jpg</td>\n",
       "      <td>Belgica</td>\n",
       "    </tr>\n",
       "    <tr>\n",
       "      <th>102</th>\n",
       "      <td>corona</td>\n",
       "      <td>240</td>\n",
       "      <td>clara</td>\n",
       "      <td>[23.079747, -82.434144]</td>\n",
       "      <td>Marianao</td>\n",
       "      <td>./fotos/foto144.jpg</td>\n",
       "      <td>Mexico</td>\n",
       "    </tr>\n",
       "    <tr>\n",
       "      <th>103</th>\n",
       "      <td>hollandia</td>\n",
       "      <td>150</td>\n",
       "      <td>clara</td>\n",
       "      <td>[23.079747, -82.434144]</td>\n",
       "      <td>Marianao</td>\n",
       "      <td>./fotos/foto145.jpg</td>\n",
       "      <td>Paises Bajos</td>\n",
       "    </tr>\n",
       "  </tbody>\n",
       "</table>\n",
       "<p>104 rows × 7 columns</p>\n",
       "</div>"
      ],
      "text/plain": [
       "          marca  precio coloracion                                      loc   \n",
       "0       colonia     160      clara  [23.08565330505371, -82.42872619628906]  \\\n",
       "1         mahou     150      clara  [23.070594787597656, -82.4329605102539]   \n",
       "2       martens     150      clara  [23.070594787597656, -82.4329605102539]   \n",
       "3    presidente     130      clara  [23.070594787597656, -82.4329605102539]   \n",
       "4       holland     165      clara  [23.070594787597656, -82.4329605102539]   \n",
       "..          ...     ...        ...                                      ...   \n",
       "99    hollandia     200      clara                  [23.079747, -82.434144]   \n",
       "100     cristal     250      clara                  [23.079816, -82.434184]   \n",
       "101     martens     200      clara                  [23.079747, -82.434144]   \n",
       "102      corona     240      clara                  [23.079747, -82.434144]   \n",
       "103   hollandia     150      clara                  [23.079747, -82.434144]   \n",
       "\n",
       "    municipio             imagenes                  pais  \n",
       "0    Marianao    ./fotos/foto1.jpg                Brasil  \n",
       "1    Marianao    ./fotos/foto3.jpg                Espana  \n",
       "2    Marianao    ./fotos/foto3.jpg               Belgica  \n",
       "3    Marianao    ./fotos/foto3.jpg  Republica Dominicana  \n",
       "4    Marianao    ./fotos/foto5.jpg          Paises Bajos  \n",
       "..        ...                  ...                   ...  \n",
       "99   Marianao  ./fotos/foto144.jpg          Paises Bajos  \n",
       "100  Marianao  ./fotos/foto144.jpg                  Cuba  \n",
       "101  Marianao  ./fotos/foto144.jpg               Belgica  \n",
       "102  Marianao  ./fotos/foto144.jpg                Mexico  \n",
       "103  Marianao  ./fotos/foto145.jpg          Paises Bajos  \n",
       "\n",
       "[104 rows x 7 columns]"
      ]
     },
     "execution_count": 15,
     "metadata": {},
     "output_type": "execute_result"
    }
   ],
   "source": [
    "#Establecer la tabla de la cerveza\n",
    "cerveza = pd.DataFrame(dicc[\"cerveza\"])\n",
    "cerveza"
   ]
  },
  {
   "cell_type": "code",
   "execution_count": 3,
   "metadata": {},
   "outputs": [
    {
     "data": {
      "text/html": [
       "<div>\n",
       "<style scoped>\n",
       "    .dataframe tbody tr th:only-of-type {\n",
       "        vertical-align: middle;\n",
       "    }\n",
       "\n",
       "    .dataframe tbody tr th {\n",
       "        vertical-align: top;\n",
       "    }\n",
       "\n",
       "    .dataframe thead th {\n",
       "        text-align: right;\n",
       "    }\n",
       "</style>\n",
       "<table border=\"1\" class=\"dataframe\">\n",
       "  <thead>\n",
       "    <tr style=\"text-align: right;\">\n",
       "      <th></th>\n",
       "      <th>marca</th>\n",
       "      <th>sabor</th>\n",
       "      <th>envase</th>\n",
       "      <th>precio</th>\n",
       "      <th>loc</th>\n",
       "      <th>municipio</th>\n",
       "      <th>imagenes</th>\n",
       "      <th>pais</th>\n",
       "    </tr>\n",
       "  </thead>\n",
       "  <tbody>\n",
       "    <tr>\n",
       "      <th>0</th>\n",
       "      <td>pepsi</td>\n",
       "      <td>cola</td>\n",
       "      <td>lata</td>\n",
       "      <td>150</td>\n",
       "      <td>[23.072017669677734, -82.43247985839844]</td>\n",
       "      <td>Marianao</td>\n",
       "      <td>./fotos/foto52.jpg</td>\n",
       "      <td>Estados Unidos</td>\n",
       "    </tr>\n",
       "    <tr>\n",
       "      <th>1</th>\n",
       "      <td>pepsi</td>\n",
       "      <td>cola</td>\n",
       "      <td>lata</td>\n",
       "      <td>180</td>\n",
       "      <td>[23.08129119873047, -82.43054962158203]</td>\n",
       "      <td>Marianao</td>\n",
       "      <td>./fotos/foto50.jpg</td>\n",
       "      <td>Estados Unidos</td>\n",
       "    </tr>\n",
       "    <tr>\n",
       "      <th>2</th>\n",
       "      <td>santa</td>\n",
       "      <td>naranja</td>\n",
       "      <td>lata</td>\n",
       "      <td>150</td>\n",
       "      <td>[23.08129119873047, -82.43054962158203]</td>\n",
       "      <td>Marianao</td>\n",
       "      <td>./fotos/foto50.jpg</td>\n",
       "      <td>Espana</td>\n",
       "    </tr>\n",
       "    <tr>\n",
       "      <th>3</th>\n",
       "      <td>santa</td>\n",
       "      <td>cola</td>\n",
       "      <td>lata</td>\n",
       "      <td>150</td>\n",
       "      <td>[23.08129119873047, -82.43054962158203]</td>\n",
       "      <td>Marianao</td>\n",
       "      <td>./fotos/foto50.jpg</td>\n",
       "      <td>Espana</td>\n",
       "    </tr>\n",
       "    <tr>\n",
       "      <th>4</th>\n",
       "      <td>santa</td>\n",
       "      <td>limon</td>\n",
       "      <td>lata</td>\n",
       "      <td>150</td>\n",
       "      <td>[23.08129119873047, -82.43054962158203]</td>\n",
       "      <td>Marianao</td>\n",
       "      <td>./fotos/foto50.jpg</td>\n",
       "      <td>Espana</td>\n",
       "    </tr>\n",
       "    <tr>\n",
       "      <th>...</th>\n",
       "      <td>...</td>\n",
       "      <td>...</td>\n",
       "      <td>...</td>\n",
       "      <td>...</td>\n",
       "      <td>...</td>\n",
       "      <td>...</td>\n",
       "      <td>...</td>\n",
       "      <td>...</td>\n",
       "    </tr>\n",
       "    <tr>\n",
       "      <th>113</th>\n",
       "      <td>santa</td>\n",
       "      <td>limon</td>\n",
       "      <td>lata</td>\n",
       "      <td>200</td>\n",
       "      <td>[23.079747, -82.434144]</td>\n",
       "      <td>Marianao</td>\n",
       "      <td>./fotos/foto144.jpg</td>\n",
       "      <td>Espana</td>\n",
       "    </tr>\n",
       "    <tr>\n",
       "      <th>114</th>\n",
       "      <td>coca cola</td>\n",
       "      <td>cola</td>\n",
       "      <td>lata</td>\n",
       "      <td>160</td>\n",
       "      <td>[23.079747, -82.434144]</td>\n",
       "      <td>Marianao</td>\n",
       "      <td>./fotos/foto145.jpg</td>\n",
       "      <td>Estados Unidos</td>\n",
       "    </tr>\n",
       "    <tr>\n",
       "      <th>115</th>\n",
       "      <td>fanta</td>\n",
       "      <td>naranja</td>\n",
       "      <td>lata</td>\n",
       "      <td>160</td>\n",
       "      <td>[23.079747, -82.434144]</td>\n",
       "      <td>Marianao</td>\n",
       "      <td>./fotos/foto145.jpg</td>\n",
       "      <td>Itilia</td>\n",
       "    </tr>\n",
       "    <tr>\n",
       "      <th>116</th>\n",
       "      <td>fanta</td>\n",
       "      <td>naranja</td>\n",
       "      <td>pomo</td>\n",
       "      <td>130</td>\n",
       "      <td>[23.079747, -82.434144]</td>\n",
       "      <td>Marianao</td>\n",
       "      <td>./fotos/foto145.jpg</td>\n",
       "      <td>Itilia</td>\n",
       "    </tr>\n",
       "    <tr>\n",
       "      <th>117</th>\n",
       "      <td>sprite</td>\n",
       "      <td>limon</td>\n",
       "      <td>pomo</td>\n",
       "      <td>130</td>\n",
       "      <td>[23.079747, -82.434144]</td>\n",
       "      <td>Marianao</td>\n",
       "      <td>./fotos/foto145.jpg</td>\n",
       "      <td>Estados Unidos</td>\n",
       "    </tr>\n",
       "  </tbody>\n",
       "</table>\n",
       "<p>118 rows × 8 columns</p>\n",
       "</div>"
      ],
      "text/plain": [
       "         marca    sabor envase  precio   \n",
       "0        pepsi     cola   lata     150  \\\n",
       "1        pepsi     cola   lata     180   \n",
       "2        santa  naranja   lata     150   \n",
       "3        santa     cola   lata     150   \n",
       "4        santa    limon   lata     150   \n",
       "..         ...      ...    ...     ...   \n",
       "113      santa    limon   lata     200   \n",
       "114  coca cola     cola   lata     160   \n",
       "115      fanta  naranja   lata     160   \n",
       "116      fanta  naranja   pomo     130   \n",
       "117     sprite    limon   pomo     130   \n",
       "\n",
       "                                          loc municipio             imagenes   \n",
       "0    [23.072017669677734, -82.43247985839844]  Marianao   ./fotos/foto52.jpg  \\\n",
       "1     [23.08129119873047, -82.43054962158203]  Marianao   ./fotos/foto50.jpg   \n",
       "2     [23.08129119873047, -82.43054962158203]  Marianao   ./fotos/foto50.jpg   \n",
       "3     [23.08129119873047, -82.43054962158203]  Marianao   ./fotos/foto50.jpg   \n",
       "4     [23.08129119873047, -82.43054962158203]  Marianao   ./fotos/foto50.jpg   \n",
       "..                                        ...       ...                  ...   \n",
       "113                   [23.079747, -82.434144]  Marianao  ./fotos/foto144.jpg   \n",
       "114                   [23.079747, -82.434144]  Marianao  ./fotos/foto145.jpg   \n",
       "115                   [23.079747, -82.434144]  Marianao  ./fotos/foto145.jpg   \n",
       "116                   [23.079747, -82.434144]  Marianao  ./fotos/foto145.jpg   \n",
       "117                   [23.079747, -82.434144]  Marianao  ./fotos/foto145.jpg   \n",
       "\n",
       "               pais  \n",
       "0    Estados Unidos  \n",
       "1    Estados Unidos  \n",
       "2            Espana  \n",
       "3            Espana  \n",
       "4            Espana  \n",
       "..              ...  \n",
       "113          Espana  \n",
       "114  Estados Unidos  \n",
       "115          Itilia  \n",
       "116          Itilia  \n",
       "117  Estados Unidos  \n",
       "\n",
       "[118 rows x 8 columns]"
      ]
     },
     "execution_count": 3,
     "metadata": {},
     "output_type": "execute_result"
    }
   ],
   "source": [
    "#Establecer la tabla de Refresco\n",
    "refresco = pd.DataFrame(dicc[\"refresco\"])\n",
    "refresco"
   ]
  },
  {
   "cell_type": "code",
   "execution_count": 21,
   "metadata": {},
   "outputs": [
    {
     "data": {
      "text/html": [
       "<div>\n",
       "<style scoped>\n",
       "    .dataframe tbody tr th:only-of-type {\n",
       "        vertical-align: middle;\n",
       "    }\n",
       "\n",
       "    .dataframe tbody tr th {\n",
       "        vertical-align: top;\n",
       "    }\n",
       "\n",
       "    .dataframe thead th {\n",
       "        text-align: right;\n",
       "    }\n",
       "</style>\n",
       "<table border=\"1\" class=\"dataframe\">\n",
       "  <thead>\n",
       "    <tr style=\"text-align: right;\">\n",
       "      <th></th>\n",
       "      <th>tipo</th>\n",
       "      <th>precio</th>\n",
       "      <th>categoria</th>\n",
       "      <th>loc</th>\n",
       "      <th>municipio</th>\n",
       "      <th>imagenes</th>\n",
       "    </tr>\n",
       "  </thead>\n",
       "  <tbody>\n",
       "    <tr>\n",
       "      <th>0</th>\n",
       "      <td>blanca</td>\n",
       "      <td>170</td>\n",
       "      <td>libra</td>\n",
       "      <td>[23.070397, -82.431605]</td>\n",
       "      <td>Marianao</td>\n",
       "      <td>./fotos/foto56.jpg</td>\n",
       "    </tr>\n",
       "    <tr>\n",
       "      <th>1</th>\n",
       "      <td>blanca</td>\n",
       "      <td>180</td>\n",
       "      <td>libra</td>\n",
       "      <td>[23.070276, -82.431859]</td>\n",
       "      <td>Marianao</td>\n",
       "      <td>./fotos/foto69.jpg</td>\n",
       "    </tr>\n",
       "    <tr>\n",
       "      <th>2</th>\n",
       "      <td>blanca</td>\n",
       "      <td>160</td>\n",
       "      <td>libra</td>\n",
       "      <td>[23.070992, -82.431736]</td>\n",
       "      <td>Marianao</td>\n",
       "      <td>./fotos/foto53.jpg</td>\n",
       "    </tr>\n",
       "    <tr>\n",
       "      <th>3</th>\n",
       "      <td>blanca</td>\n",
       "      <td>180</td>\n",
       "      <td>libra</td>\n",
       "      <td>[23.083209, -82.435319]</td>\n",
       "      <td>Marianao</td>\n",
       "      <td>./fotos/foto51.jpg</td>\n",
       "    </tr>\n",
       "    <tr>\n",
       "      <th>4</th>\n",
       "      <td>blanca</td>\n",
       "      <td>123</td>\n",
       "      <td>paquete</td>\n",
       "      <td>[23.078649, -82.429396]</td>\n",
       "      <td>Marianao</td>\n",
       "      <td>./fotos/foto45.jpg</td>\n",
       "    </tr>\n",
       "    <tr>\n",
       "      <th>5</th>\n",
       "      <td>blanca</td>\n",
       "      <td>160</td>\n",
       "      <td>libra</td>\n",
       "      <td>[23.079933, -82.422966]</td>\n",
       "      <td>Marianao</td>\n",
       "      <td>./fotos/foto20.jpg</td>\n",
       "    </tr>\n",
       "    <tr>\n",
       "      <th>6</th>\n",
       "      <td>blanca</td>\n",
       "      <td>200</td>\n",
       "      <td>libra</td>\n",
       "      <td>[23.075319, -82.427452]</td>\n",
       "      <td>Marianao</td>\n",
       "      <td>./fotos/foto19.jpg</td>\n",
       "    </tr>\n",
       "    <tr>\n",
       "      <th>7</th>\n",
       "      <td>morada</td>\n",
       "      <td>200</td>\n",
       "      <td>libra</td>\n",
       "      <td>[23.075319, -82.427452]</td>\n",
       "      <td>Marianao</td>\n",
       "      <td>./fotos/foto19.jpg</td>\n",
       "    </tr>\n",
       "    <tr>\n",
       "      <th>8</th>\n",
       "      <td>morada</td>\n",
       "      <td>200</td>\n",
       "      <td>libra</td>\n",
       "      <td>[23.076247, -82.430298]</td>\n",
       "      <td>Marianao</td>\n",
       "      <td>./fotos/foto79.jpg</td>\n",
       "    </tr>\n",
       "    <tr>\n",
       "      <th>9</th>\n",
       "      <td>blanca</td>\n",
       "      <td>200</td>\n",
       "      <td>libra</td>\n",
       "      <td>[23.0761, -82.434602]</td>\n",
       "      <td>Marianao</td>\n",
       "      <td>./fotos/foto109.jpg</td>\n",
       "    </tr>\n",
       "    <tr>\n",
       "      <th>10</th>\n",
       "      <td>blanca</td>\n",
       "      <td>180</td>\n",
       "      <td>libra</td>\n",
       "      <td>[23.076247, -82.430298]</td>\n",
       "      <td>Marianao</td>\n",
       "      <td>./fotos/foto18.jpg</td>\n",
       "    </tr>\n",
       "    <tr>\n",
       "      <th>11</th>\n",
       "      <td>blanca</td>\n",
       "      <td>160</td>\n",
       "      <td>libra</td>\n",
       "      <td>[23.07639, -82.433205]</td>\n",
       "      <td>Marianao</td>\n",
       "      <td>./fotos/foto22.jpg</td>\n",
       "    </tr>\n",
       "    <tr>\n",
       "      <th>12</th>\n",
       "      <td>blanca</td>\n",
       "      <td>200</td>\n",
       "      <td>libra</td>\n",
       "      <td>[23.085776, -82.437593]</td>\n",
       "      <td>Marianao</td>\n",
       "      <td>./fotos/foto64.jpg</td>\n",
       "    </tr>\n",
       "    <tr>\n",
       "      <th>13</th>\n",
       "      <td>morada</td>\n",
       "      <td>200</td>\n",
       "      <td>libra</td>\n",
       "      <td>[23.085776, -82.437593]</td>\n",
       "      <td>Marianao</td>\n",
       "      <td>./fotos/foto64.jpg</td>\n",
       "    </tr>\n",
       "    <tr>\n",
       "      <th>14</th>\n",
       "      <td>morada</td>\n",
       "      <td>210</td>\n",
       "      <td>libra</td>\n",
       "      <td>[23.075319, -82.427452]</td>\n",
       "      <td>Marianao</td>\n",
       "      <td>./fotos/foto114.jpg</td>\n",
       "    </tr>\n",
       "    <tr>\n",
       "      <th>15</th>\n",
       "      <td>blanca</td>\n",
       "      <td>210</td>\n",
       "      <td>libra</td>\n",
       "      <td>[23.075319, -82.427452]</td>\n",
       "      <td>Marianao</td>\n",
       "      <td>./fotos/foto114.jpg</td>\n",
       "    </tr>\n",
       "    <tr>\n",
       "      <th>16</th>\n",
       "      <td>blanca</td>\n",
       "      <td>200</td>\n",
       "      <td>libra</td>\n",
       "      <td>[23.077311, -82.424813]</td>\n",
       "      <td>Marianao</td>\n",
       "      <td>./fotos/foto125.jpg</td>\n",
       "    </tr>\n",
       "    <tr>\n",
       "      <th>17</th>\n",
       "      <td>morada</td>\n",
       "      <td>200</td>\n",
       "      <td>libra</td>\n",
       "      <td>[23.077311, -82.424813]</td>\n",
       "      <td>Marianao</td>\n",
       "      <td>./fotos/foto125.jpg</td>\n",
       "    </tr>\n",
       "    <tr>\n",
       "      <th>18</th>\n",
       "      <td>blanca</td>\n",
       "      <td>200</td>\n",
       "      <td>libra</td>\n",
       "      <td>[23.079064, -82.428684]</td>\n",
       "      <td>Marianao</td>\n",
       "      <td>./fotos/foto134.jpg</td>\n",
       "    </tr>\n",
       "    <tr>\n",
       "      <th>19</th>\n",
       "      <td>morada</td>\n",
       "      <td>200</td>\n",
       "      <td>libra</td>\n",
       "      <td>[23.084172, -82.426158]</td>\n",
       "      <td>Marianao</td>\n",
       "      <td>./fotos/foto135.jpg</td>\n",
       "    </tr>\n",
       "    <tr>\n",
       "      <th>20</th>\n",
       "      <td>morada</td>\n",
       "      <td>200</td>\n",
       "      <td>libra</td>\n",
       "      <td>[23.080121994018555, -82.42907188964844]</td>\n",
       "      <td>Marianao</td>\n",
       "      <td>./fotos/foto136.jpg</td>\n",
       "    </tr>\n",
       "    <tr>\n",
       "      <th>21</th>\n",
       "      <td>blanca</td>\n",
       "      <td>200</td>\n",
       "      <td>libra</td>\n",
       "      <td>[23.084859, -82.424973]</td>\n",
       "      <td>Marianao</td>\n",
       "      <td>./fotos/foto135.jpg</td>\n",
       "    </tr>\n",
       "    <tr>\n",
       "      <th>22</th>\n",
       "      <td>blanca</td>\n",
       "      <td>380</td>\n",
       "      <td>paquete</td>\n",
       "      <td>[23.093098, -82.423399]</td>\n",
       "      <td>Marianao</td>\n",
       "      <td>./fotos/foto141.jpg</td>\n",
       "    </tr>\n",
       "    <tr>\n",
       "      <th>23</th>\n",
       "      <td>blanca</td>\n",
       "      <td>420</td>\n",
       "      <td>libra</td>\n",
       "      <td>[23.093098, -82.423399]</td>\n",
       "      <td>Marianao</td>\n",
       "      <td>./fotos/foto141.jpg</td>\n",
       "    </tr>\n",
       "    <tr>\n",
       "      <th>24</th>\n",
       "      <td>blanca</td>\n",
       "      <td>200</td>\n",
       "      <td>libra</td>\n",
       "      <td>[23.081702, -82.435297]</td>\n",
       "      <td>Marianao</td>\n",
       "      <td>./fotos/foto150.jpg</td>\n",
       "    </tr>\n",
       "    <tr>\n",
       "      <th>25</th>\n",
       "      <td>blanca</td>\n",
       "      <td>100</td>\n",
       "      <td>libra</td>\n",
       "      <td>[23.071395, -82.428081]</td>\n",
       "      <td>Marianao</td>\n",
       "      <td>./fotos/foto93.jpg</td>\n",
       "    </tr>\n",
       "    <tr>\n",
       "      <th>26</th>\n",
       "      <td>morada</td>\n",
       "      <td>100</td>\n",
       "      <td>libra</td>\n",
       "      <td>[23.071395, -82.428081]</td>\n",
       "      <td>Marianao</td>\n",
       "      <td>./fotos/foto93.jpg</td>\n",
       "    </tr>\n",
       "  </tbody>\n",
       "</table>\n",
       "</div>"
      ],
      "text/plain": [
       "      tipo  precio categoria                                       loc   \n",
       "0   blanca     170     libra                   [23.070397, -82.431605]  \\\n",
       "1   blanca     180     libra                   [23.070276, -82.431859]   \n",
       "2   blanca     160     libra                   [23.070992, -82.431736]   \n",
       "3   blanca     180     libra                   [23.083209, -82.435319]   \n",
       "4   blanca     123   paquete                   [23.078649, -82.429396]   \n",
       "5   blanca     160     libra                   [23.079933, -82.422966]   \n",
       "6   blanca     200     libra                   [23.075319, -82.427452]   \n",
       "7   morada     200     libra                   [23.075319, -82.427452]   \n",
       "8   morada     200     libra                   [23.076247, -82.430298]   \n",
       "9   blanca     200     libra                     [23.0761, -82.434602]   \n",
       "10  blanca     180     libra                   [23.076247, -82.430298]   \n",
       "11  blanca     160     libra                    [23.07639, -82.433205]   \n",
       "12  blanca     200     libra                   [23.085776, -82.437593]   \n",
       "13  morada     200     libra                   [23.085776, -82.437593]   \n",
       "14  morada     210     libra                   [23.075319, -82.427452]   \n",
       "15  blanca     210     libra                   [23.075319, -82.427452]   \n",
       "16  blanca     200     libra                   [23.077311, -82.424813]   \n",
       "17  morada     200     libra                   [23.077311, -82.424813]   \n",
       "18  blanca     200     libra                   [23.079064, -82.428684]   \n",
       "19  morada     200     libra                   [23.084172, -82.426158]   \n",
       "20  morada     200     libra  [23.080121994018555, -82.42907188964844]   \n",
       "21  blanca     200     libra                   [23.084859, -82.424973]   \n",
       "22  blanca     380   paquete                   [23.093098, -82.423399]   \n",
       "23  blanca     420     libra                   [23.093098, -82.423399]   \n",
       "24  blanca     200     libra                   [23.081702, -82.435297]   \n",
       "25  blanca     100     libra                   [23.071395, -82.428081]   \n",
       "26  morada     100     libra                   [23.071395, -82.428081]   \n",
       "\n",
       "   municipio             imagenes  \n",
       "0   Marianao   ./fotos/foto56.jpg  \n",
       "1   Marianao   ./fotos/foto69.jpg  \n",
       "2   Marianao   ./fotos/foto53.jpg  \n",
       "3   Marianao   ./fotos/foto51.jpg  \n",
       "4   Marianao   ./fotos/foto45.jpg  \n",
       "5   Marianao   ./fotos/foto20.jpg  \n",
       "6   Marianao   ./fotos/foto19.jpg  \n",
       "7   Marianao   ./fotos/foto19.jpg  \n",
       "8   Marianao   ./fotos/foto79.jpg  \n",
       "9   Marianao  ./fotos/foto109.jpg  \n",
       "10  Marianao   ./fotos/foto18.jpg  \n",
       "11  Marianao   ./fotos/foto22.jpg  \n",
       "12  Marianao   ./fotos/foto64.jpg  \n",
       "13  Marianao   ./fotos/foto64.jpg  \n",
       "14  Marianao  ./fotos/foto114.jpg  \n",
       "15  Marianao  ./fotos/foto114.jpg  \n",
       "16  Marianao  ./fotos/foto125.jpg  \n",
       "17  Marianao  ./fotos/foto125.jpg  \n",
       "18  Marianao  ./fotos/foto134.jpg  \n",
       "19  Marianao  ./fotos/foto135.jpg  \n",
       "20  Marianao  ./fotos/foto136.jpg  \n",
       "21  Marianao  ./fotos/foto135.jpg  \n",
       "22  Marianao  ./fotos/foto141.jpg  \n",
       "23  Marianao  ./fotos/foto141.jpg  \n",
       "24  Marianao  ./fotos/foto150.jpg  \n",
       "25  Marianao   ./fotos/foto93.jpg  \n",
       "26  Marianao   ./fotos/foto93.jpg  "
      ]
     },
     "execution_count": 21,
     "metadata": {},
     "output_type": "execute_result"
    }
   ],
   "source": [
    "#Establecer la tabla de Cebolla\n",
    "cebolla = pd.DataFrame(dicc[\"cebolla\"])\n",
    "cebolla"
   ]
  },
  {
   "cell_type": "code",
   "execution_count": 5,
   "metadata": {},
   "outputs": [
    {
     "data": {
      "text/html": [
       "<div>\n",
       "<style scoped>\n",
       "    .dataframe tbody tr th:only-of-type {\n",
       "        vertical-align: middle;\n",
       "    }\n",
       "\n",
       "    .dataframe tbody tr th {\n",
       "        vertical-align: top;\n",
       "    }\n",
       "\n",
       "    .dataframe thead th {\n",
       "        text-align: right;\n",
       "    }\n",
       "</style>\n",
       "<table border=\"1\" class=\"dataframe\">\n",
       "  <thead>\n",
       "    <tr style=\"text-align: right;\">\n",
       "      <th></th>\n",
       "      <th>tipo</th>\n",
       "      <th>precio</th>\n",
       "      <th>loc</th>\n",
       "      <th>municipio</th>\n",
       "      <th>imagenes</th>\n",
       "    </tr>\n",
       "  </thead>\n",
       "  <tbody>\n",
       "    <tr>\n",
       "      <th>0</th>\n",
       "      <td>manzana</td>\n",
       "      <td>60</td>\n",
       "      <td>[23.072926, -82.431599]</td>\n",
       "      <td>Marianao</td>\n",
       "      <td>./fotos/foto37.jpg</td>\n",
       "    </tr>\n",
       "    <tr>\n",
       "      <th>1</th>\n",
       "      <td>naranja</td>\n",
       "      <td>60</td>\n",
       "      <td>[23.076412, -82.434851]</td>\n",
       "      <td>Marianao</td>\n",
       "      <td>./fotos/foto30.jpg</td>\n",
       "    </tr>\n",
       "    <tr>\n",
       "      <th>2</th>\n",
       "      <td>guanabana</td>\n",
       "      <td>80</td>\n",
       "      <td>[23.076412, -82.434851]</td>\n",
       "      <td>Marianao</td>\n",
       "      <td>./fotos/foto26.jpg</td>\n",
       "    </tr>\n",
       "    <tr>\n",
       "      <th>3</th>\n",
       "      <td>uva</td>\n",
       "      <td>60</td>\n",
       "      <td>[23.076412, -82.434851]</td>\n",
       "      <td>Marianao</td>\n",
       "      <td>./fotos/foto30.jpg</td>\n",
       "    </tr>\n",
       "    <tr>\n",
       "      <th>4</th>\n",
       "      <td>fresa</td>\n",
       "      <td>100</td>\n",
       "      <td>[23.079625, -82.434017]</td>\n",
       "      <td>Marianao</td>\n",
       "      <td>./fotos/foto48.jpg</td>\n",
       "    </tr>\n",
       "    <tr>\n",
       "      <th>...</th>\n",
       "      <td>...</td>\n",
       "      <td>...</td>\n",
       "      <td>...</td>\n",
       "      <td>...</td>\n",
       "      <td>...</td>\n",
       "    </tr>\n",
       "    <tr>\n",
       "      <th>142</th>\n",
       "      <td>guanabana</td>\n",
       "      <td>100</td>\n",
       "      <td>[23.079747, -82.434144]</td>\n",
       "      <td>Marianao</td>\n",
       "      <td>./fotos/foto144.jpg</td>\n",
       "    </tr>\n",
       "    <tr>\n",
       "      <th>143</th>\n",
       "      <td>guanabana</td>\n",
       "      <td>70</td>\n",
       "      <td>[23.080472, -82.434728]</td>\n",
       "      <td>Marianao</td>\n",
       "      <td>./fotos/foto147.jpg</td>\n",
       "    </tr>\n",
       "    <tr>\n",
       "      <th>144</th>\n",
       "      <td>manzana</td>\n",
       "      <td>70</td>\n",
       "      <td>[23.080472, -82.434728]</td>\n",
       "      <td>Marianao</td>\n",
       "      <td>./fotos/foto147.jpg</td>\n",
       "    </tr>\n",
       "    <tr>\n",
       "      <th>145</th>\n",
       "      <td>limon</td>\n",
       "      <td>70</td>\n",
       "      <td>[23.080472, -82.434728]</td>\n",
       "      <td>Marianao</td>\n",
       "      <td>./fotos/foto147.jpg</td>\n",
       "    </tr>\n",
       "    <tr>\n",
       "      <th>146</th>\n",
       "      <td>naranja</td>\n",
       "      <td>70</td>\n",
       "      <td>[23.080472, -82.434728]</td>\n",
       "      <td>Marianao</td>\n",
       "      <td>./fotos/foto147.jpg</td>\n",
       "    </tr>\n",
       "  </tbody>\n",
       "</table>\n",
       "<p>147 rows × 5 columns</p>\n",
       "</div>"
      ],
      "text/plain": [
       "          tipo  precio                      loc municipio             imagenes\n",
       "0      manzana      60  [23.072926, -82.431599]  Marianao   ./fotos/foto37.jpg\n",
       "1      naranja      60  [23.076412, -82.434851]  Marianao   ./fotos/foto30.jpg\n",
       "2    guanabana      80  [23.076412, -82.434851]  Marianao   ./fotos/foto26.jpg\n",
       "3          uva      60  [23.076412, -82.434851]  Marianao   ./fotos/foto30.jpg\n",
       "4        fresa     100  [23.079625, -82.434017]  Marianao   ./fotos/foto48.jpg\n",
       "..         ...     ...                      ...       ...                  ...\n",
       "142  guanabana     100  [23.079747, -82.434144]  Marianao  ./fotos/foto144.jpg\n",
       "143  guanabana      70  [23.080472, -82.434728]  Marianao  ./fotos/foto147.jpg\n",
       "144    manzana      70  [23.080472, -82.434728]  Marianao  ./fotos/foto147.jpg\n",
       "145      limon      70  [23.080472, -82.434728]  Marianao  ./fotos/foto147.jpg\n",
       "146    naranja      70  [23.080472, -82.434728]  Marianao  ./fotos/foto147.jpg\n",
       "\n",
       "[147 rows x 5 columns]"
      ]
     },
     "execution_count": 5,
     "metadata": {},
     "output_type": "execute_result"
    }
   ],
   "source": [
    "#Establecer la tabla de Refresco Instantaneo\n",
    "zuko = pd.DataFrame(dicc[\"zuko\"])\n",
    "zuko"
   ]
  },
  {
   "attachments": {},
   "cell_type": "markdown",
   "metadata": {},
   "source": [
    "---\n",
    "Análisis de los Datos\n",
    "---\n",
    "\n",
    "  Cada producto es independiente su análisis. Trabajamos en base a una presentación con un objetivo investigativo junto con interrogativas a responder a las cuales esperamos darle la respuesta basado en los datos de las tablas anteriores."
   ]
  },
  {
   "attachments": {},
   "cell_type": "markdown",
   "metadata": {},
   "source": [
    "# Cerveza:\n",
    "   La cerveza es una de las bebidas alcohólicas más antiguas y populares del mundo. Desde su descubrimiento hace más de 5 mil años, la cerveza ha evolucionado en diferentes formas, sabores y estilos, y se ha convertido en una parte integral de la cultura y la tradición de muchas sociedades. En la actualidad, la cerveza es una de las bebidas más consumidas en el mundo y es objeto de gran interés en la investigación científica debido a sus propiedades naturales, sus efectos en la salud y su impacto económico en la industria cervecera. Analizaremos su comportamiento en el mercado cubano, especialmente en Marianao, así como otras peculiaridades.\n",
    "\n",
    "Comenzamos haciéndonos la pregunta: ¿Qué países forman parte de la fabricación de la cerveza vendida en nuestro país y cuáles sobresalen en mayor cantidad?"
   ]
  },
  {
   "cell_type": "code",
   "execution_count": 6,
   "metadata": {},
   "outputs": [
    {
     "name": "stdout",
     "output_type": "stream",
     "text": [
      "pais                \n",
      "Paises Bajos            43\n",
      "Espana                  17\n",
      "Belgica                 15\n",
      "Cuba                    13\n",
      "Republica Dominicana     4\n",
      "Brasil                   3\n",
      "Mexico                   3\n",
      "Dinamarca                2\n",
      "Polonia                  2\n",
      "Alemania                 1\n",
      "Nicaragua                1\n",
      "Name: count, dtype: int64\n"
     ]
    },
    {
     "data": {
      "image/png": "[encoded data removed]",
      "text/plain": [
       "<Figure size 640x480 with 1 Axes>"
      ]
     },
     "metadata": {},
     "output_type": "display_data"
    }
   ],
   "source": [
    "# Establecer el diccionario de la cerveza con las categorias de maraca y pais.\n",
    "# Con la funcion (.value_counts) mostrar la cantidad de cervezas por paises. \n",
    "cerveza = pd.DataFrame(dicc[\"cerveza\"])\n",
    "cerveza_pie = cerveza.loc[:,[\"marca\", \"pais\"]].value_counts()\n",
    "cerveza_pais = cerveza.loc[:,[\"pais\"]].value_counts()\n",
    "print(cerveza_pais)\n",
    "# Crear un diccionario nuevo para agregar los paises menores de 5 cervezas y ubicarlos en en la categoria de \"Otros\"\n",
    "dicc={}\n",
    "others = 0\n",
    "dicc.update(cerveza.loc[:, [\"pais\"]].value_counts())\n",
    "final = {}\n",
    "lista=[]\n",
    "for a,b in dicc.items():\n",
    "    if b > 5:\n",
    "        for j in a:\n",
    "            final[j]=b\n",
    "            lista.append(j)\n",
    "    else:\n",
    "        others += b\n",
    "\n",
    "\n",
    "final['Otros']=others\n",
    "lista.append('Otros')\n",
    "finalsiosi = pd.Series(final)\n",
    "# Mostrar la vizualizacion en forma de pie con cada uno de los paises y su cantidad de cerveza en %\n",
    "plt.pie(finalsiosi,\n",
    "        labels=lista, autopct=\"%0.1f%%\")\n",
    "plt.show()"
   ]
  },
  {
   "attachments": {},
   "cell_type": "markdown",
   "metadata": {},
   "source": [
    "Fuente: [click](https://oec.world/es/profile/bilateral-product/beer/reporter/cub#:~:text=En%20el%20mismo%20a%C3%B1o%2C%20Cerveza%20fue%20el%20producto%20n%C3%BAmero%2023,%2C%20y%20Polonia%20(%24317k))\n",
    "\n",
    "En 2021, Cuba importó $27,7M en Cerveza, convirtiéndose en el importador número 63 de Cerveza en el mundo. En el mismo año, Cerveza fue el producto número 23 más importado en Cuba. Cuba importaciones Cerveza principalmente de: Países Bajos ($19,6M), España ($5,67M), República Dominicana ($816k), Nicaragua ($387k), y Polonia ($317k).\n",
    "\n",
    "Los mercados de importación de más rápido crecimiento en Cerveza para Cuba Entre 2020 y 2021 fueron España ($2,39M), República Dominicana ($784k), y Nicaragua ($318k).\n",
    "\n",
    "Esta información está basada en un enlace de la página del OEC y respaldada con los datos obtenidos por nosotros. A simple vista, podemos ver la diferencia en cuanto a la cantidad de cerveza vendida por países, destacándose Países Bajos, España, Bélgica y Cuba encabezando la lista, dejando a un lado en el grupo de \"Otros\" a todos aquellos países con menores o igual a 5 cervezas.\n",
    "\n",
    "Debido a las grandes importaciones de cervezas de países extranjeros y la gran disponibilidad de la cerveza de nuestro país, se ha visto un notable auge en el mercado de ventas de cervezas. Locales cuentapropistas y estatales, ambos abastecidos de este producto, lo cual amplía su disponibilidad y el acceso del público a su compra."
   ]
  },
  {
   "attachments": {},
   "cell_type": "markdown",
   "metadata": {},
   "source": [
    "### Paises Bajos, España, Bélgica y Cuba\n",
    "\n",
    "   Cuba cuenta con un gran abastecimiento de cervezas holandesas gracias a las importaciones que se han realizado de este país. El mayor porcentaje lo lleva Países Bajos y no es para menos, se dice que Holanda es uno de los mayores exportadores de cerveza de buena calidad y se ha propagado por varios países, cautivando el paladar de sus consumidores con las incorporaciones de varias marcas de renombre como Bavaria, Hollandia y Holland Import.\n",
    "\n",
    "España es uno de los países que ha experimentado un aumento en la exportación de cerveza a Cuba en los últimos años. Según los datos del Ministerio de Agricultura, Pesca y Alimentación de España, en el año 2020 se exportaron a Cuba más de 6 millones de litros de cerveza española, lo que representa un incremento del 49% en comparación con años anteriores. El aumento en la exportación se debe en parte a la creciente demanda de cerveza de calidad y la apertura del mercado cubano a productos extranjeros. Además, la cultura cervecera española, con una amplia variedad de cervezas artesanales y tradicionales, ha despertado el interés de los consumidores cubanos.  \n",
    "   Fuente:[click](https://www.mapa.gob.es/es/buscador/?q=Exportaci%C3%B3n+de+cerveza)\n",
    "   \n",
    "   Bélgica ha experimentado un auge en la exportación de la cerveza a Cuba en los últimos años. La cultura cervecera belga es conocida en todo el mundo por su variedad y calidad, y este reputado prestigio ha despertado el interés de los consumidores cubanos. Según los datos del Ministerio de Asuntos Exteriores de Bélgica, en el año 2020 se exportaron a Cuba más de 2.5 millones de litros de cerveza belga, lo que representa un incremento del 46% en comparación con años anteriores. Bélgica ha realizado esfuerzos para promover su cultura cervecera en Cuba. Por ejemplo, en el año 2018 se celebró el primer festival de cerveza belga en La Habana, en el que participaron varias cervecerías belgas y se ofrecieron degustaciones de diferentes estilos de cervezas. Cabe destacar que, aunque la cerveza belga ha experimentado un aumento en la exportación a Cuba, aún tiene una cuota de mercado pequeña en comparación con otras cervezas importadas. Además, la competencia en el mercado cubano es cada vez mayor, ya que otros países como España y Holanda también están aumentando su presencia en el mercado cervecero cubano.\n",
    "   Fuente:[click](https://www.exteriores.gob.es/documents/fichaspais/belgica_ficha%20pais.pdf)\n",
    "\n",
    "   Si bien la exportación de cerveza cubana es limitada, en los últimos tiempos ha habido un incremento en la producción y consumo de cerveza artesanal en Cuba, lo que ha llevado a un creciente interés en la cerveza cubana. Cabe destacar que la producción de la cerveza artesanal en Cuba todavía enfrenta muchos desafíos, incluyendo la falta de materias primas y equipos apropiados, así como la competencia de las cervezas importadas. Sin embargo, el interés en la cerveza artesanal cubana sigue creciendo y se espera que así sea en los próximos años.\n",
    "\n",
    "La siguiente tabla muestra la relación que existe entre las marcas de dicho país, el precio en el mercado cubano y la cantidad de cervezas extraídas por marcas, haciendo el total de cervezas con las que cuenta nuestra base de datos en este caso con los países de Países Bajos, España, Bélgica y Cuba.\n"
   ]
  },
  {
   "cell_type": "code",
   "execution_count": 7,
   "metadata": {},
   "outputs": [
    {
     "name": "stderr",
     "output_type": "stream",
     "text": [
      "c:\\Users\\nawyp\\AppData\\Local\\Programs\\Python\\Python311\\Lib\\site-packages\\seaborn\\categorical.py:3544: UserWarning: 9.1% of the points cannot be placed; you may want to decrease the size of the markers or use stripplot.\n",
      "  warnings.warn(msg, UserWarning)\n"
     ]
    },
    {
     "data": {
      "image/png": "[encoded data removed]",
      "text/plain": [
       "<Figure size 500x500 with 1 Axes>"
      ]
     },
     "metadata": {},
     "output_type": "display_data"
    },
    {
     "name": "stdout",
     "output_type": "stream",
     "text": [
      "          precio                                                           \n",
      "           count        mean        std    min    25%    50%     75%    max\n",
      "marca                                                                      \n",
      "amstel       1.0  180.000000        NaN  180.0  180.0  180.0  180.00  180.0\n",
      "bavaria      5.0  162.000000   8.366600  150.0  160.0  160.0  170.00  170.0\n",
      "holland     22.0  158.863636  11.744484  140.0  150.0  160.0  168.75  180.0\n",
      "hollandia   10.0  167.000000  16.363917  150.0  160.0  160.0  170.00  200.0\n",
      "windmill     5.0  162.000000   8.366600  150.0  160.0  160.0  170.00  170.0\n"
     ]
    },
    {
     "data": {
      "image/png": "[encoded data removed]",
      "text/plain": [
       "<Figure size 500x500 with 1 Axes>"
      ]
     },
     "metadata": {},
     "output_type": "display_data"
    },
    {
     "name": "stdout",
     "output_type": "stream",
     "text": [
      "           precio                                                          \n",
      "            count        mean        std    min    25%    50%    75%    max\n",
      "marca                                                                      \n",
      "covey         2.0  140.000000   0.000000  140.0  140.0  140.0  140.0  140.0\n",
      "la salve      2.0  150.000000  14.142136  140.0  145.0  150.0  155.0  160.0\n",
      "mahou        12.0  153.333333  12.309149  140.0  147.5  150.0  160.0  180.0\n",
      "vitalsberg    1.0  160.000000        NaN  160.0  160.0  160.0  160.0  160.0\n"
     ]
    },
    {
     "data": {
      "image/png": "[encoded data removed]",
      "text/plain": [
       "<Figure size 500x500 with 1 Axes>"
      ]
     },
     "metadata": {},
     "output_type": "display_data"
    },
    {
     "name": "stdout",
     "output_type": "stream",
     "text": [
      "              precio                                                          \n",
      "               count        mean        std    min    25%    50%    75%    max\n",
      "marca                                                                         \n",
      "belga star       2.0  170.000000  14.142136  160.0  165.0  170.0  175.0  180.0\n",
      "martens          4.0  165.000000  23.804761  150.0  150.0  155.0  170.0  200.0\n",
      "stella artois    9.0  155.555556   8.819171  140.0  150.0  160.0  160.0  170.0\n"
     ]
    },
    {
     "data": {
      "image/png": "[encoded data removed]",
      "text/plain": [
       "<Figure size 500x500 with 1 Axes>"
      ]
     },
     "metadata": {},
     "output_type": "display_data"
    },
    {
     "name": "stdout",
     "output_type": "stream",
     "text": [
      "         precio                                                          \n",
      "          count        mean        std    min    25%    50%    75%    max\n",
      "marca                                                                    \n",
      "bucanero    3.0  233.333333  28.867513  200.0  225.0  250.0  250.0  250.0\n",
      "cristal    10.0  222.000000  24.855136  200.0  200.0  210.0  250.0  250.0\n"
     ]
    }
   ],
   "source": [
    "# Importar las marcas y precios de Paises Bajos, Espana, Belgica, Cuba\n",
    "holanda=cerveza[cerveza[\"pais\"]==\"Paises Bajos\"][[\"marca\",\"precio\"]]\n",
    "espana=cerveza[cerveza[\"pais\"]==\"Espana\"][[\"marca\",\"precio\"]]\n",
    "belgica=cerveza[cerveza[\"pais\"]==\"Belgica\"][[\"marca\",\"precio\"]]\n",
    "cuba=cerveza[cerveza[\"pais\"]==\"Cuba\"][[\"marca\",\"precio\"]]\n",
    "\n",
    "# Grafica de dispercion formato abeja de Paises Bajos \n",
    "sns.catplot(x=\"marca\",\n",
    "            y=\"precio\",\n",
    "            data=holanda,\n",
    "            kind=\"swarm\", color=\"blue\",\n",
    "            s=70)\n",
    "plt.title(\"Paises Bajos\")\n",
    "plt.show()\n",
    "# Tabla para mostrar cantidad por marcas, promedio de precios, min y max, y por ciento conforme 25%, 50% y 75% de Paises Bajos\n",
    "holanda=cerveza[cerveza[\"pais\"]==\"Paises Bajos\"][[\"marca\",\"precio\"]].groupby(\"marca\").describe()\n",
    "print(holanda)\n",
    "\n",
    "# Grafica de dispercion formato abeja de Espana\n",
    "sns.catplot(x=\"marca\",\n",
    "            y=\"precio\",\n",
    "            data=espana,\n",
    "            kind=\"swarm\", color=\"orange\",\n",
    "            s=70)\n",
    "plt.title(\"Espana\")\n",
    "plt.show()\n",
    "# Tabla para mostrar cantidad por marcas, promedio de precios, min y max, y por ciento conforme 25%, 50% y 75% de Espana\n",
    "espana=cerveza[cerveza[\"pais\"]==\"Espana\"][[\"marca\",\"precio\"]].groupby(\"marca\").describe()\n",
    "print(espana)\n",
    "\n",
    "# Grafica de dispercion formato abeja de Belgica\n",
    "sns.catplot(x=\"marca\",\n",
    "            y=\"precio\",\n",
    "            data=belgica,\n",
    "            kind=\"swarm\", color=\"green\",\n",
    "            s=70)\n",
    "plt.title(\"Belgica\")\n",
    "plt.show()\n",
    "# Tabla para mostrar cantidad por marcas, promedio de precios, min y max, y por ciento conforme 25%, 50% y 75% de Belgica\n",
    "belgica=cerveza[cerveza[\"pais\"]==\"Belgica\"][[\"marca\",\"precio\"]].groupby(\"marca\").describe()\n",
    "print(belgica)\n",
    "\n",
    "# Grafica de dispercion formato abeja de Cuba\n",
    "sns.catplot(x=\"marca\",\n",
    "            y=\"precio\",\n",
    "            data=cuba,\n",
    "            kind=\"swarm\", color=\"red\",\n",
    "            s=70)\n",
    "plt.title(\"Cuba\")\n",
    "plt.show()\n",
    "# Tabla para mostrar cantidad por marcas, promedio de precios, min y max, y por ciento conforme 25%, 50% y 75% de Cuba\n",
    "cuba=cerveza[cerveza[\"pais\"]==\"Cuba\"][[\"marca\",\"precio\"]].groupby(\"marca\").describe()\n",
    "print(cuba)"
   ]
  },
  {
   "attachments": {},
   "cell_type": "markdown",
   "metadata": {},
   "source": [
    "En este gráfico se muestra la gran variedad de cervezas en el mercado representadas por marcas, sus respectivos precios y países a los que pertenecen.\n",
    "\n",
    "Cabe destacar que se saltan a la vista varios detalles, como por ejemplo, que la cerveza de nuestro país tiene un precio por encima de las importadas, lo que explica las limitaciones en la producción y la menor disponibilidad y mayor demanda de la cerveza cubana. Otro rasgo a destacar es la poca disponibilidad en el mercado de cervezas importadas de otros países que no son muy exigentes en cuanto a su demanda, como se puede ver que marcas como Colonia, Germania, Amstel, entre otras, son muy escasas en el mercado. Por otra parte, la gráfica muestra y respalda lo anteriormente expuesto, como los países con mayores importaciones en Cuba son las marcas de cerveza que más predominan en el mercado. "
   ]
  },
  {
   "cell_type": "code",
   "execution_count": 8,
   "metadata": {},
   "outputs": [
    {
     "data": {
      "image/png": "[encoded data removed]",
      "text/plain": [
       "<Figure size 905.25x700 with 1 Axes>"
      ]
     },
     "metadata": {},
     "output_type": "display_data"
    }
   ],
   "source": [
    "# Grafico de dispercion de las marcas, precios y paises de las cervezas\n",
    "sns.relplot(data=cerveza,\n",
    "            height=7,\n",
    "            x=\"precio\",\n",
    "            y=\"marca\",\n",
    "            hue=\"pais\",\n",
    "            s=70)\n",
    "plt.grid()\n",
    "plt.xticks(np.arange(130,260,10))\n",
    "plt.title(\"Cervezas\")\n",
    "plt.show()"
   ]
  },
  {
   "attachments": {},
   "cell_type": "markdown",
   "metadata": {},
   "source": [
    "---\n",
    "Claras y Oscuras\n",
    "---\n",
    "Un dato a destacar que tiene relevancia es la coloración de la cerveza. Hay variedad y se puede sacar estadísticas de la relación que puede existir entre las cervezas fuertes, oscuras y claras, suaves.\n",
    "\n",
    "La diferencia principal entre la cerveza clara y la oscura es el tipo de malta utilizada en la elaboración. La malta es uno de los ingredientes más importantes en la elaboración de la cerveza y se obtiene a partir del grano de cereales como la cebada. La cerveza clara se elabora con malta pálida. Esto resulta en una cerveza de color amarillo claro y con un sabor más suave y refrescante. Por otro lado, la cerveza oscura se elabora con maltas más oscuras y tostadas, lo que le da un color más oscuro y un sabor más intenso. En términos generales, la cerveza clara es más ligera y refrescante, mientras que la cerveza oscura es más intensa y compleja.\n",
    "\n",
    "Es un dato curioso a analizar y nos llevó a la pregunta de: ¿qué hay más, cervezas claras o oscuras? ¿Y a qué se debe esto?\n",
    "\n",
    "Este gráfico demostrará en términos visibles la respuesta a la interrogante, sigamos..."
   ]
  },
  {
   "cell_type": "code",
   "execution_count": 9,
   "metadata": {},
   "outputs": [
    {
     "name": "stdout",
     "output_type": "stream",
     "text": [
      "coloracion\n",
      "clara         99\n",
      "oscura         5\n",
      "Name: count, dtype: int64\n"
     ]
    },
    {
     "data": {
      "image/png": "[encoded data removed]",
      "text/plain": [
       "<Figure size 640x480 with 1 Axes>"
      ]
     },
     "metadata": {},
     "output_type": "display_data"
    }
   ],
   "source": [
    "# Importamos el diccionario de coloracion con la funcion (.value_counts) imprimimos las cantidades de cervezas por cada tipo\n",
    "coloracion=cerveza.loc[:,[\"coloracion\"]].value_counts()\n",
    "print(coloracion)\n",
    "# Con un grafico de barras hacemos la comparacion \n",
    "plt.bar([\"clara\",\"oscura\"], coloracion,width=1/5,color=[\"yellow\",\"grey\"])\n",
    "plt.ylabel(\"cantidad de cervezas\")\n",
    "plt.title(\"coloracion de cervezas en Marianao\")\n",
    "plt.legend(coloracion)\n",
    "plt.show()"
   ]
  },
  {
   "attachments": {},
   "cell_type": "markdown",
   "metadata": {},
   "source": [
    "Es abismal la diferencia entre una y otra, es casi como si las cervezas oscuras no existieran, y esto se debe más bien a datos geográficos que corresponden con nuestro país. Al ser Cuba un país tropical, evidentemente la necesidad del ciudadano cubano es relajar el calor a veces intenso en el que vivimos con cualquier cosa que nos refresque, bueno, ese algo en este caso es la cerveza. Está demostrado que la cerveza clara tiene mayor popularidad y es más consumida en el mundo que la cerveza oscura, y Cuba no está lejos de ser parte de eso. Con más razón, dada la evidente necesidad del ciudadano residente en Cuba de aminorar un poco y refrescarse, la mayoría opta por beber las cervezas claras por ser más refrescantes y suaves."
   ]
  },
  {
   "attachments": {},
   "cell_type": "markdown",
   "metadata": {},
   "source": [
    "---\n",
    " Cervezas Únicas\n",
    "---\n",
    "Como hablábamos anteriormente, podíamos notar con total transparencia marcas que tenían una escasez prominente en los locales de venta. Precisamente esto nos llevó a preguntarnos: ¿por qué sucede esto? ¿Y cuáles son estas marcas?\n",
    "\n",
    "La siguiente tabla muestra cuáles son estas marcas, junto con las veces en las que se encontró dicha marca en nuestra recolección, así que sigamos..."
   ]
  },
  {
   "cell_type": "code",
   "execution_count": 10,
   "metadata": {},
   "outputs": [
    {
     "data": {
      "text/html": [
       "<div>\n",
       "<style scoped>\n",
       "    .dataframe tbody tr th:only-of-type {\n",
       "        vertical-align: middle;\n",
       "    }\n",
       "\n",
       "    .dataframe tbody tr th {\n",
       "        vertical-align: top;\n",
       "    }\n",
       "\n",
       "    .dataframe thead th {\n",
       "        text-align: right;\n",
       "    }\n",
       "</style>\n",
       "<table border=\"1\" class=\"dataframe\">\n",
       "  <thead>\n",
       "    <tr style=\"text-align: right;\">\n",
       "      <th></th>\n",
       "      <th>marca</th>\n",
       "      <th>cantidad</th>\n",
       "    </tr>\n",
       "  </thead>\n",
       "  <tbody>\n",
       "    <tr>\n",
       "      <th>0</th>\n",
       "      <td>presidente</td>\n",
       "      <td>4</td>\n",
       "    </tr>\n",
       "    <tr>\n",
       "      <th>1</th>\n",
       "      <td>martens</td>\n",
       "      <td>4</td>\n",
       "    </tr>\n",
       "    <tr>\n",
       "      <th>2</th>\n",
       "      <td>bucanero</td>\n",
       "      <td>3</td>\n",
       "    </tr>\n",
       "    <tr>\n",
       "      <th>3</th>\n",
       "      <td>colonia</td>\n",
       "      <td>2</td>\n",
       "    </tr>\n",
       "    <tr>\n",
       "      <th>4</th>\n",
       "      <td>covey</td>\n",
       "      <td>2</td>\n",
       "    </tr>\n",
       "    <tr>\n",
       "      <th>5</th>\n",
       "      <td>shekels</td>\n",
       "      <td>2</td>\n",
       "    </tr>\n",
       "    <tr>\n",
       "      <th>6</th>\n",
       "      <td>belga star</td>\n",
       "      <td>2</td>\n",
       "    </tr>\n",
       "    <tr>\n",
       "      <th>7</th>\n",
       "      <td>la salve</td>\n",
       "      <td>2</td>\n",
       "    </tr>\n",
       "    <tr>\n",
       "      <th>8</th>\n",
       "      <td>vitalsberg</td>\n",
       "      <td>1</td>\n",
       "    </tr>\n",
       "    <tr>\n",
       "      <th>9</th>\n",
       "      <td>timber</td>\n",
       "      <td>1</td>\n",
       "    </tr>\n",
       "    <tr>\n",
       "      <th>10</th>\n",
       "      <td>amstel</td>\n",
       "      <td>1</td>\n",
       "    </tr>\n",
       "    <tr>\n",
       "      <th>11</th>\n",
       "      <td>patronus</td>\n",
       "      <td>1</td>\n",
       "    </tr>\n",
       "    <tr>\n",
       "      <th>12</th>\n",
       "      <td>halcon peregrino</td>\n",
       "      <td>1</td>\n",
       "    </tr>\n",
       "    <tr>\n",
       "      <th>13</th>\n",
       "      <td>germania</td>\n",
       "      <td>1</td>\n",
       "    </tr>\n",
       "    <tr>\n",
       "      <th>14</th>\n",
       "      <td>faxe</td>\n",
       "      <td>1</td>\n",
       "    </tr>\n",
       "    <tr>\n",
       "      <th>15</th>\n",
       "      <td>corona</td>\n",
       "      <td>1</td>\n",
       "    </tr>\n",
       "    <tr>\n",
       "      <th>16</th>\n",
       "      <td>beer</td>\n",
       "      <td>1</td>\n",
       "    </tr>\n",
       "    <tr>\n",
       "      <th>17</th>\n",
       "      <td>zubr</td>\n",
       "      <td>1</td>\n",
       "    </tr>\n",
       "  </tbody>\n",
       "</table>\n",
       "</div>"
      ],
      "text/plain": [
       "               marca  cantidad\n",
       "0         presidente         4\n",
       "1            martens         4\n",
       "2           bucanero         3\n",
       "3            colonia         2\n",
       "4              covey         2\n",
       "5            shekels         2\n",
       "6         belga star         2\n",
       "7           la salve         2\n",
       "8         vitalsberg         1\n",
       "9             timber         1\n",
       "10            amstel         1\n",
       "11          patronus         1\n",
       "12  halcon peregrino         1\n",
       "13          germania         1\n",
       "14              faxe         1\n",
       "15            corona         1\n",
       "16              beer         1\n",
       "17              zubr         1"
      ]
     },
     "execution_count": 10,
     "metadata": {},
     "output_type": "execute_result"
    }
   ],
   "source": [
    "# Importamos del diccionario las marcas y con la funcion(.value_counts) ponemos las repeticiones de la marca\n",
    "marcas=cerveza.loc[:,[\"marca\"]].value_counts()\n",
    "marcas\n",
    "# Con el for recorremos el dicc y por cada marca que tenga menores de 5 en repeticiones las ubicamos en un diccionario aparte\n",
    "una={}\n",
    "lista1=[]\n",
    "for a,b in marcas.items():\n",
    "    if b < 5:\n",
    "        for j in a:\n",
    "            una[j]=b\n",
    "            lista1.append(j)\n",
    "unasi = pd.Series(una)\n",
    "pocas=pd.DataFrame(unasi)\n",
    "\n",
    "#Cambiar indice\n",
    "pocas = pocas.reset_index()\n",
    "\n",
    "#Renombrar columnas\n",
    "pocas = pocas.rename({\"index\": \"marca\", 0 :\"cantidad\"}, axis= 1)\n",
    "\n",
    "pocas"
   ]
  },
  {
   "attachments": {},
   "cell_type": "markdown",
   "metadata": {},
   "source": [
    "En el listado encontramos varias marcas y a su lado derecho la cantidad de veces encontradas. Esto nos lleva a decir que, por el número de repeticiones, son cervezas que no tienen alta disponibilidad en los locales de venta de esta bebida.\n",
    "\n",
    "Hay varias razones. La primera es principalmente por la dificultad de producción antes vista y esto sucede en el caso de cervezas de Cuba como la Bucanero. Su difícil producción limita su disponibilidad, a eso sumarle lo anterior referible a la comparación entre las cervezas claras y oscuras. Bucanero, al ser cerveza oscura, su producción es menor debido a la popularidad de las cervezas claras y la unión de estas problemáticas son factores que de una forma u otra afectan la demanda de esta marca y eso se ve reflejado en los datos.\n",
    "\n",
    "La otra razón es simple, ya que algunas de estas marcas como son la Zubr, Corona, Germania y entre otras forman parte del conjunto de países que aún no tienen gran auge en la exportación de cerveza con Cuba. Al ser reducida la entrada al país y bastante limitada, como es de esperar, su disponibilidad será relativa y variada con respecto a los lugares. Se priorizarán provinciasy municipios del país con más desenvolvimiento económico, donde será más factible al país recuperar la ganancia. Debido a esto, municipios como Marianao son los que van a mediados en la lista, por lo cual provoca una escasez de estas marcas de cerveza.\n",
    "\n",
    "Continuemos..."
   ]
  },
  {
   "attachments": {},
   "cell_type": "markdown",
   "metadata": {},
   "source": [
    "---\n",
    "Ubicaciones\n",
    "---\n",
    "Sobre este tema, fue un dato muy curioso, ya que al analizar las cervezas por su ubicación, nos dimos cuenta de una diferencia que ocurría en la mayoría de las cervezas. Marianao tiene varios lugares céntricos, pero ninguno como los hospitales, que es donde hay mayor movimiento de personas cerca de esos lugares, lo que implica que hay mayor movimiento de dinero. Dada esta situación, nos dimos cuenta de que en los locales y ubicaciones cerca de estos lugares céntricos, el precio de la cerveza varía, o sea que es mayor en comparación con los lugares alejados de esta ubicación. Como demostración de nuestra teoría, tomamos como ejemplo el Hospital Militar de Marianao \"Carlos J. Finlay\" y como muestra localidades de venta de cerveza Cristal para hacer esta comparación que le mostramos a continuación en un mapa... "
   ]
  },
  {
   "cell_type": "code",
   "execution_count": 16,
   "metadata": {},
   "outputs": [
    {
     "name": "stderr",
     "output_type": "stream",
     "text": [
      "C:\\Users\\nawyp\\AppData\\Local\\Temp\\ipykernel_15084\\480435476.py:2: UserWarning: Boolean Series key will be reindexed to match DataFrame index.\n",
      "  cristal_cara=cerveza[cerveza[\"marca\"]==\"cristal\"][cerveza[\"precio\"]==250][[\"imagenes\"]]\n"
     ]
    },
    {
     "name": "stdout",
     "output_type": "stream",
     "text": [
      "                imagenes\n",
      "16    ./fotos/foto16.jpg\n",
      "31    ./fotos/foto48.jpg\n",
      "51    ./fotos/foto68.jpg\n",
      "100  ./fotos/foto144.jpg\n",
      "_______________________________\n",
      "imagenes    ./fotos/foto96.jpg\n",
      "Name: 65, dtype: object\n",
      "imagenes    ./fotos/foto101.jpg\n",
      "Name: 72, dtype: object\n",
      "imagenes    ./fotos/foto129.jpg\n",
      "Name: 86, dtype: object\n"
     ]
    },
    {
     "data": {
      "text/html": [
       "<div style=\"width:100%;\"><div style=\"position:relative;width:100%;height:0;padding-bottom:60%;\"><span style=\"color:#565656\">Make this Notebook Trusted to load map: File -> Trust Notebook</span><iframe srcdoc=\"&lt;!DOCTYPE html&gt;\n",
       "&lt;html&gt;\n",
       "&lt;head&gt;\n",
       "    \n",
       "    &lt;meta http-equiv=&quot;content-type&quot; content=&quot;text/html; charset=UTF-8&quot; /&gt;\n",
       "    \n",
       "        &lt;script&gt;\n",
       "            L_NO_TOUCH = false;\n",
       "            L_DISABLE_3D = false;\n",
       "        &lt;/script&gt;\n",
       "    \n",
       "    &lt;style&gt;html, body {width: 100%;height: 100%;margin: 0;padding: 0;}&lt;/style&gt;\n",
       "    &lt;style&gt;#map {position:absolute;top:0;bottom:0;right:0;left:0;}&lt;/style&gt;\n",
       "    &lt;script src=&quot;https://cdn.jsdelivr.net/npm/leaflet@1.9.3/dist/leaflet.js&quot;&gt;&lt;/script&gt;\n",
       "    &lt;script src=&quot;https://code.jquery.com/jquery-1.12.4.min.js&quot;&gt;&lt;/script&gt;\n",
       "    &lt;script src=&quot;https://cdn.jsdelivr.net/npm/bootstrap@5.2.2/dist/js/bootstrap.bundle.min.js&quot;&gt;&lt;/script&gt;\n",
       "    &lt;script src=&quot;https://cdnjs.cloudflare.com/ajax/libs/Leaflet.awesome-markers/2.0.2/leaflet.awesome-markers.js&quot;&gt;&lt;/script&gt;\n",
       "    &lt;link rel=&quot;stylesheet&quot; href=&quot;https://cdn.jsdelivr.net/npm/leaflet@1.9.3/dist/leaflet.css&quot;/&gt;\n",
       "    &lt;link rel=&quot;stylesheet&quot; href=&quot;https://cdn.jsdelivr.net/npm/bootstrap@5.2.2/dist/css/bootstrap.min.css&quot;/&gt;\n",
       "    &lt;link rel=&quot;stylesheet&quot; href=&quot;https://netdna.bootstrapcdn.com/bootstrap/3.0.0/css/bootstrap.min.css&quot;/&gt;\n",
       "    &lt;link rel=&quot;stylesheet&quot; href=&quot;https://cdn.jsdelivr.net/npm/@fortawesome/fontawesome-free@6.2.0/css/all.min.css&quot;/&gt;\n",
       "    &lt;link rel=&quot;stylesheet&quot; href=&quot;https://cdnjs.cloudflare.com/ajax/libs/Leaflet.awesome-markers/2.0.2/leaflet.awesome-markers.css&quot;/&gt;\n",
       "    &lt;link rel=&quot;stylesheet&quot; href=&quot;https://cdn.jsdelivr.net/gh/python-visualization/folium/folium/templates/leaflet.awesome.rotate.min.css&quot;/&gt;\n",
       "    \n",
       "            &lt;meta name=&quot;viewport&quot; content=&quot;width=device-width,\n",
       "                initial-scale=1.0, maximum-scale=1.0, user-scalable=no&quot; /&gt;\n",
       "            &lt;style&gt;\n",
       "                #map_3a0a31726d938679442408b0c62ac1d5 {\n",
       "                    position: relative;\n",
       "                    width: 100.0%;\n",
       "                    height: 100.0%;\n",
       "                    left: 0.0%;\n",
       "                    top: 0.0%;\n",
       "                }\n",
       "                .leaflet-container { font-size: 1rem; }\n",
       "            &lt;/style&gt;\n",
       "        \n",
       "&lt;/head&gt;\n",
       "&lt;body&gt;\n",
       "    \n",
       "    \n",
       "            &lt;div class=&quot;folium-map&quot; id=&quot;map_3a0a31726d938679442408b0c62ac1d5&quot; &gt;&lt;/div&gt;\n",
       "        \n",
       "&lt;/body&gt;\n",
       "&lt;script&gt;\n",
       "    \n",
       "    \n",
       "            var map_3a0a31726d938679442408b0c62ac1d5 = L.map(\n",
       "                &quot;map_3a0a31726d938679442408b0c62ac1d5&quot;,\n",
       "                {\n",
       "                    center: [23.077808380126953, -82.43482208251953],\n",
       "                    crs: L.CRS.EPSG3857,\n",
       "                    zoom: 16,\n",
       "                    zoomControl: true,\n",
       "                    preferCanvas: false,\n",
       "                }\n",
       "            );\n",
       "\n",
       "            \n",
       "\n",
       "        \n",
       "    \n",
       "            var tile_layer_23118d83e1fd9334cdb512005c19530f = L.tileLayer(\n",
       "                &quot;https://{s}.tile.openstreetmap.org/{z}/{x}/{y}.png&quot;,\n",
       "                {&quot;attribution&quot;: &quot;Data by \\u0026copy; \\u003ca target=\\&quot;_blank\\&quot; href=\\&quot;http://openstreetmap.org\\&quot;\\u003eOpenStreetMap\\u003c/a\\u003e, under \\u003ca target=\\&quot;_blank\\&quot; href=\\&quot;http://www.openstreetmap.org/copyright\\&quot;\\u003eODbL\\u003c/a\\u003e.&quot;, &quot;detectRetina&quot;: false, &quot;maxNativeZoom&quot;: 18, &quot;maxZoom&quot;: 18, &quot;minZoom&quot;: 0, &quot;noWrap&quot;: false, &quot;opacity&quot;: 1, &quot;subdomains&quot;: &quot;abc&quot;, &quot;tms&quot;: false}\n",
       "            ).addTo(map_3a0a31726d938679442408b0c62ac1d5);\n",
       "        \n",
       "    \n",
       "            var marker_32a1ab85a0cfb3bf3dc74acdf8f17143 = L.marker(\n",
       "                [23.077808380126953, -82.43482208251953],\n",
       "                {}\n",
       "            ).addTo(map_3a0a31726d938679442408b0c62ac1d5);\n",
       "        \n",
       "    \n",
       "        var popup_e9f59295c003d055466cd54ae5fca92d = L.popup({&quot;maxWidth&quot;: &quot;100%&quot;});\n",
       "\n",
       "        \n",
       "            \n",
       "                var html_d5b810a873f1ae7a4c8464acfec68c67 = $(`&lt;div id=&quot;html_d5b810a873f1ae7a4c8464acfec68c67&quot; style=&quot;width: 100.0%; height: 100.0%;&quot;&gt;marca                  cristal precio                     250 imagenes    ./fotos/foto16.jpg Name: 16, dtype: object&lt;/div&gt;`)[0];\n",
       "                popup_e9f59295c003d055466cd54ae5fca92d.setContent(html_d5b810a873f1ae7a4c8464acfec68c67);\n",
       "            \n",
       "        \n",
       "\n",
       "        marker_32a1ab85a0cfb3bf3dc74acdf8f17143.bindPopup(popup_e9f59295c003d055466cd54ae5fca92d)\n",
       "        ;\n",
       "\n",
       "        \n",
       "    \n",
       "    \n",
       "            var marker_af24c73aa71e30fbc482eb65f96eb7a5 = L.marker(\n",
       "                [23.079451, -82.433925],\n",
       "                {}\n",
       "            ).addTo(map_3a0a31726d938679442408b0c62ac1d5);\n",
       "        \n",
       "    \n",
       "        var popup_bfe7aa318d767ade49295bac14e722ca = L.popup({&quot;maxWidth&quot;: &quot;100%&quot;});\n",
       "\n",
       "        \n",
       "            \n",
       "                var html_210b353a2f240b603b24fecdd646b6f2 = $(`&lt;div id=&quot;html_210b353a2f240b603b24fecdd646b6f2&quot; style=&quot;width: 100.0%; height: 100.0%;&quot;&gt;marca                  cristal precio                     250 imagenes    ./fotos/foto48.jpg Name: 31, dtype: object&lt;/div&gt;`)[0];\n",
       "                popup_bfe7aa318d767ade49295bac14e722ca.setContent(html_210b353a2f240b603b24fecdd646b6f2);\n",
       "            \n",
       "        \n",
       "\n",
       "        marker_af24c73aa71e30fbc482eb65f96eb7a5.bindPopup(popup_bfe7aa318d767ade49295bac14e722ca)\n",
       "        ;\n",
       "\n",
       "        \n",
       "    \n",
       "    \n",
       "            var marker_2379a31b387c3498f1296e0641143441 = L.marker(\n",
       "                [23.083871841430664, -82.4378662109375],\n",
       "                {}\n",
       "            ).addTo(map_3a0a31726d938679442408b0c62ac1d5);\n",
       "        \n",
       "    \n",
       "        var popup_0b2f02267313e613a71903565b7d9c52 = L.popup({&quot;maxWidth&quot;: &quot;100%&quot;});\n",
       "\n",
       "        \n",
       "            \n",
       "                var html_bc1828d20ac673ed8e7c23a0b48d8c6e = $(`&lt;div id=&quot;html_bc1828d20ac673ed8e7c23a0b48d8c6e&quot; style=&quot;width: 100.0%; height: 100.0%;&quot;&gt;marca                  cristal precio                     250 imagenes    ./fotos/foto68.jpg Name: 51, dtype: object&lt;/div&gt;`)[0];\n",
       "                popup_0b2f02267313e613a71903565b7d9c52.setContent(html_bc1828d20ac673ed8e7c23a0b48d8c6e);\n",
       "            \n",
       "        \n",
       "\n",
       "        marker_2379a31b387c3498f1296e0641143441.bindPopup(popup_0b2f02267313e613a71903565b7d9c52)\n",
       "        ;\n",
       "\n",
       "        \n",
       "    \n",
       "    \n",
       "            var marker_f7421263dbc92baf19c054dff4b8d11c = L.marker(\n",
       "                [23.079816, -82.434184],\n",
       "                {}\n",
       "            ).addTo(map_3a0a31726d938679442408b0c62ac1d5);\n",
       "        \n",
       "    \n",
       "        var popup_88afbc70cafdd168a326040dba849ebc = L.popup({&quot;maxWidth&quot;: &quot;100%&quot;});\n",
       "\n",
       "        \n",
       "            \n",
       "                var html_5f1745847ac6b37779590e4fc0142861 = $(`&lt;div id=&quot;html_5f1745847ac6b37779590e4fc0142861&quot; style=&quot;width: 100.0%; height: 100.0%;&quot;&gt;marca                   cristal precio                      250 imagenes    ./fotos/foto144.jpg Name: 100, dtype: object&lt;/div&gt;`)[0];\n",
       "                popup_88afbc70cafdd168a326040dba849ebc.setContent(html_5f1745847ac6b37779590e4fc0142861);\n",
       "            \n",
       "        \n",
       "\n",
       "        marker_f7421263dbc92baf19c054dff4b8d11c.bindPopup(popup_88afbc70cafdd168a326040dba849ebc)\n",
       "        ;\n",
       "\n",
       "        \n",
       "    \n",
       "    \n",
       "            var marker_b22acdab891ed15261ae74b76f4e5e42 = L.marker(\n",
       "                [23.070939, -82.430533],\n",
       "                {}\n",
       "            ).addTo(map_3a0a31726d938679442408b0c62ac1d5);\n",
       "        \n",
       "    \n",
       "            var icon_3ed2be1fbadce7309723b48008c9db78 = L.AwesomeMarkers.icon(\n",
       "                {&quot;extraClasses&quot;: &quot;fa-rotate-0&quot;, &quot;icon&quot;: &quot;info-sign&quot;, &quot;iconColor&quot;: &quot;white&quot;, &quot;markerColor&quot;: &quot;red&quot;, &quot;prefix&quot;: &quot;glyphicon&quot;}\n",
       "            );\n",
       "            marker_b22acdab891ed15261ae74b76f4e5e42.setIcon(icon_3ed2be1fbadce7309723b48008c9db78);\n",
       "        \n",
       "    \n",
       "        var popup_9b18a7edbef3a8e194a0f2d47a92b94d = L.popup({&quot;maxWidth&quot;: &quot;100%&quot;});\n",
       "\n",
       "        \n",
       "            \n",
       "                var html_bc64a79ace381b671e586a2b54b505f6 = $(`&lt;div id=&quot;html_bc64a79ace381b671e586a2b54b505f6&quot; style=&quot;width: 100.0%; height: 100.0%;&quot;&gt;marca                  cristal precio                     200 imagenes    ./fotos/foto96.jpg Name: 65, dtype: object&lt;/div&gt;`)[0];\n",
       "                popup_9b18a7edbef3a8e194a0f2d47a92b94d.setContent(html_bc64a79ace381b671e586a2b54b505f6);\n",
       "            \n",
       "        \n",
       "\n",
       "        marker_b22acdab891ed15261ae74b76f4e5e42.bindPopup(popup_9b18a7edbef3a8e194a0f2d47a92b94d)\n",
       "        ;\n",
       "\n",
       "        \n",
       "    \n",
       "    \n",
       "            var marker_363361dc9e162a1b50b45bee38e9256e = L.marker(\n",
       "                [23.07157, -82.432557],\n",
       "                {}\n",
       "            ).addTo(map_3a0a31726d938679442408b0c62ac1d5);\n",
       "        \n",
       "    \n",
       "            var icon_b671ec02d0016a1f35decce91dfad754 = L.AwesomeMarkers.icon(\n",
       "                {&quot;extraClasses&quot;: &quot;fa-rotate-0&quot;, &quot;icon&quot;: &quot;info-sign&quot;, &quot;iconColor&quot;: &quot;white&quot;, &quot;markerColor&quot;: &quot;red&quot;, &quot;prefix&quot;: &quot;glyphicon&quot;}\n",
       "            );\n",
       "            marker_363361dc9e162a1b50b45bee38e9256e.setIcon(icon_b671ec02d0016a1f35decce91dfad754);\n",
       "        \n",
       "    \n",
       "        var popup_cf52bf74a164745190eeacfac89e1ffe = L.popup({&quot;maxWidth&quot;: &quot;100%&quot;});\n",
       "\n",
       "        \n",
       "            \n",
       "                var html_f7bcbcf9bb0014a2c8f0b6b4b5aaf4dc = $(`&lt;div id=&quot;html_f7bcbcf9bb0014a2c8f0b6b4b5aaf4dc&quot; style=&quot;width: 100.0%; height: 100.0%;&quot;&gt;marca                   cristal precio                      200 imagenes    ./fotos/foto101.jpg Name: 72, dtype: object&lt;/div&gt;`)[0];\n",
       "                popup_cf52bf74a164745190eeacfac89e1ffe.setContent(html_f7bcbcf9bb0014a2c8f0b6b4b5aaf4dc);\n",
       "            \n",
       "        \n",
       "\n",
       "        marker_363361dc9e162a1b50b45bee38e9256e.bindPopup(popup_cf52bf74a164745190eeacfac89e1ffe)\n",
       "        ;\n",
       "\n",
       "        \n",
       "    \n",
       "    \n",
       "            var marker_c255b5fb7cbe3d80b3317ff525b36b33 = L.marker(\n",
       "                [23.077112197875977, -82.42804718017578],\n",
       "                {}\n",
       "            ).addTo(map_3a0a31726d938679442408b0c62ac1d5);\n",
       "        \n",
       "    \n",
       "            var icon_a223c04719bdcf2d9dca9882348d42e0 = L.AwesomeMarkers.icon(\n",
       "                {&quot;extraClasses&quot;: &quot;fa-rotate-0&quot;, &quot;icon&quot;: &quot;info-sign&quot;, &quot;iconColor&quot;: &quot;white&quot;, &quot;markerColor&quot;: &quot;red&quot;, &quot;prefix&quot;: &quot;glyphicon&quot;}\n",
       "            );\n",
       "            marker_c255b5fb7cbe3d80b3317ff525b36b33.setIcon(icon_a223c04719bdcf2d9dca9882348d42e0);\n",
       "        \n",
       "    \n",
       "        var popup_f746abbf4c60d10e24bfac038ee54704 = L.popup({&quot;maxWidth&quot;: &quot;100%&quot;});\n",
       "\n",
       "        \n",
       "            \n",
       "                var html_59d1427e946f3e5d72093082f6e4e965 = $(`&lt;div id=&quot;html_59d1427e946f3e5d72093082f6e4e965&quot; style=&quot;width: 100.0%; height: 100.0%;&quot;&gt;marca                   cristal precio                      200 imagenes    ./fotos/foto129.jpg Name: 86, dtype: object&lt;/div&gt;`)[0];\n",
       "                popup_f746abbf4c60d10e24bfac038ee54704.setContent(html_59d1427e946f3e5d72093082f6e4e965);\n",
       "            \n",
       "        \n",
       "\n",
       "        marker_c255b5fb7cbe3d80b3317ff525b36b33.bindPopup(popup_f746abbf4c60d10e24bfac038ee54704)\n",
       "        ;\n",
       "\n",
       "        \n",
       "    \n",
       "&lt;/script&gt;\n",
       "&lt;/html&gt;\" style=\"position:absolute;width:100%;height:100%;left:0;top:0;border:none !important;\" allowfullscreen webkitallowfullscreen mozallowfullscreen></iframe></div></div>"
      ],
      "text/plain": [
       "<folium.folium.Map at 0x26e168a4310>"
      ]
     },
     "execution_count": 16,
     "metadata": {},
     "output_type": "execute_result"
    }
   ],
   "source": [
    "# Accedemos al diccionario de cerveza con la marca cristal y el precio 250 para imprimir las imagenes \n",
    "cristal_cara=cerveza[cerveza[\"marca\"]==\"cristal\"][cerveza[\"precio\"]==250][[\"imagenes\"]]\n",
    "print(cristal_cara)\n",
    "print(\"_______________________________\")\n",
    "\n",
    "\n",
    "# Codigos de localizacion de las cervezas\n",
    "cristal16=pd.DataFrame(dicc[\"cerveza\"][16][\"loc\"])\n",
    "mar_pre16=cerveza.loc[16][[\"marca\",\"precio\",\"imagenes\"]]\n",
    "popuptext1=mar_pre16\n",
    "\n",
    "cristal31=pd.DataFrame(dicc[\"cerveza\"][31][\"loc\"])\n",
    "mar_pre31=cerveza.loc[31][[\"marca\",\"precio\",\"imagenes\"]]\n",
    "popuptext2=mar_pre31\n",
    "\n",
    "cristal51=pd.DataFrame(dicc[\"cerveza\"][51][\"loc\"])\n",
    "mar_pre51=cerveza.loc[51][[\"marca\",\"precio\",\"imagenes\"]]\n",
    "popuptext3=mar_pre51\n",
    "\n",
    "cristal100=pd.DataFrame(dicc[\"cerveza\"][100][\"loc\"])\n",
    "mar_pre100=cerveza.loc[100][[\"marca\",\"precio\",\"imagenes\"]]\n",
    "popuptext4=mar_pre100\n",
    "\n",
    "cristal65=pd.DataFrame(dicc[\"cerveza\"][65][\"loc\"])\n",
    "mar_pre65=cerveza.loc[65][[\"marca\",\"precio\",\"imagenes\"]]\n",
    "popuptext5=mar_pre65\n",
    "foto65=cerveza.loc[65][[\"imagenes\"]]\n",
    "print(foto65)\n",
    "\n",
    "cristal72=pd.DataFrame(dicc[\"cerveza\"][72][\"loc\"])\n",
    "mar_pre72=cerveza.loc[72][[\"marca\",\"precio\",\"imagenes\"]]\n",
    "popuptext6=mar_pre72\n",
    "foto72=cerveza.loc[72][[\"imagenes\"]]\n",
    "print(foto72)\n",
    "\n",
    "cristal86=pd.DataFrame(dicc[\"cerveza\"][86][\"loc\"])\n",
    "mar_pre86=cerveza.loc[86][[\"marca\",\"precio\",\"imagenes\"]]\n",
    "popuptext7=mar_pre86\n",
    "foto86=cerveza.loc[86][[\"imagenes\"]]\n",
    "print(foto86)\n",
    "# Importamos la biblioteca de folium para representar el mapa\n",
    "import folium\n",
    "from folium.plugins import MiniMap\n",
    "# Ajustamos cada una de las localizaciones y las personalizamos\n",
    "mapa=folium.Map(location=cristal16,zoom_start=16)\n",
    "folium.Marker(location=cristal16,popup=popuptext1).add_to(mapa)\n",
    "folium.Marker(location=cristal31,popup=popuptext2).add_to(mapa)\n",
    "folium.Marker(location=cristal51,popup=popuptext3).add_to(mapa)\n",
    "folium.Marker(location=cristal100,popup=popuptext4).add_to(mapa)\n",
    "folium.Marker(location=cristal65,popup=popuptext5,icon=folium.Icon(color=\"red\")).add_to(mapa)\n",
    "folium.Marker(location=cristal72,popup=popuptext6,icon=folium.Icon(color=\"red\")).add_to(mapa)\n",
    "folium.Marker(location=cristal86,popup=popuptext7,icon=folium.Icon(color=\"red\")).add_to(mapa)\n",
    "mapa"
   ]
  },
  {
   "attachments": {},
   "cell_type": "markdown",
   "metadata": {},
   "source": [
    "Como podemos ver el mapa demuestra nuestra teoria. Existe diferencia entre la venta de cerveza cerca de lugares centricos con respecto a los lugares mas alejados. Y esto se debe a lo antes mencionado, mientras mas personas visiten con frecuencias estos lugares es directamente proporcional a la diferencia de precio, no siempre tiene porque ocurrir pero la mayoria de las veces sucedes y esta es la demostracion de que existe."
   ]
  },
  {
   "attachments": {},
   "cell_type": "markdown",
   "metadata": {},
   "source": [
    "---\n",
    "Cebolla\n",
    "---\n",
    "Pasamos al otro producto y es el turno de la cebolla.\n",
    "\n",
    "La cebolla es una hortaliza común en todo el mundo y ha sido utilizada por la humanidad a miles de años. Desde la antigüedad, la cebolla ha sido valorada tanto por sus propiedades culinarias como medicinales, y ha sido objeto de estudio en numerosas investigaciones científicas debido a sus posibles beneficios en la salud. Y se ha ganado esta vez el lugar de ser analizada e investigada por nosotros. Así que vamos a ver diferentes datos y análisis de este producto. "
   ]
  },
  {
   "attachments": {},
   "cell_type": "markdown",
   "metadata": {},
   "source": [
    "### Su disponibilidad en el mercado \n",
    "La cebolla es un producto que en Cuba podemos verlo y localizarlo igualmente en agros, mercados, puestos e incluso en cualquier vendedor ambulante con una carreta, pero aún así, en el municipio Marianao, nos ha costado encontrarla. Así que, teniendo las localizaciones de los lugares donde encontramos cebollas y las que no encontramos, hicimos la comparación por medio de otro mapa de la disponibilidad de la cebolla en el municipio."
   ]
  },
  {
   "cell_type": "code",
   "execution_count": 17,
   "metadata": {},
   "outputs": [
    {
     "data": {
      "image/png": "[encoded data removed]",
      "text/plain": [
       "<Figure size 640x480 with 1 Axes>"
      ]
     },
     "metadata": {},
     "output_type": "display_data"
    }
   ],
   "source": [
    "# Accedemos al diccionario de la cebolla y al de la falta de disponibilidad. Con la funcion(.value_counts) en imagenes para contar las ubicaciones\n",
    "cebolla = pd.DataFrame(dicc[\"cebolla\"])\n",
    "cebolla1 =cebolla.loc[:,[\"imagenes\"]].value_counts()\n",
    "falta_disponibilidad=pd.DataFrame(dicc[\"falta_disponibilidad\"])\n",
    "falta=falta_disponibilidad.loc[:,[\"imagenes\"]].value_counts()\n",
    "# Con el for recorremos los diccionarios los sacamos y los ponemos en el mismo diccionario con el nombre de \"Disponibilidad\" y \"No Disponibilidad\"\n",
    "dicc={}\n",
    "dicc1={}\n",
    "others = 0\n",
    "other=0\n",
    "dicc.update(cebolla.loc[:, [\"imagenes\"]].value_counts())\n",
    "dicc1.update(falta_disponibilidad.loc[:,[\"imagenes\"]].value_counts())\n",
    "final = {}\n",
    "lista=[]\n",
    "for a,b in dicc.items():\n",
    "    if b > 3:\n",
    "        for j in a:\n",
    "            final[j]=b\n",
    "            lista.append(j)\n",
    "    else:\n",
    "        others += b\n",
    "\n",
    "for a,b in dicc1.items():\n",
    "    if b==1:\n",
    "        other+=b\n",
    "\n",
    "final[\"No Disponible\"]=other\n",
    "lista.append(\"No Disponible\")\n",
    "        \n",
    "final['Disponible']=others\n",
    "lista.append('Disponible')\n",
    "finalsiosi = pd.Series(final)\n",
    "# Grafico de Pai \n",
    "plt.pie(finalsiosi,\n",
    "        labels=lista, autopct=\"%0.1f%%\")\n",
    "plt.title(\"Disponibilidad de la cebolla en Marianao\")\n",
    "plt.legend(finalsiosi)\n",
    "plt.show()"
   ]
  },
  {
   "cell_type": "code",
   "execution_count": 22,
   "metadata": {},
   "outputs": [
    {
     "data": {
      "text/html": [
       "<div style=\"width:100%;\"><div style=\"position:relative;width:100%;height:0;padding-bottom:60%;\"><span style=\"color:#565656\">Make this Notebook Trusted to load map: File -> Trust Notebook</span><iframe srcdoc=\"&lt;!DOCTYPE html&gt;\n",
       "&lt;html&gt;\n",
       "&lt;head&gt;\n",
       "    \n",
       "    &lt;meta http-equiv=&quot;content-type&quot; content=&quot;text/html; charset=UTF-8&quot; /&gt;\n",
       "    \n",
       "        &lt;script&gt;\n",
       "            L_NO_TOUCH = false;\n",
       "            L_DISABLE_3D = false;\n",
       "        &lt;/script&gt;\n",
       "    \n",
       "    &lt;style&gt;html, body {width: 100%;height: 100%;margin: 0;padding: 0;}&lt;/style&gt;\n",
       "    &lt;style&gt;#map {position:absolute;top:0;bottom:0;right:0;left:0;}&lt;/style&gt;\n",
       "    &lt;script src=&quot;https://cdn.jsdelivr.net/npm/leaflet@1.9.3/dist/leaflet.js&quot;&gt;&lt;/script&gt;\n",
       "    &lt;script src=&quot;https://code.jquery.com/jquery-1.12.4.min.js&quot;&gt;&lt;/script&gt;\n",
       "    &lt;script src=&quot;https://cdn.jsdelivr.net/npm/bootstrap@5.2.2/dist/js/bootstrap.bundle.min.js&quot;&gt;&lt;/script&gt;\n",
       "    &lt;script src=&quot;https://cdnjs.cloudflare.com/ajax/libs/Leaflet.awesome-markers/2.0.2/leaflet.awesome-markers.js&quot;&gt;&lt;/script&gt;\n",
       "    &lt;link rel=&quot;stylesheet&quot; href=&quot;https://cdn.jsdelivr.net/npm/leaflet@1.9.3/dist/leaflet.css&quot;/&gt;\n",
       "    &lt;link rel=&quot;stylesheet&quot; href=&quot;https://cdn.jsdelivr.net/npm/bootstrap@5.2.2/dist/css/bootstrap.min.css&quot;/&gt;\n",
       "    &lt;link rel=&quot;stylesheet&quot; href=&quot;https://netdna.bootstrapcdn.com/bootstrap/3.0.0/css/bootstrap.min.css&quot;/&gt;\n",
       "    &lt;link rel=&quot;stylesheet&quot; href=&quot;https://cdn.jsdelivr.net/npm/@fortawesome/fontawesome-free@6.2.0/css/all.min.css&quot;/&gt;\n",
       "    &lt;link rel=&quot;stylesheet&quot; href=&quot;https://cdnjs.cloudflare.com/ajax/libs/Leaflet.awesome-markers/2.0.2/leaflet.awesome-markers.css&quot;/&gt;\n",
       "    &lt;link rel=&quot;stylesheet&quot; href=&quot;https://cdn.jsdelivr.net/gh/python-visualization/folium/folium/templates/leaflet.awesome.rotate.min.css&quot;/&gt;\n",
       "    \n",
       "            &lt;meta name=&quot;viewport&quot; content=&quot;width=device-width,\n",
       "                initial-scale=1.0, maximum-scale=1.0, user-scalable=no&quot; /&gt;\n",
       "            &lt;style&gt;\n",
       "                #map_dc1c7ac7dd6abb94038330b9723e8eef {\n",
       "                    position: relative;\n",
       "                    width: 100.0%;\n",
       "                    height: 100.0%;\n",
       "                    left: 0.0%;\n",
       "                    top: 0.0%;\n",
       "                }\n",
       "                .leaflet-container { font-size: 1rem; }\n",
       "            &lt;/style&gt;\n",
       "        \n",
       "&lt;/head&gt;\n",
       "&lt;body&gt;\n",
       "    \n",
       "    \n",
       "            &lt;div class=&quot;folium-map&quot; id=&quot;map_dc1c7ac7dd6abb94038330b9723e8eef&quot; &gt;&lt;/div&gt;\n",
       "        \n",
       "&lt;/body&gt;\n",
       "&lt;script&gt;\n",
       "    \n",
       "    \n",
       "            var map_dc1c7ac7dd6abb94038330b9723e8eef = L.map(\n",
       "                &quot;map_dc1c7ac7dd6abb94038330b9723e8eef&quot;,\n",
       "                {\n",
       "                    center: [23.070397, -82.431605],\n",
       "                    crs: L.CRS.EPSG3857,\n",
       "                    zoom: 16,\n",
       "                    zoomControl: true,\n",
       "                    preferCanvas: false,\n",
       "                }\n",
       "            );\n",
       "\n",
       "            \n",
       "\n",
       "        \n",
       "    \n",
       "            var tile_layer_a87fc1732dfb5d00ffaefc3e0da8bb56 = L.tileLayer(\n",
       "                &quot;https://{s}.tile.openstreetmap.org/{z}/{x}/{y}.png&quot;,\n",
       "                {&quot;attribution&quot;: &quot;Data by \\u0026copy; \\u003ca target=\\&quot;_blank\\&quot; href=\\&quot;http://openstreetmap.org\\&quot;\\u003eOpenStreetMap\\u003c/a\\u003e, under \\u003ca target=\\&quot;_blank\\&quot; href=\\&quot;http://www.openstreetmap.org/copyright\\&quot;\\u003eODbL\\u003c/a\\u003e.&quot;, &quot;detectRetina&quot;: false, &quot;maxNativeZoom&quot;: 18, &quot;maxZoom&quot;: 18, &quot;minZoom&quot;: 0, &quot;noWrap&quot;: false, &quot;opacity&quot;: 1, &quot;subdomains&quot;: &quot;abc&quot;, &quot;tms&quot;: false}\n",
       "            ).addTo(map_dc1c7ac7dd6abb94038330b9723e8eef);\n",
       "        \n",
       "    \n",
       "            var marker_a3fd0b73bf9adf9ca02562f10c745773 = L.marker(\n",
       "                [23.070397, -82.431605],\n",
       "                {}\n",
       "            ).addTo(map_dc1c7ac7dd6abb94038330b9723e8eef);\n",
       "        \n",
       "    \n",
       "            var icon_46bea53aa80f347926867b107a5409e0 = L.AwesomeMarkers.icon(\n",
       "                {&quot;extraClasses&quot;: &quot;fa-rotate-0&quot;, &quot;icon&quot;: &quot;info-sign&quot;, &quot;iconColor&quot;: &quot;white&quot;, &quot;markerColor&quot;: &quot;green&quot;, &quot;prefix&quot;: &quot;glyphicon&quot;}\n",
       "            );\n",
       "            marker_a3fd0b73bf9adf9ca02562f10c745773.setIcon(icon_46bea53aa80f347926867b107a5409e0);\n",
       "        \n",
       "    \n",
       "        var popup_067fd36d97291050d10efd0ca9912004 = L.popup({&quot;maxWidth&quot;: &quot;100%&quot;});\n",
       "\n",
       "        \n",
       "            \n",
       "                var html_cb30d068328f208bb9ed21222eef1654 = $(`&lt;div id=&quot;html_cb30d068328f208bb9ed21222eef1654&quot; style=&quot;width: 100.0%; height: 100.0%;&quot;&gt;Disponible&lt;/div&gt;`)[0];\n",
       "                popup_067fd36d97291050d10efd0ca9912004.setContent(html_cb30d068328f208bb9ed21222eef1654);\n",
       "            \n",
       "        \n",
       "\n",
       "        marker_a3fd0b73bf9adf9ca02562f10c745773.bindPopup(popup_067fd36d97291050d10efd0ca9912004)\n",
       "        ;\n",
       "\n",
       "        \n",
       "    \n",
       "    \n",
       "            var marker_62a1bea4c30bcbe289c15b3fccb1bb64 = L.marker(\n",
       "                [23.070276, -82.431859],\n",
       "                {}\n",
       "            ).addTo(map_dc1c7ac7dd6abb94038330b9723e8eef);\n",
       "        \n",
       "    \n",
       "            var icon_379822000528a17a726ed0b47f5d110d = L.AwesomeMarkers.icon(\n",
       "                {&quot;extraClasses&quot;: &quot;fa-rotate-0&quot;, &quot;icon&quot;: &quot;info-sign&quot;, &quot;iconColor&quot;: &quot;white&quot;, &quot;markerColor&quot;: &quot;green&quot;, &quot;prefix&quot;: &quot;glyphicon&quot;}\n",
       "            );\n",
       "            marker_62a1bea4c30bcbe289c15b3fccb1bb64.setIcon(icon_379822000528a17a726ed0b47f5d110d);\n",
       "        \n",
       "    \n",
       "        var popup_2bff8ccea01b05e459156d88c626fd63 = L.popup({&quot;maxWidth&quot;: &quot;100%&quot;});\n",
       "\n",
       "        \n",
       "            \n",
       "                var html_913ab8f87ba60d6b394a717e776bb504 = $(`&lt;div id=&quot;html_913ab8f87ba60d6b394a717e776bb504&quot; style=&quot;width: 100.0%; height: 100.0%;&quot;&gt;Disponible&lt;/div&gt;`)[0];\n",
       "                popup_2bff8ccea01b05e459156d88c626fd63.setContent(html_913ab8f87ba60d6b394a717e776bb504);\n",
       "            \n",
       "        \n",
       "\n",
       "        marker_62a1bea4c30bcbe289c15b3fccb1bb64.bindPopup(popup_2bff8ccea01b05e459156d88c626fd63)\n",
       "        ;\n",
       "\n",
       "        \n",
       "    \n",
       "    \n",
       "            var marker_2d7620c64e43e4b99a55a608cb4f4f0a = L.marker(\n",
       "                [23.070992, -82.431736],\n",
       "                {}\n",
       "            ).addTo(map_dc1c7ac7dd6abb94038330b9723e8eef);\n",
       "        \n",
       "    \n",
       "            var icon_8b756fcf5ee9d5c2b12bd53b29fe624e = L.AwesomeMarkers.icon(\n",
       "                {&quot;extraClasses&quot;: &quot;fa-rotate-0&quot;, &quot;icon&quot;: &quot;info-sign&quot;, &quot;iconColor&quot;: &quot;white&quot;, &quot;markerColor&quot;: &quot;green&quot;, &quot;prefix&quot;: &quot;glyphicon&quot;}\n",
       "            );\n",
       "            marker_2d7620c64e43e4b99a55a608cb4f4f0a.setIcon(icon_8b756fcf5ee9d5c2b12bd53b29fe624e);\n",
       "        \n",
       "    \n",
       "        var popup_95f171a244c46c0e2f43636a42286881 = L.popup({&quot;maxWidth&quot;: &quot;100%&quot;});\n",
       "\n",
       "        \n",
       "            \n",
       "                var html_d3f46664b56a89bd5954d848d10de554 = $(`&lt;div id=&quot;html_d3f46664b56a89bd5954d848d10de554&quot; style=&quot;width: 100.0%; height: 100.0%;&quot;&gt;Disponible&lt;/div&gt;`)[0];\n",
       "                popup_95f171a244c46c0e2f43636a42286881.setContent(html_d3f46664b56a89bd5954d848d10de554);\n",
       "            \n",
       "        \n",
       "\n",
       "        marker_2d7620c64e43e4b99a55a608cb4f4f0a.bindPopup(popup_95f171a244c46c0e2f43636a42286881)\n",
       "        ;\n",
       "\n",
       "        \n",
       "    \n",
       "    \n",
       "            var marker_ad0c59616b3f753a120d688b71ead8de = L.marker(\n",
       "                [23.083209, -82.435319],\n",
       "                {}\n",
       "            ).addTo(map_dc1c7ac7dd6abb94038330b9723e8eef);\n",
       "        \n",
       "    \n",
       "            var icon_5ce354777a0fd750d167488768e297a8 = L.AwesomeMarkers.icon(\n",
       "                {&quot;extraClasses&quot;: &quot;fa-rotate-0&quot;, &quot;icon&quot;: &quot;info-sign&quot;, &quot;iconColor&quot;: &quot;white&quot;, &quot;markerColor&quot;: &quot;green&quot;, &quot;prefix&quot;: &quot;glyphicon&quot;}\n",
       "            );\n",
       "            marker_ad0c59616b3f753a120d688b71ead8de.setIcon(icon_5ce354777a0fd750d167488768e297a8);\n",
       "        \n",
       "    \n",
       "        var popup_efa6db61ca2effa1aeeaed17ebc7f59f = L.popup({&quot;maxWidth&quot;: &quot;100%&quot;});\n",
       "\n",
       "        \n",
       "            \n",
       "                var html_444ed4939fc886e8f1f569b2764aeb84 = $(`&lt;div id=&quot;html_444ed4939fc886e8f1f569b2764aeb84&quot; style=&quot;width: 100.0%; height: 100.0%;&quot;&gt;Disponible&lt;/div&gt;`)[0];\n",
       "                popup_efa6db61ca2effa1aeeaed17ebc7f59f.setContent(html_444ed4939fc886e8f1f569b2764aeb84);\n",
       "            \n",
       "        \n",
       "\n",
       "        marker_ad0c59616b3f753a120d688b71ead8de.bindPopup(popup_efa6db61ca2effa1aeeaed17ebc7f59f)\n",
       "        ;\n",
       "\n",
       "        \n",
       "    \n",
       "    \n",
       "            var marker_ea0ad970bace1dd600b8b5d91c832efe = L.marker(\n",
       "                [23.078649, -82.429396],\n",
       "                {}\n",
       "            ).addTo(map_dc1c7ac7dd6abb94038330b9723e8eef);\n",
       "        \n",
       "    \n",
       "            var icon_57f253de31ea9b9f6d7776b347061141 = L.AwesomeMarkers.icon(\n",
       "                {&quot;extraClasses&quot;: &quot;fa-rotate-0&quot;, &quot;icon&quot;: &quot;info-sign&quot;, &quot;iconColor&quot;: &quot;white&quot;, &quot;markerColor&quot;: &quot;green&quot;, &quot;prefix&quot;: &quot;glyphicon&quot;}\n",
       "            );\n",
       "            marker_ea0ad970bace1dd600b8b5d91c832efe.setIcon(icon_57f253de31ea9b9f6d7776b347061141);\n",
       "        \n",
       "    \n",
       "        var popup_6a2d9a6591a89ae0c2fad143a0045aba = L.popup({&quot;maxWidth&quot;: &quot;100%&quot;});\n",
       "\n",
       "        \n",
       "            \n",
       "                var html_333932ec2d8fdb2ad29edd685ecebd0c = $(`&lt;div id=&quot;html_333932ec2d8fdb2ad29edd685ecebd0c&quot; style=&quot;width: 100.0%; height: 100.0%;&quot;&gt;Disponible&lt;/div&gt;`)[0];\n",
       "                popup_6a2d9a6591a89ae0c2fad143a0045aba.setContent(html_333932ec2d8fdb2ad29edd685ecebd0c);\n",
       "            \n",
       "        \n",
       "\n",
       "        marker_ea0ad970bace1dd600b8b5d91c832efe.bindPopup(popup_6a2d9a6591a89ae0c2fad143a0045aba)\n",
       "        ;\n",
       "\n",
       "        \n",
       "    \n",
       "    \n",
       "            var marker_746ed3787ce3e7ae820a256b6654aa22 = L.marker(\n",
       "                [23.079933, -82.422966],\n",
       "                {}\n",
       "            ).addTo(map_dc1c7ac7dd6abb94038330b9723e8eef);\n",
       "        \n",
       "    \n",
       "            var icon_639bad6a35c46b5ba7cfa47cf93aa038 = L.AwesomeMarkers.icon(\n",
       "                {&quot;extraClasses&quot;: &quot;fa-rotate-0&quot;, &quot;icon&quot;: &quot;info-sign&quot;, &quot;iconColor&quot;: &quot;white&quot;, &quot;markerColor&quot;: &quot;green&quot;, &quot;prefix&quot;: &quot;glyphicon&quot;}\n",
       "            );\n",
       "            marker_746ed3787ce3e7ae820a256b6654aa22.setIcon(icon_639bad6a35c46b5ba7cfa47cf93aa038);\n",
       "        \n",
       "    \n",
       "        var popup_362d474d8f38655c3938c2dba7476864 = L.popup({&quot;maxWidth&quot;: &quot;100%&quot;});\n",
       "\n",
       "        \n",
       "            \n",
       "                var html_12da372dde370ac76fd63793dc6ccf70 = $(`&lt;div id=&quot;html_12da372dde370ac76fd63793dc6ccf70&quot; style=&quot;width: 100.0%; height: 100.0%;&quot;&gt;Disponible&lt;/div&gt;`)[0];\n",
       "                popup_362d474d8f38655c3938c2dba7476864.setContent(html_12da372dde370ac76fd63793dc6ccf70);\n",
       "            \n",
       "        \n",
       "\n",
       "        marker_746ed3787ce3e7ae820a256b6654aa22.bindPopup(popup_362d474d8f38655c3938c2dba7476864)\n",
       "        ;\n",
       "\n",
       "        \n",
       "    \n",
       "    \n",
       "            var marker_bc7913314ef0287ec899506941b1bf8d = L.marker(\n",
       "                [23.075319, -82.427452],\n",
       "                {}\n",
       "            ).addTo(map_dc1c7ac7dd6abb94038330b9723e8eef);\n",
       "        \n",
       "    \n",
       "            var icon_edce335b3304d3319cf7512bfe628ebc = L.AwesomeMarkers.icon(\n",
       "                {&quot;extraClasses&quot;: &quot;fa-rotate-0&quot;, &quot;icon&quot;: &quot;info-sign&quot;, &quot;iconColor&quot;: &quot;white&quot;, &quot;markerColor&quot;: &quot;green&quot;, &quot;prefix&quot;: &quot;glyphicon&quot;}\n",
       "            );\n",
       "            marker_bc7913314ef0287ec899506941b1bf8d.setIcon(icon_edce335b3304d3319cf7512bfe628ebc);\n",
       "        \n",
       "    \n",
       "        var popup_0806969519788a53a9f00dd5b00748a6 = L.popup({&quot;maxWidth&quot;: &quot;100%&quot;});\n",
       "\n",
       "        \n",
       "            \n",
       "                var html_588a4ec8fa3df69132610eccc118b809 = $(`&lt;div id=&quot;html_588a4ec8fa3df69132610eccc118b809&quot; style=&quot;width: 100.0%; height: 100.0%;&quot;&gt;Disponible&lt;/div&gt;`)[0];\n",
       "                popup_0806969519788a53a9f00dd5b00748a6.setContent(html_588a4ec8fa3df69132610eccc118b809);\n",
       "            \n",
       "        \n",
       "\n",
       "        marker_bc7913314ef0287ec899506941b1bf8d.bindPopup(popup_0806969519788a53a9f00dd5b00748a6)\n",
       "        ;\n",
       "\n",
       "        \n",
       "    \n",
       "    \n",
       "            var marker_b69d9aeb532de94faac9a27df2c375fa = L.marker(\n",
       "                [23.076247, -82.430298],\n",
       "                {}\n",
       "            ).addTo(map_dc1c7ac7dd6abb94038330b9723e8eef);\n",
       "        \n",
       "    \n",
       "            var icon_6cab1282f52b3026b3994e3be8a4b30b = L.AwesomeMarkers.icon(\n",
       "                {&quot;extraClasses&quot;: &quot;fa-rotate-0&quot;, &quot;icon&quot;: &quot;info-sign&quot;, &quot;iconColor&quot;: &quot;white&quot;, &quot;markerColor&quot;: &quot;green&quot;, &quot;prefix&quot;: &quot;glyphicon&quot;}\n",
       "            );\n",
       "            marker_b69d9aeb532de94faac9a27df2c375fa.setIcon(icon_6cab1282f52b3026b3994e3be8a4b30b);\n",
       "        \n",
       "    \n",
       "        var popup_c847bf8aced58d27c917dd15c4f3117e = L.popup({&quot;maxWidth&quot;: &quot;100%&quot;});\n",
       "\n",
       "        \n",
       "            \n",
       "                var html_bd253dcd8a7386c604cee9e3a24b1cf0 = $(`&lt;div id=&quot;html_bd253dcd8a7386c604cee9e3a24b1cf0&quot; style=&quot;width: 100.0%; height: 100.0%;&quot;&gt;Disponible&lt;/div&gt;`)[0];\n",
       "                popup_c847bf8aced58d27c917dd15c4f3117e.setContent(html_bd253dcd8a7386c604cee9e3a24b1cf0);\n",
       "            \n",
       "        \n",
       "\n",
       "        marker_b69d9aeb532de94faac9a27df2c375fa.bindPopup(popup_c847bf8aced58d27c917dd15c4f3117e)\n",
       "        ;\n",
       "\n",
       "        \n",
       "    \n",
       "    \n",
       "            var marker_e00d1c1825de59befb3217810d07b4ac = L.marker(\n",
       "                [23.0761, -82.434602],\n",
       "                {}\n",
       "            ).addTo(map_dc1c7ac7dd6abb94038330b9723e8eef);\n",
       "        \n",
       "    \n",
       "            var icon_c72344a61d681ddcd50f3fb84e4a1cf5 = L.AwesomeMarkers.icon(\n",
       "                {&quot;extraClasses&quot;: &quot;fa-rotate-0&quot;, &quot;icon&quot;: &quot;info-sign&quot;, &quot;iconColor&quot;: &quot;white&quot;, &quot;markerColor&quot;: &quot;green&quot;, &quot;prefix&quot;: &quot;glyphicon&quot;}\n",
       "            );\n",
       "            marker_e00d1c1825de59befb3217810d07b4ac.setIcon(icon_c72344a61d681ddcd50f3fb84e4a1cf5);\n",
       "        \n",
       "    \n",
       "        var popup_c74db56b156805a3d08da9cec3347682 = L.popup({&quot;maxWidth&quot;: &quot;100%&quot;});\n",
       "\n",
       "        \n",
       "            \n",
       "                var html_bcb53fe7e385b0284e4c86e8e9b752d7 = $(`&lt;div id=&quot;html_bcb53fe7e385b0284e4c86e8e9b752d7&quot; style=&quot;width: 100.0%; height: 100.0%;&quot;&gt;Disponible&lt;/div&gt;`)[0];\n",
       "                popup_c74db56b156805a3d08da9cec3347682.setContent(html_bcb53fe7e385b0284e4c86e8e9b752d7);\n",
       "            \n",
       "        \n",
       "\n",
       "        marker_e00d1c1825de59befb3217810d07b4ac.bindPopup(popup_c74db56b156805a3d08da9cec3347682)\n",
       "        ;\n",
       "\n",
       "        \n",
       "    \n",
       "    \n",
       "            var marker_5107de94cf916ea1c2d149bfba826597 = L.marker(\n",
       "                [23.07639, -82.433205],\n",
       "                {}\n",
       "            ).addTo(map_dc1c7ac7dd6abb94038330b9723e8eef);\n",
       "        \n",
       "    \n",
       "            var icon_141c7f1bfe811d66fb97fb2823ce2379 = L.AwesomeMarkers.icon(\n",
       "                {&quot;extraClasses&quot;: &quot;fa-rotate-0&quot;, &quot;icon&quot;: &quot;info-sign&quot;, &quot;iconColor&quot;: &quot;white&quot;, &quot;markerColor&quot;: &quot;green&quot;, &quot;prefix&quot;: &quot;glyphicon&quot;}\n",
       "            );\n",
       "            marker_5107de94cf916ea1c2d149bfba826597.setIcon(icon_141c7f1bfe811d66fb97fb2823ce2379);\n",
       "        \n",
       "    \n",
       "        var popup_2869555b06a834b8ca08089006fd94a3 = L.popup({&quot;maxWidth&quot;: &quot;100%&quot;});\n",
       "\n",
       "        \n",
       "            \n",
       "                var html_09530dcfacbc0cabf9aaa0889d168d6d = $(`&lt;div id=&quot;html_09530dcfacbc0cabf9aaa0889d168d6d&quot; style=&quot;width: 100.0%; height: 100.0%;&quot;&gt;Disponible&lt;/div&gt;`)[0];\n",
       "                popup_2869555b06a834b8ca08089006fd94a3.setContent(html_09530dcfacbc0cabf9aaa0889d168d6d);\n",
       "            \n",
       "        \n",
       "\n",
       "        marker_5107de94cf916ea1c2d149bfba826597.bindPopup(popup_2869555b06a834b8ca08089006fd94a3)\n",
       "        ;\n",
       "\n",
       "        \n",
       "    \n",
       "    \n",
       "            var marker_8ff713d622365d007258576401abe397 = L.marker(\n",
       "                [23.085776, -82.437593],\n",
       "                {}\n",
       "            ).addTo(map_dc1c7ac7dd6abb94038330b9723e8eef);\n",
       "        \n",
       "    \n",
       "            var icon_6b21693bf65a5c5ab9dfc1a1f1149136 = L.AwesomeMarkers.icon(\n",
       "                {&quot;extraClasses&quot;: &quot;fa-rotate-0&quot;, &quot;icon&quot;: &quot;info-sign&quot;, &quot;iconColor&quot;: &quot;white&quot;, &quot;markerColor&quot;: &quot;green&quot;, &quot;prefix&quot;: &quot;glyphicon&quot;}\n",
       "            );\n",
       "            marker_8ff713d622365d007258576401abe397.setIcon(icon_6b21693bf65a5c5ab9dfc1a1f1149136);\n",
       "        \n",
       "    \n",
       "        var popup_48e538766d298f8e1e86622138cfe026 = L.popup({&quot;maxWidth&quot;: &quot;100%&quot;});\n",
       "\n",
       "        \n",
       "            \n",
       "                var html_1db85c7131fe73682ee97e476abed679 = $(`&lt;div id=&quot;html_1db85c7131fe73682ee97e476abed679&quot; style=&quot;width: 100.0%; height: 100.0%;&quot;&gt;Disponible&lt;/div&gt;`)[0];\n",
       "                popup_48e538766d298f8e1e86622138cfe026.setContent(html_1db85c7131fe73682ee97e476abed679);\n",
       "            \n",
       "        \n",
       "\n",
       "        marker_8ff713d622365d007258576401abe397.bindPopup(popup_48e538766d298f8e1e86622138cfe026)\n",
       "        ;\n",
       "\n",
       "        \n",
       "    \n",
       "    \n",
       "            var marker_9389e82dc76fd293cd19e344fd95c1d1 = L.marker(\n",
       "                [23.075319, -82.427452],\n",
       "                {}\n",
       "            ).addTo(map_dc1c7ac7dd6abb94038330b9723e8eef);\n",
       "        \n",
       "    \n",
       "            var icon_3c395b07e8d2265f77a03b51902ee7d9 = L.AwesomeMarkers.icon(\n",
       "                {&quot;extraClasses&quot;: &quot;fa-rotate-0&quot;, &quot;icon&quot;: &quot;info-sign&quot;, &quot;iconColor&quot;: &quot;white&quot;, &quot;markerColor&quot;: &quot;green&quot;, &quot;prefix&quot;: &quot;glyphicon&quot;}\n",
       "            );\n",
       "            marker_9389e82dc76fd293cd19e344fd95c1d1.setIcon(icon_3c395b07e8d2265f77a03b51902ee7d9);\n",
       "        \n",
       "    \n",
       "        var popup_ea74e1c58d9bbbd1d6ed59abb6b1eb56 = L.popup({&quot;maxWidth&quot;: &quot;100%&quot;});\n",
       "\n",
       "        \n",
       "            \n",
       "                var html_559ce8d823454817f4c13e2f1d2742db = $(`&lt;div id=&quot;html_559ce8d823454817f4c13e2f1d2742db&quot; style=&quot;width: 100.0%; height: 100.0%;&quot;&gt;Disponible&lt;/div&gt;`)[0];\n",
       "                popup_ea74e1c58d9bbbd1d6ed59abb6b1eb56.setContent(html_559ce8d823454817f4c13e2f1d2742db);\n",
       "            \n",
       "        \n",
       "\n",
       "        marker_9389e82dc76fd293cd19e344fd95c1d1.bindPopup(popup_ea74e1c58d9bbbd1d6ed59abb6b1eb56)\n",
       "        ;\n",
       "\n",
       "        \n",
       "    \n",
       "    \n",
       "            var marker_95cce23b42aebfb22a9ed19106ade717 = L.marker(\n",
       "                [23.077311, -82.424813],\n",
       "                {}\n",
       "            ).addTo(map_dc1c7ac7dd6abb94038330b9723e8eef);\n",
       "        \n",
       "    \n",
       "            var icon_93d4bae70f81d3d63fb179de1e870569 = L.AwesomeMarkers.icon(\n",
       "                {&quot;extraClasses&quot;: &quot;fa-rotate-0&quot;, &quot;icon&quot;: &quot;info-sign&quot;, &quot;iconColor&quot;: &quot;white&quot;, &quot;markerColor&quot;: &quot;green&quot;, &quot;prefix&quot;: &quot;glyphicon&quot;}\n",
       "            );\n",
       "            marker_95cce23b42aebfb22a9ed19106ade717.setIcon(icon_93d4bae70f81d3d63fb179de1e870569);\n",
       "        \n",
       "    \n",
       "        var popup_7d897c2d19eb49f848f7abd01cb56e46 = L.popup({&quot;maxWidth&quot;: &quot;100%&quot;});\n",
       "\n",
       "        \n",
       "            \n",
       "                var html_08406049f6ec313a1810de6bf565347a = $(`&lt;div id=&quot;html_08406049f6ec313a1810de6bf565347a&quot; style=&quot;width: 100.0%; height: 100.0%;&quot;&gt;Disponible&lt;/div&gt;`)[0];\n",
       "                popup_7d897c2d19eb49f848f7abd01cb56e46.setContent(html_08406049f6ec313a1810de6bf565347a);\n",
       "            \n",
       "        \n",
       "\n",
       "        marker_95cce23b42aebfb22a9ed19106ade717.bindPopup(popup_7d897c2d19eb49f848f7abd01cb56e46)\n",
       "        ;\n",
       "\n",
       "        \n",
       "    \n",
       "    \n",
       "            var marker_c8f558bbe602cfd73d8361091c06e294 = L.marker(\n",
       "                [23.079064, -82.428684],\n",
       "                {}\n",
       "            ).addTo(map_dc1c7ac7dd6abb94038330b9723e8eef);\n",
       "        \n",
       "    \n",
       "            var icon_8c4633770a43c0c9af240a9685e81189 = L.AwesomeMarkers.icon(\n",
       "                {&quot;extraClasses&quot;: &quot;fa-rotate-0&quot;, &quot;icon&quot;: &quot;info-sign&quot;, &quot;iconColor&quot;: &quot;white&quot;, &quot;markerColor&quot;: &quot;green&quot;, &quot;prefix&quot;: &quot;glyphicon&quot;}\n",
       "            );\n",
       "            marker_c8f558bbe602cfd73d8361091c06e294.setIcon(icon_8c4633770a43c0c9af240a9685e81189);\n",
       "        \n",
       "    \n",
       "        var popup_859338e50a891aaef1a471fe0c6fd87d = L.popup({&quot;maxWidth&quot;: &quot;100%&quot;});\n",
       "\n",
       "        \n",
       "            \n",
       "                var html_7a982982e8e1cd5d9c2e76273faaba67 = $(`&lt;div id=&quot;html_7a982982e8e1cd5d9c2e76273faaba67&quot; style=&quot;width: 100.0%; height: 100.0%;&quot;&gt;Disponible&lt;/div&gt;`)[0];\n",
       "                popup_859338e50a891aaef1a471fe0c6fd87d.setContent(html_7a982982e8e1cd5d9c2e76273faaba67);\n",
       "            \n",
       "        \n",
       "\n",
       "        marker_c8f558bbe602cfd73d8361091c06e294.bindPopup(popup_859338e50a891aaef1a471fe0c6fd87d)\n",
       "        ;\n",
       "\n",
       "        \n",
       "    \n",
       "    \n",
       "            var marker_950641f08f6d6d1fbb8132e5a41bdcd1 = L.marker(\n",
       "                [23.084172, -82.426158],\n",
       "                {}\n",
       "            ).addTo(map_dc1c7ac7dd6abb94038330b9723e8eef);\n",
       "        \n",
       "    \n",
       "            var icon_8b11d02c5d2fab7ddcc9e1ed229710cd = L.AwesomeMarkers.icon(\n",
       "                {&quot;extraClasses&quot;: &quot;fa-rotate-0&quot;, &quot;icon&quot;: &quot;info-sign&quot;, &quot;iconColor&quot;: &quot;white&quot;, &quot;markerColor&quot;: &quot;green&quot;, &quot;prefix&quot;: &quot;glyphicon&quot;}\n",
       "            );\n",
       "            marker_950641f08f6d6d1fbb8132e5a41bdcd1.setIcon(icon_8b11d02c5d2fab7ddcc9e1ed229710cd);\n",
       "        \n",
       "    \n",
       "        var popup_7f3989ed3d29e4ad754634901bbb9c83 = L.popup({&quot;maxWidth&quot;: &quot;100%&quot;});\n",
       "\n",
       "        \n",
       "            \n",
       "                var html_82614cb6f8b4ffb0474dd68524bdc257 = $(`&lt;div id=&quot;html_82614cb6f8b4ffb0474dd68524bdc257&quot; style=&quot;width: 100.0%; height: 100.0%;&quot;&gt;Disponible&lt;/div&gt;`)[0];\n",
       "                popup_7f3989ed3d29e4ad754634901bbb9c83.setContent(html_82614cb6f8b4ffb0474dd68524bdc257);\n",
       "            \n",
       "        \n",
       "\n",
       "        marker_950641f08f6d6d1fbb8132e5a41bdcd1.bindPopup(popup_7f3989ed3d29e4ad754634901bbb9c83)\n",
       "        ;\n",
       "\n",
       "        \n",
       "    \n",
       "    \n",
       "            var marker_b0673353ab70a690eb7e4fb29457fb22 = L.marker(\n",
       "                [23.080121994018555, -82.42907188964844],\n",
       "                {}\n",
       "            ).addTo(map_dc1c7ac7dd6abb94038330b9723e8eef);\n",
       "        \n",
       "    \n",
       "            var icon_c7d2b03df50345ff60d902da5613f767 = L.AwesomeMarkers.icon(\n",
       "                {&quot;extraClasses&quot;: &quot;fa-rotate-0&quot;, &quot;icon&quot;: &quot;info-sign&quot;, &quot;iconColor&quot;: &quot;white&quot;, &quot;markerColor&quot;: &quot;green&quot;, &quot;prefix&quot;: &quot;glyphicon&quot;}\n",
       "            );\n",
       "            marker_b0673353ab70a690eb7e4fb29457fb22.setIcon(icon_c7d2b03df50345ff60d902da5613f767);\n",
       "        \n",
       "    \n",
       "        var popup_fd38355b76e41a932c583eb345e11bd7 = L.popup({&quot;maxWidth&quot;: &quot;100%&quot;});\n",
       "\n",
       "        \n",
       "            \n",
       "                var html_62280347305ee4ba0da71b10de37bbbd = $(`&lt;div id=&quot;html_62280347305ee4ba0da71b10de37bbbd&quot; style=&quot;width: 100.0%; height: 100.0%;&quot;&gt;Disponible&lt;/div&gt;`)[0];\n",
       "                popup_fd38355b76e41a932c583eb345e11bd7.setContent(html_62280347305ee4ba0da71b10de37bbbd);\n",
       "            \n",
       "        \n",
       "\n",
       "        marker_b0673353ab70a690eb7e4fb29457fb22.bindPopup(popup_fd38355b76e41a932c583eb345e11bd7)\n",
       "        ;\n",
       "\n",
       "        \n",
       "    \n",
       "    \n",
       "            var marker_70978c2228ee6ebce3c33f6cec7ac33f = L.marker(\n",
       "                [23.084859, -82.424973],\n",
       "                {}\n",
       "            ).addTo(map_dc1c7ac7dd6abb94038330b9723e8eef);\n",
       "        \n",
       "    \n",
       "            var icon_72b838028872cbc05e67f82c67411cfa = L.AwesomeMarkers.icon(\n",
       "                {&quot;extraClasses&quot;: &quot;fa-rotate-0&quot;, &quot;icon&quot;: &quot;info-sign&quot;, &quot;iconColor&quot;: &quot;white&quot;, &quot;markerColor&quot;: &quot;green&quot;, &quot;prefix&quot;: &quot;glyphicon&quot;}\n",
       "            );\n",
       "            marker_70978c2228ee6ebce3c33f6cec7ac33f.setIcon(icon_72b838028872cbc05e67f82c67411cfa);\n",
       "        \n",
       "    \n",
       "        var popup_f530d301647840f6ca4f4afefe734964 = L.popup({&quot;maxWidth&quot;: &quot;100%&quot;});\n",
       "\n",
       "        \n",
       "            \n",
       "                var html_b8e10b05b1eeffdffd3e525ee9b0eccc = $(`&lt;div id=&quot;html_b8e10b05b1eeffdffd3e525ee9b0eccc&quot; style=&quot;width: 100.0%; height: 100.0%;&quot;&gt;Disponible&lt;/div&gt;`)[0];\n",
       "                popup_f530d301647840f6ca4f4afefe734964.setContent(html_b8e10b05b1eeffdffd3e525ee9b0eccc);\n",
       "            \n",
       "        \n",
       "\n",
       "        marker_70978c2228ee6ebce3c33f6cec7ac33f.bindPopup(popup_f530d301647840f6ca4f4afefe734964)\n",
       "        ;\n",
       "\n",
       "        \n",
       "    \n",
       "    \n",
       "            var marker_64e0ae8f5fff53e1d43443fc20a49c51 = L.marker(\n",
       "                [23.093098, -82.423399],\n",
       "                {}\n",
       "            ).addTo(map_dc1c7ac7dd6abb94038330b9723e8eef);\n",
       "        \n",
       "    \n",
       "            var icon_97a90072478ba2d3234f0e67aa98d8b5 = L.AwesomeMarkers.icon(\n",
       "                {&quot;extraClasses&quot;: &quot;fa-rotate-0&quot;, &quot;icon&quot;: &quot;info-sign&quot;, &quot;iconColor&quot;: &quot;white&quot;, &quot;markerColor&quot;: &quot;green&quot;, &quot;prefix&quot;: &quot;glyphicon&quot;}\n",
       "            );\n",
       "            marker_64e0ae8f5fff53e1d43443fc20a49c51.setIcon(icon_97a90072478ba2d3234f0e67aa98d8b5);\n",
       "        \n",
       "    \n",
       "        var popup_05ee8398717a1db6cbfebb2ee8403e58 = L.popup({&quot;maxWidth&quot;: &quot;100%&quot;});\n",
       "\n",
       "        \n",
       "            \n",
       "                var html_f432ba68015d518b0b777747e21b4d5b = $(`&lt;div id=&quot;html_f432ba68015d518b0b777747e21b4d5b&quot; style=&quot;width: 100.0%; height: 100.0%;&quot;&gt;Disponible&lt;/div&gt;`)[0];\n",
       "                popup_05ee8398717a1db6cbfebb2ee8403e58.setContent(html_f432ba68015d518b0b777747e21b4d5b);\n",
       "            \n",
       "        \n",
       "\n",
       "        marker_64e0ae8f5fff53e1d43443fc20a49c51.bindPopup(popup_05ee8398717a1db6cbfebb2ee8403e58)\n",
       "        ;\n",
       "\n",
       "        \n",
       "    \n",
       "    \n",
       "            var marker_0bcd16fdc61262cec9456abbc6065258 = L.marker(\n",
       "                [23.081702, -82.435297],\n",
       "                {}\n",
       "            ).addTo(map_dc1c7ac7dd6abb94038330b9723e8eef);\n",
       "        \n",
       "    \n",
       "            var icon_fc3bd5e5923befa5b11d06a517f40ffd = L.AwesomeMarkers.icon(\n",
       "                {&quot;extraClasses&quot;: &quot;fa-rotate-0&quot;, &quot;icon&quot;: &quot;info-sign&quot;, &quot;iconColor&quot;: &quot;white&quot;, &quot;markerColor&quot;: &quot;green&quot;, &quot;prefix&quot;: &quot;glyphicon&quot;}\n",
       "            );\n",
       "            marker_0bcd16fdc61262cec9456abbc6065258.setIcon(icon_fc3bd5e5923befa5b11d06a517f40ffd);\n",
       "        \n",
       "    \n",
       "        var popup_deea7a6c36ea40971bb2635839fa554f = L.popup({&quot;maxWidth&quot;: &quot;100%&quot;});\n",
       "\n",
       "        \n",
       "            \n",
       "                var html_bb3435f096d0bb9c3b3cab65323a1766 = $(`&lt;div id=&quot;html_bb3435f096d0bb9c3b3cab65323a1766&quot; style=&quot;width: 100.0%; height: 100.0%;&quot;&gt;Disponible&lt;/div&gt;`)[0];\n",
       "                popup_deea7a6c36ea40971bb2635839fa554f.setContent(html_bb3435f096d0bb9c3b3cab65323a1766);\n",
       "            \n",
       "        \n",
       "\n",
       "        marker_0bcd16fdc61262cec9456abbc6065258.bindPopup(popup_deea7a6c36ea40971bb2635839fa554f)\n",
       "        ;\n",
       "\n",
       "        \n",
       "    \n",
       "    \n",
       "            var marker_56ac46c354ee7648ca8038fbb2a03a53 = L.marker(\n",
       "                [23.078763, -82.436219],\n",
       "                {}\n",
       "            ).addTo(map_dc1c7ac7dd6abb94038330b9723e8eef);\n",
       "        \n",
       "    \n",
       "            var icon_73779339ddf1a7365c62fb74a59c1f74 = L.AwesomeMarkers.icon(\n",
       "                {&quot;extraClasses&quot;: &quot;fa-rotate-0&quot;, &quot;icon&quot;: &quot;info-sign&quot;, &quot;iconColor&quot;: &quot;white&quot;, &quot;markerColor&quot;: &quot;red&quot;, &quot;prefix&quot;: &quot;glyphicon&quot;}\n",
       "            );\n",
       "            marker_56ac46c354ee7648ca8038fbb2a03a53.setIcon(icon_73779339ddf1a7365c62fb74a59c1f74);\n",
       "        \n",
       "    \n",
       "        var popup_277ba54af9865ab51793dbed833ce215 = L.popup({&quot;maxWidth&quot;: &quot;100%&quot;});\n",
       "\n",
       "        \n",
       "            \n",
       "                var html_be82f27b5bb931156341b2c976a64296 = $(`&lt;div id=&quot;html_be82f27b5bb931156341b2c976a64296&quot; style=&quot;width: 100.0%; height: 100.0%;&quot;&gt;No Disponible&lt;/div&gt;`)[0];\n",
       "                popup_277ba54af9865ab51793dbed833ce215.setContent(html_be82f27b5bb931156341b2c976a64296);\n",
       "            \n",
       "        \n",
       "\n",
       "        marker_56ac46c354ee7648ca8038fbb2a03a53.bindPopup(popup_277ba54af9865ab51793dbed833ce215)\n",
       "        ;\n",
       "\n",
       "        \n",
       "    \n",
       "    \n",
       "            var marker_ce2909ebdcbd8fe74212f520332273a5 = L.marker(\n",
       "                [23.078447, -82.437573],\n",
       "                {}\n",
       "            ).addTo(map_dc1c7ac7dd6abb94038330b9723e8eef);\n",
       "        \n",
       "    \n",
       "            var icon_0d9e4ccd0d937031370a07a11cec761c = L.AwesomeMarkers.icon(\n",
       "                {&quot;extraClasses&quot;: &quot;fa-rotate-0&quot;, &quot;icon&quot;: &quot;info-sign&quot;, &quot;iconColor&quot;: &quot;white&quot;, &quot;markerColor&quot;: &quot;red&quot;, &quot;prefix&quot;: &quot;glyphicon&quot;}\n",
       "            );\n",
       "            marker_ce2909ebdcbd8fe74212f520332273a5.setIcon(icon_0d9e4ccd0d937031370a07a11cec761c);\n",
       "        \n",
       "    \n",
       "        var popup_40361b3629001ecd28a4a064b1628313 = L.popup({&quot;maxWidth&quot;: &quot;100%&quot;});\n",
       "\n",
       "        \n",
       "            \n",
       "                var html_1abf0d7eedbd388102984206f432e7f9 = $(`&lt;div id=&quot;html_1abf0d7eedbd388102984206f432e7f9&quot; style=&quot;width: 100.0%; height: 100.0%;&quot;&gt;No Disponible&lt;/div&gt;`)[0];\n",
       "                popup_40361b3629001ecd28a4a064b1628313.setContent(html_1abf0d7eedbd388102984206f432e7f9);\n",
       "            \n",
       "        \n",
       "\n",
       "        marker_ce2909ebdcbd8fe74212f520332273a5.bindPopup(popup_40361b3629001ecd28a4a064b1628313)\n",
       "        ;\n",
       "\n",
       "        \n",
       "    \n",
       "    \n",
       "            var marker_3028b62a7e980a71e374391b0e37506b = L.marker(\n",
       "                [23.08326, -82.439342],\n",
       "                {}\n",
       "            ).addTo(map_dc1c7ac7dd6abb94038330b9723e8eef);\n",
       "        \n",
       "    \n",
       "            var icon_30b65d6056acda2ede75056556473c89 = L.AwesomeMarkers.icon(\n",
       "                {&quot;extraClasses&quot;: &quot;fa-rotate-0&quot;, &quot;icon&quot;: &quot;info-sign&quot;, &quot;iconColor&quot;: &quot;white&quot;, &quot;markerColor&quot;: &quot;red&quot;, &quot;prefix&quot;: &quot;glyphicon&quot;}\n",
       "            );\n",
       "            marker_3028b62a7e980a71e374391b0e37506b.setIcon(icon_30b65d6056acda2ede75056556473c89);\n",
       "        \n",
       "    \n",
       "        var popup_f4786704c4d44a48463646045204f915 = L.popup({&quot;maxWidth&quot;: &quot;100%&quot;});\n",
       "\n",
       "        \n",
       "            \n",
       "                var html_a0baee074752c37cf4dc73064a4cc544 = $(`&lt;div id=&quot;html_a0baee074752c37cf4dc73064a4cc544&quot; style=&quot;width: 100.0%; height: 100.0%;&quot;&gt;No Disponible&lt;/div&gt;`)[0];\n",
       "                popup_f4786704c4d44a48463646045204f915.setContent(html_a0baee074752c37cf4dc73064a4cc544);\n",
       "            \n",
       "        \n",
       "\n",
       "        marker_3028b62a7e980a71e374391b0e37506b.bindPopup(popup_f4786704c4d44a48463646045204f915)\n",
       "        ;\n",
       "\n",
       "        \n",
       "    \n",
       "    \n",
       "            var marker_b14b103e646781426e7d3ea3a915c2a6 = L.marker(\n",
       "                [23.078043, -82.431292],\n",
       "                {}\n",
       "            ).addTo(map_dc1c7ac7dd6abb94038330b9723e8eef);\n",
       "        \n",
       "    \n",
       "            var icon_16a2e8199c824f5c961c2bdb4e783d38 = L.AwesomeMarkers.icon(\n",
       "                {&quot;extraClasses&quot;: &quot;fa-rotate-0&quot;, &quot;icon&quot;: &quot;info-sign&quot;, &quot;iconColor&quot;: &quot;white&quot;, &quot;markerColor&quot;: &quot;red&quot;, &quot;prefix&quot;: &quot;glyphicon&quot;}\n",
       "            );\n",
       "            marker_b14b103e646781426e7d3ea3a915c2a6.setIcon(icon_16a2e8199c824f5c961c2bdb4e783d38);\n",
       "        \n",
       "    \n",
       "        var popup_98c46dceedfe5ddf8234c6d3a5bb94ca = L.popup({&quot;maxWidth&quot;: &quot;100%&quot;});\n",
       "\n",
       "        \n",
       "            \n",
       "                var html_3fe8cd4c9545b3c0c35b39100424d799 = $(`&lt;div id=&quot;html_3fe8cd4c9545b3c0c35b39100424d799&quot; style=&quot;width: 100.0%; height: 100.0%;&quot;&gt;No Disponible&lt;/div&gt;`)[0];\n",
       "                popup_98c46dceedfe5ddf8234c6d3a5bb94ca.setContent(html_3fe8cd4c9545b3c0c35b39100424d799);\n",
       "            \n",
       "        \n",
       "\n",
       "        marker_b14b103e646781426e7d3ea3a915c2a6.bindPopup(popup_98c46dceedfe5ddf8234c6d3a5bb94ca)\n",
       "        ;\n",
       "\n",
       "        \n",
       "    \n",
       "    \n",
       "            var marker_475f5e68d44564cc7fa05efdc6612c58 = L.marker(\n",
       "                [23.074301, -82.431458],\n",
       "                {}\n",
       "            ).addTo(map_dc1c7ac7dd6abb94038330b9723e8eef);\n",
       "        \n",
       "    \n",
       "            var icon_c935ecd4fba7180ae51fbb2841817d28 = L.AwesomeMarkers.icon(\n",
       "                {&quot;extraClasses&quot;: &quot;fa-rotate-0&quot;, &quot;icon&quot;: &quot;info-sign&quot;, &quot;iconColor&quot;: &quot;white&quot;, &quot;markerColor&quot;: &quot;red&quot;, &quot;prefix&quot;: &quot;glyphicon&quot;}\n",
       "            );\n",
       "            marker_475f5e68d44564cc7fa05efdc6612c58.setIcon(icon_c935ecd4fba7180ae51fbb2841817d28);\n",
       "        \n",
       "    \n",
       "        var popup_2e71cf652dbdc356542e6680b58b3ebc = L.popup({&quot;maxWidth&quot;: &quot;100%&quot;});\n",
       "\n",
       "        \n",
       "            \n",
       "                var html_68bc6948582885d09f10f8449dbb97d6 = $(`&lt;div id=&quot;html_68bc6948582885d09f10f8449dbb97d6&quot; style=&quot;width: 100.0%; height: 100.0%;&quot;&gt;No Disponible&lt;/div&gt;`)[0];\n",
       "                popup_2e71cf652dbdc356542e6680b58b3ebc.setContent(html_68bc6948582885d09f10f8449dbb97d6);\n",
       "            \n",
       "        \n",
       "\n",
       "        marker_475f5e68d44564cc7fa05efdc6612c58.bindPopup(popup_2e71cf652dbdc356542e6680b58b3ebc)\n",
       "        ;\n",
       "\n",
       "        \n",
       "    \n",
       "    \n",
       "            var marker_8b1677b33c18c9bbb2957df75066c699 = L.marker(\n",
       "                [23.072008, -82.432222],\n",
       "                {}\n",
       "            ).addTo(map_dc1c7ac7dd6abb94038330b9723e8eef);\n",
       "        \n",
       "    \n",
       "            var icon_d32d53bd731e1a20312da8b86eb859f6 = L.AwesomeMarkers.icon(\n",
       "                {&quot;extraClasses&quot;: &quot;fa-rotate-0&quot;, &quot;icon&quot;: &quot;info-sign&quot;, &quot;iconColor&quot;: &quot;white&quot;, &quot;markerColor&quot;: &quot;red&quot;, &quot;prefix&quot;: &quot;glyphicon&quot;}\n",
       "            );\n",
       "            marker_8b1677b33c18c9bbb2957df75066c699.setIcon(icon_d32d53bd731e1a20312da8b86eb859f6);\n",
       "        \n",
       "    \n",
       "        var popup_882a2909141b04d6a9b85e1565fdad70 = L.popup({&quot;maxWidth&quot;: &quot;100%&quot;});\n",
       "\n",
       "        \n",
       "            \n",
       "                var html_5f31a8541c26a9ee9e9a327b168b960e = $(`&lt;div id=&quot;html_5f31a8541c26a9ee9e9a327b168b960e&quot; style=&quot;width: 100.0%; height: 100.0%;&quot;&gt;No Disponible&lt;/div&gt;`)[0];\n",
       "                popup_882a2909141b04d6a9b85e1565fdad70.setContent(html_5f31a8541c26a9ee9e9a327b168b960e);\n",
       "            \n",
       "        \n",
       "\n",
       "        marker_8b1677b33c18c9bbb2957df75066c699.bindPopup(popup_882a2909141b04d6a9b85e1565fdad70)\n",
       "        ;\n",
       "\n",
       "        \n",
       "    \n",
       "    \n",
       "            var marker_ee1f9b08c731fb87ead8f714a9e8f5e0 = L.marker(\n",
       "                [23.071569, -82.43435],\n",
       "                {}\n",
       "            ).addTo(map_dc1c7ac7dd6abb94038330b9723e8eef);\n",
       "        \n",
       "    \n",
       "            var icon_3e58447bfe837f91c26d13e418d121e8 = L.AwesomeMarkers.icon(\n",
       "                {&quot;extraClasses&quot;: &quot;fa-rotate-0&quot;, &quot;icon&quot;: &quot;info-sign&quot;, &quot;iconColor&quot;: &quot;white&quot;, &quot;markerColor&quot;: &quot;red&quot;, &quot;prefix&quot;: &quot;glyphicon&quot;}\n",
       "            );\n",
       "            marker_ee1f9b08c731fb87ead8f714a9e8f5e0.setIcon(icon_3e58447bfe837f91c26d13e418d121e8);\n",
       "        \n",
       "    \n",
       "        var popup_e722680b8720a0be89ff1075e1b354b1 = L.popup({&quot;maxWidth&quot;: &quot;100%&quot;});\n",
       "\n",
       "        \n",
       "            \n",
       "                var html_15c04cb95567f35d26b28706890aef80 = $(`&lt;div id=&quot;html_15c04cb95567f35d26b28706890aef80&quot; style=&quot;width: 100.0%; height: 100.0%;&quot;&gt;No Disponible&lt;/div&gt;`)[0];\n",
       "                popup_e722680b8720a0be89ff1075e1b354b1.setContent(html_15c04cb95567f35d26b28706890aef80);\n",
       "            \n",
       "        \n",
       "\n",
       "        marker_ee1f9b08c731fb87ead8f714a9e8f5e0.bindPopup(popup_e722680b8720a0be89ff1075e1b354b1)\n",
       "        ;\n",
       "\n",
       "        \n",
       "    \n",
       "    \n",
       "            var marker_83e4e56e4bfd0e5f862c3c3eefeb0e17 = L.marker(\n",
       "                [23.074305, -82.437137],\n",
       "                {}\n",
       "            ).addTo(map_dc1c7ac7dd6abb94038330b9723e8eef);\n",
       "        \n",
       "    \n",
       "            var icon_ee0f356e1133ee851847f57e13a92d18 = L.AwesomeMarkers.icon(\n",
       "                {&quot;extraClasses&quot;: &quot;fa-rotate-0&quot;, &quot;icon&quot;: &quot;info-sign&quot;, &quot;iconColor&quot;: &quot;white&quot;, &quot;markerColor&quot;: &quot;red&quot;, &quot;prefix&quot;: &quot;glyphicon&quot;}\n",
       "            );\n",
       "            marker_83e4e56e4bfd0e5f862c3c3eefeb0e17.setIcon(icon_ee0f356e1133ee851847f57e13a92d18);\n",
       "        \n",
       "    \n",
       "        var popup_ce704c7d45691418b6eec12db06cca4f = L.popup({&quot;maxWidth&quot;: &quot;100%&quot;});\n",
       "\n",
       "        \n",
       "            \n",
       "                var html_c96c77d2ca8c39e472f6f47ac011cd42 = $(`&lt;div id=&quot;html_c96c77d2ca8c39e472f6f47ac011cd42&quot; style=&quot;width: 100.0%; height: 100.0%;&quot;&gt;No Disponible&lt;/div&gt;`)[0];\n",
       "                popup_ce704c7d45691418b6eec12db06cca4f.setContent(html_c96c77d2ca8c39e472f6f47ac011cd42);\n",
       "            \n",
       "        \n",
       "\n",
       "        marker_83e4e56e4bfd0e5f862c3c3eefeb0e17.bindPopup(popup_ce704c7d45691418b6eec12db06cca4f)\n",
       "        ;\n",
       "\n",
       "        \n",
       "    \n",
       "    \n",
       "            var marker_d791b4e7ca8548347644000c8c5253ac = L.marker(\n",
       "                [23.075504, -82.425833],\n",
       "                {}\n",
       "            ).addTo(map_dc1c7ac7dd6abb94038330b9723e8eef);\n",
       "        \n",
       "    \n",
       "            var icon_0efd61d88d1c0fad07e3a328eb20488b = L.AwesomeMarkers.icon(\n",
       "                {&quot;extraClasses&quot;: &quot;fa-rotate-0&quot;, &quot;icon&quot;: &quot;info-sign&quot;, &quot;iconColor&quot;: &quot;white&quot;, &quot;markerColor&quot;: &quot;red&quot;, &quot;prefix&quot;: &quot;glyphicon&quot;}\n",
       "            );\n",
       "            marker_d791b4e7ca8548347644000c8c5253ac.setIcon(icon_0efd61d88d1c0fad07e3a328eb20488b);\n",
       "        \n",
       "    \n",
       "        var popup_35db50bd58725d35b3145ea96931d348 = L.popup({&quot;maxWidth&quot;: &quot;100%&quot;});\n",
       "\n",
       "        \n",
       "            \n",
       "                var html_e988574549bf1c455de862f389a8ea34 = $(`&lt;div id=&quot;html_e988574549bf1c455de862f389a8ea34&quot; style=&quot;width: 100.0%; height: 100.0%;&quot;&gt;No Disponible&lt;/div&gt;`)[0];\n",
       "                popup_35db50bd58725d35b3145ea96931d348.setContent(html_e988574549bf1c455de862f389a8ea34);\n",
       "            \n",
       "        \n",
       "\n",
       "        marker_d791b4e7ca8548347644000c8c5253ac.bindPopup(popup_35db50bd58725d35b3145ea96931d348)\n",
       "        ;\n",
       "\n",
       "        \n",
       "    \n",
       "    \n",
       "            var marker_df8198c7ac3b10efc3bcf1aed239e712 = L.marker(\n",
       "                [23.075809, -82.425857],\n",
       "                {}\n",
       "            ).addTo(map_dc1c7ac7dd6abb94038330b9723e8eef);\n",
       "        \n",
       "    \n",
       "            var icon_0d4eef74fef99b3b822a699354adc790 = L.AwesomeMarkers.icon(\n",
       "                {&quot;extraClasses&quot;: &quot;fa-rotate-0&quot;, &quot;icon&quot;: &quot;info-sign&quot;, &quot;iconColor&quot;: &quot;white&quot;, &quot;markerColor&quot;: &quot;red&quot;, &quot;prefix&quot;: &quot;glyphicon&quot;}\n",
       "            );\n",
       "            marker_df8198c7ac3b10efc3bcf1aed239e712.setIcon(icon_0d4eef74fef99b3b822a699354adc790);\n",
       "        \n",
       "    \n",
       "        var popup_ed541a0ec2544fd50efc1d045205bee4 = L.popup({&quot;maxWidth&quot;: &quot;100%&quot;});\n",
       "\n",
       "        \n",
       "            \n",
       "                var html_e40ea4285cb831bc89106e848192096d = $(`&lt;div id=&quot;html_e40ea4285cb831bc89106e848192096d&quot; style=&quot;width: 100.0%; height: 100.0%;&quot;&gt;No Disponible&lt;/div&gt;`)[0];\n",
       "                popup_ed541a0ec2544fd50efc1d045205bee4.setContent(html_e40ea4285cb831bc89106e848192096d);\n",
       "            \n",
       "        \n",
       "\n",
       "        marker_df8198c7ac3b10efc3bcf1aed239e712.bindPopup(popup_ed541a0ec2544fd50efc1d045205bee4)\n",
       "        ;\n",
       "\n",
       "        \n",
       "    \n",
       "    \n",
       "            var marker_119d77a710ac6134ea7b653e624b9706 = L.marker(\n",
       "                [23.076858, -82.426446],\n",
       "                {}\n",
       "            ).addTo(map_dc1c7ac7dd6abb94038330b9723e8eef);\n",
       "        \n",
       "    \n",
       "            var icon_1f3cb3dcc8a0c2fe104ab636f9758113 = L.AwesomeMarkers.icon(\n",
       "                {&quot;extraClasses&quot;: &quot;fa-rotate-0&quot;, &quot;icon&quot;: &quot;info-sign&quot;, &quot;iconColor&quot;: &quot;white&quot;, &quot;markerColor&quot;: &quot;red&quot;, &quot;prefix&quot;: &quot;glyphicon&quot;}\n",
       "            );\n",
       "            marker_119d77a710ac6134ea7b653e624b9706.setIcon(icon_1f3cb3dcc8a0c2fe104ab636f9758113);\n",
       "        \n",
       "    \n",
       "        var popup_bbd5a85b5035f13c4798c807d9b9b152 = L.popup({&quot;maxWidth&quot;: &quot;100%&quot;});\n",
       "\n",
       "        \n",
       "            \n",
       "                var html_e027baf0c6e56c1c4dbf0dde0670984a = $(`&lt;div id=&quot;html_e027baf0c6e56c1c4dbf0dde0670984a&quot; style=&quot;width: 100.0%; height: 100.0%;&quot;&gt;No Disponible&lt;/div&gt;`)[0];\n",
       "                popup_bbd5a85b5035f13c4798c807d9b9b152.setContent(html_e027baf0c6e56c1c4dbf0dde0670984a);\n",
       "            \n",
       "        \n",
       "\n",
       "        marker_119d77a710ac6134ea7b653e624b9706.bindPopup(popup_bbd5a85b5035f13c4798c807d9b9b152)\n",
       "        ;\n",
       "\n",
       "        \n",
       "    \n",
       "    \n",
       "            var marker_207b4c19a0680f6b25008df368e93e87 = L.marker(\n",
       "                [23.077696, -82.427973],\n",
       "                {}\n",
       "            ).addTo(map_dc1c7ac7dd6abb94038330b9723e8eef);\n",
       "        \n",
       "    \n",
       "            var icon_1a15944dadb71dd5588a23251b477085 = L.AwesomeMarkers.icon(\n",
       "                {&quot;extraClasses&quot;: &quot;fa-rotate-0&quot;, &quot;icon&quot;: &quot;info-sign&quot;, &quot;iconColor&quot;: &quot;white&quot;, &quot;markerColor&quot;: &quot;red&quot;, &quot;prefix&quot;: &quot;glyphicon&quot;}\n",
       "            );\n",
       "            marker_207b4c19a0680f6b25008df368e93e87.setIcon(icon_1a15944dadb71dd5588a23251b477085);\n",
       "        \n",
       "    \n",
       "        var popup_050d837f7716452c369efa5df4e03e6f = L.popup({&quot;maxWidth&quot;: &quot;100%&quot;});\n",
       "\n",
       "        \n",
       "            \n",
       "                var html_7229374449e2a15a6176cae4b4ba8475 = $(`&lt;div id=&quot;html_7229374449e2a15a6176cae4b4ba8475&quot; style=&quot;width: 100.0%; height: 100.0%;&quot;&gt;No Disponible&lt;/div&gt;`)[0];\n",
       "                popup_050d837f7716452c369efa5df4e03e6f.setContent(html_7229374449e2a15a6176cae4b4ba8475);\n",
       "            \n",
       "        \n",
       "\n",
       "        marker_207b4c19a0680f6b25008df368e93e87.bindPopup(popup_050d837f7716452c369efa5df4e03e6f)\n",
       "        ;\n",
       "\n",
       "        \n",
       "    \n",
       "    \n",
       "            var marker_fe9f046c02f3f58e35830588b72c1384 = L.marker(\n",
       "                [23.086352, -82.426371],\n",
       "                {}\n",
       "            ).addTo(map_dc1c7ac7dd6abb94038330b9723e8eef);\n",
       "        \n",
       "    \n",
       "            var icon_a0996dcd84e5b4e066fc35ac25458f24 = L.AwesomeMarkers.icon(\n",
       "                {&quot;extraClasses&quot;: &quot;fa-rotate-0&quot;, &quot;icon&quot;: &quot;info-sign&quot;, &quot;iconColor&quot;: &quot;white&quot;, &quot;markerColor&quot;: &quot;red&quot;, &quot;prefix&quot;: &quot;glyphicon&quot;}\n",
       "            );\n",
       "            marker_fe9f046c02f3f58e35830588b72c1384.setIcon(icon_a0996dcd84e5b4e066fc35ac25458f24);\n",
       "        \n",
       "    \n",
       "        var popup_815ad15cc65012c60bceaf76764fc616 = L.popup({&quot;maxWidth&quot;: &quot;100%&quot;});\n",
       "\n",
       "        \n",
       "            \n",
       "                var html_1e5ed05f352cc631ea612574cfb24829 = $(`&lt;div id=&quot;html_1e5ed05f352cc631ea612574cfb24829&quot; style=&quot;width: 100.0%; height: 100.0%;&quot;&gt;No Disponible&lt;/div&gt;`)[0];\n",
       "                popup_815ad15cc65012c60bceaf76764fc616.setContent(html_1e5ed05f352cc631ea612574cfb24829);\n",
       "            \n",
       "        \n",
       "\n",
       "        marker_fe9f046c02f3f58e35830588b72c1384.bindPopup(popup_815ad15cc65012c60bceaf76764fc616)\n",
       "        ;\n",
       "\n",
       "        \n",
       "    \n",
       "&lt;/script&gt;\n",
       "&lt;/html&gt;\" style=\"position:absolute;width:100%;height:100%;left:0;top:0;border:none !important;\" allowfullscreen webkitallowfullscreen mozallowfullscreen></iframe></div></div>"
      ],
      "text/plain": [
       "<folium.folium.Map at 0x26e14c4e7d0>"
      ]
     },
     "execution_count": 22,
     "metadata": {},
     "output_type": "execute_result"
    }
   ],
   "source": [
    "# Codigos de ubicacion para ponerlos en el mapa\n",
    "c1= pd.DataFrame(dicc[\"cebolla\"][0][\"loc\"])\n",
    "popuptext=\"Disponible\"\n",
    "c2= pd.DataFrame(dicc[\"cebolla\"][1][\"loc\"])\n",
    "popuptext1=\"Disponible\"\n",
    "c3= pd.DataFrame(dicc[\"cebolla\"][2][\"loc\"])\n",
    "popuptext2=\"Disponible\"\n",
    "c4= pd.DataFrame(dicc[\"cebolla\"][3][\"loc\"])\n",
    "popuptext3=\"Disponible\"\n",
    "c5= pd.DataFrame(dicc[\"cebolla\"][4][\"loc\"])\n",
    "popuptext4=\"Disponible\"\n",
    "c6= pd.DataFrame(dicc[\"cebolla\"][5][\"loc\"])\n",
    "popuptext5=\"Disponible\"\n",
    "c7= pd.DataFrame(dicc[\"cebolla\"][6][\"loc\"])\n",
    "popuptext6=\"Disponible\"\n",
    "c8= pd.DataFrame(dicc[\"cebolla\"][8][\"loc\"])\n",
    "popuptext7=\"Disponible\"\n",
    "c9= pd.DataFrame(dicc[\"cebolla\"][9][\"loc\"])\n",
    "popuptext8=\"Disponible\"\n",
    "c10= pd.DataFrame(dicc[\"cebolla\"][11][\"loc\"])\n",
    "popuptext9=\"Disponible\"\n",
    "c11= pd.DataFrame(dicc[\"cebolla\"][12][\"loc\"])\n",
    "popuptext10=\"Disponible\"\n",
    "c12= pd.DataFrame(dicc[\"cebolla\"][14][\"loc\"])\n",
    "popuptext11=\"Disponible\"\n",
    "c13= pd.DataFrame(dicc[\"cebolla\"][16][\"loc\"])\n",
    "popuptext12=\"Disponible\"\n",
    "c14= pd.DataFrame(dicc[\"cebolla\"][18][\"loc\"])\n",
    "popuptext13=\"Disponible\"\n",
    "c15= pd.DataFrame(dicc[\"cebolla\"][19][\"loc\"])\n",
    "popuptext14=\"Disponible\"\n",
    "c16= pd.DataFrame(dicc[\"cebolla\"][20][\"loc\"])\n",
    "popuptext15=\"Disponible\"\n",
    "c17= pd.DataFrame(dicc[\"cebolla\"][21][\"loc\"])\n",
    "popuptext16=\"Disponible\"\n",
    "c18= pd.DataFrame(dicc[\"cebolla\"][23][\"loc\"])\n",
    "popuptext17=\"Disponible\"\n",
    "c19= pd.DataFrame(dicc[\"cebolla\"][24][\"loc\"])\n",
    "popuptext18=\"Disponible\"\n",
    "\n",
    "f1=pd.DataFrame(dicc[\"falta_disponibilidad\"][0][\"loc\"])\n",
    "popuptextf1=\"No Disponible\"\n",
    "f2=pd.DataFrame(dicc[\"falta_disponibilidad\"][1][\"loc\"])\n",
    "popuptextf2=\"No Disponible\"\n",
    "f3=pd.DataFrame(dicc[\"falta_disponibilidad\"][2][\"loc\"])\n",
    "popuptextf3=\"No Disponible\"\n",
    "f4=pd.DataFrame(dicc[\"falta_disponibilidad\"][3][\"loc\"])\n",
    "popuptextf4=\"No Disponible\"\n",
    "f5=pd.DataFrame(dicc[\"falta_disponibilidad\"][4][\"loc\"])\n",
    "popuptextf5=\"No Disponible\"\n",
    "f6=pd.DataFrame(dicc[\"falta_disponibilidad\"][5][\"loc\"])\n",
    "popuptextf6=\"No Disponible\"\n",
    "f7=pd.DataFrame(dicc[\"falta_disponibilidad\"][6][\"loc\"])\n",
    "popuptextf7=\"No Disponible\"\n",
    "f8=pd.DataFrame(dicc[\"falta_disponibilidad\"][7][\"loc\"])\n",
    "popuptextf8=\"No Disponible\"\n",
    "f9=pd.DataFrame(dicc[\"falta_disponibilidad\"][8][\"loc\"])\n",
    "popuptextf9=\"No Disponible\"\n",
    "f10=pd.DataFrame(dicc[\"falta_disponibilidad\"][9][\"loc\"])\n",
    "popuptextf10=\"No Disponible\"\n",
    "f11=pd.DataFrame(dicc[\"falta_disponibilidad\"][10][\"loc\"])\n",
    "popuptextf11=\"No Disponible\"\n",
    "f12=pd.DataFrame(dicc[\"falta_disponibilidad\"][11][\"loc\"])\n",
    "popuptextf12=\"No Disponible\"\n",
    "f13=pd.DataFrame(dicc[\"falta_disponibilidad\"][12][\"loc\"])\n",
    "popuptextf13=\"No Disponible\"\n",
    "# Personalizacion del mapa\n",
    "mapa=folium.Map(location=c1,zoom_start=16)\n",
    "folium.Marker(location=c1,popup=popuptext,icon=folium.Icon(color=\"green\")).add_to(mapa)\n",
    "folium.Marker(location=c2,popup=popuptext1,icon=folium.Icon(color=\"green\")).add_to(mapa)\n",
    "folium.Marker(location=c3,popup=popuptext2,icon=folium.Icon(color=\"green\")).add_to(mapa)\n",
    "folium.Marker(location=c4,popup=popuptext3,icon=folium.Icon(color=\"green\")).add_to(mapa)\n",
    "folium.Marker(location=c5,popup=popuptext4,icon=folium.Icon(color=\"green\")).add_to(mapa)\n",
    "folium.Marker(location=c6,popup=popuptext5,icon=folium.Icon(color=\"green\")).add_to(mapa)\n",
    "folium.Marker(location=c7,popup=popuptext6,icon=folium.Icon(color=\"green\")).add_to(mapa)\n",
    "folium.Marker(location=c8,popup=popuptext7,icon=folium.Icon(color=\"green\")).add_to(mapa)\n",
    "folium.Marker(location=c9,popup=popuptext8,icon=folium.Icon(color=\"green\")).add_to(mapa)\n",
    "folium.Marker(location=c10,popup=popuptext9,icon=folium.Icon(color=\"green\")).add_to(mapa)\n",
    "folium.Marker(location=c11,popup=popuptext10,icon=folium.Icon(color=\"green\")).add_to(mapa)\n",
    "folium.Marker(location=c12,popup=popuptext11,icon=folium.Icon(color=\"green\")).add_to(mapa)\n",
    "folium.Marker(location=c13,popup=popuptext12,icon=folium.Icon(color=\"green\")).add_to(mapa)\n",
    "folium.Marker(location=c14,popup=popuptext13,icon=folium.Icon(color=\"green\")).add_to(mapa)\n",
    "folium.Marker(location=c15,popup=popuptext14,icon=folium.Icon(color=\"green\")).add_to(mapa)\n",
    "folium.Marker(location=c16,popup=popuptext15,icon=folium.Icon(color=\"green\")).add_to(mapa)\n",
    "folium.Marker(location=c17,popup=popuptext16,icon=folium.Icon(color=\"green\")).add_to(mapa)\n",
    "folium.Marker(location=c18,popup=popuptext17,icon=folium.Icon(color=\"green\")).add_to(mapa)\n",
    "folium.Marker(location=c19,popup=popuptext18,icon=folium.Icon(color=\"green\")).add_to(mapa)\n",
    "\n",
    "folium.Marker(location=f1,popup=popuptextf1,icon=folium.Icon(color=\"red\")).add_to(mapa)\n",
    "folium.Marker(location=f2,popup=popuptextf2,icon=folium.Icon(color=\"red\")).add_to(mapa)\n",
    "folium.Marker(location=f3,popup=popuptextf3,icon=folium.Icon(color=\"red\")).add_to(mapa)\n",
    "folium.Marker(location=f4,popup=popuptextf4,icon=folium.Icon(color=\"red\")).add_to(mapa)\n",
    "folium.Marker(location=f5,popup=popuptextf5,icon=folium.Icon(color=\"red\")).add_to(mapa)\n",
    "folium.Marker(location=f6,popup=popuptextf6,icon=folium.Icon(color=\"red\")).add_to(mapa)\n",
    "folium.Marker(location=f7,popup=popuptextf7,icon=folium.Icon(color=\"red\")).add_to(mapa)\n",
    "folium.Marker(location=f8,popup=popuptextf8,icon=folium.Icon(color=\"red\")).add_to(mapa)\n",
    "folium.Marker(location=f9,popup=popuptextf9,icon=folium.Icon(color=\"red\")).add_to(mapa)\n",
    "folium.Marker(location=f10,popup=popuptextf10,icon=folium.Icon(color=\"red\")).add_to(mapa)\n",
    "folium.Marker(location=f11,popup=popuptextf11,icon=folium.Icon(color=\"red\")).add_to(mapa)\n",
    "folium.Marker(location=f12,popup=popuptextf12,icon=folium.Icon(color=\"red\")).add_to(mapa)\n",
    "folium.Marker(location=f13,popup=popuptextf13,icon=folium.Icon(color=\"red\")).add_to(mapa)\n",
    "mapa\n",
    "\n"
   ]
  },
  {
   "attachments": {},
   "cell_type": "markdown",
   "metadata": {},
   "source": [
    "### Variedad\n",
    "Una vez localizada la disponibilidad del producto, ya podemos hablar de su variedad. Como todos sabemos, está presente los dos tipos de cebolla que hay: la \"blanca\" y \"morada\". Estos dos tipos de cebollas presentan grandes diferencias y analizar esas diferencias es nuestro trabajo. Primeramente, nos planteamos la cantidad de cebolla \"blanca\" relacionada con la \"morada\". Nos preguntábamos ¿cuál sería la diferencia entre ellas? Y como es natural, tuvimos un resultado. Seguido a la respuesta de la interrogante anterior, surgió otra pregunta, la cual tiene como enunciado: ¿afectará esto al precio? A la cual también le dimos respuesta en las siguientes visualizaciones. Así que adelante..."
   ]
  },
  {
   "cell_type": "code",
   "execution_count": 23,
   "metadata": {},
   "outputs": [
    {
     "name": "stdout",
     "output_type": "stream",
     "text": [
      "tipo  \n",
      "blanca    19\n",
      "morada     8\n",
      "Name: count, dtype: int64\n"
     ]
    },
    {
     "data": {
      "image/png": "[encoded data removed]",
      "text/plain": [
       "<Figure size 640x480 with 1 Axes>"
      ]
     },
     "metadata": {},
     "output_type": "display_data"
    },
    {
     "data": {
      "image/png": "[encoded data removed]",
      "text/plain": [
       "<Figure size 603.875x500 with 1 Axes>"
      ]
     },
     "metadata": {},
     "output_type": "display_data"
    }
   ],
   "source": [
    "# Accedemos al dicc de cebolla y la funcion(.value_counts) nos dara la cantidad de cada tipo de cebolla\n",
    "cebolla = pd.DataFrame(dicc[\"cebolla\"])\n",
    "tipo=cebolla.loc[:,[\"tipo\"]].value_counts()\n",
    "precio_ce=cebolla.loc[:,[\"tipo\",\"precio\"]]\n",
    "print(tipo)\n",
    "# Grafico de Barras \n",
    "plt.bar([\"blanca\",\"morada\"], tipo,width=2,color=[\"yellow\",\"purple\"])\n",
    "plt.ylabel(\"cantidad de cebollas\")\n",
    "plt.title(\"Cantidad de cebollas en Marianao\")\n",
    "plt.yticks(np.arange(0,21,5))\n",
    "plt.show()\n",
    "\n",
    "# Grafico de dispercion estilo abeja\n",
    "sns.catplot(x=\"precio\",\n",
    "            y=\"categoria\",\n",
    "            data=cebolla,\n",
    "            kind=\"swarm\",\n",
    "            hue=\"tipo\",\n",
    "            s=70)\n",
    "plt.grid()\n",
    "plt.show()"
   ]
  },
  {
   "attachments": {},
   "cell_type": "markdown",
   "metadata": {},
   "source": [
    "Como podemos ver, es considerable la diferencia entre la cebolla \"blanca\" y la \"morada\". La cebolla blanca va por encima que la morada, y esto es un dato que sobresale y crea otra situación muy interesante que analizar.\n",
    "\n",
    "A pesar de que ambas cebollas son indispensables en la cocina cubana y no tienen diferencia en su utilización, ya eso quedaría a gusto del consumidor su utilización más frecuente para distintos platos. Más allá de que las dos son ricas en vitaminas y minerales esenciales, así como en compuestos antioxidantes y antiinflamatorios que pueden proporcionar beneficios para la salud, y que no presentan mucha diferencia a no ser que una sea más fuerte que otra. Pero bueno, el quid de la cosa no está en sus propiedades o sabores, sino en la escasez de una u otra.\n",
    "\n",
    "Al analizar este dato, nos dimos cuenta de que debido a que hay menos cebolla morada que blanca, la escasez de la morada hace que su precio sea fijo y se mantenga en 200 y, en algún caso, por encima sin ningún tipo de variación, dando lugar a que en los pocos lugares en los que aparezca, su precio será fijo o por encima de lo que se llama normal debido a la escasez que hay. Si de por sí hay escasez de cebolla en Marianao, sumarle la escasez de cebolla morada, con razón no se ven variaciones en cuanto a la disminución del precio.\n",
    "\n",
    "En la gráfica también es notable la comparación entre la forma de vender el producto, que puede ser en paquetes o en libras, y cómo existe variación en el precio con respecto a esto."
   ]
  },
  {
   "attachments": {},
   "cell_type": "markdown",
   "metadata": {},
   "source": [
    "### Anomalías en el precio\n",
    "\n",
    "Bueno, no queríamos terminar el tema de la cebolla sin antes platicar un poco sobre más que un dato curioso, más bien una exclusividad o rareza en el precio de la cebolla en dos lugares que encontramos en el recorrido realizado para la recolección. A continuación, verá dos precios distintos en dos lugares distintos. Uno muy excesivo y el otro muy raro por estar por debajo de la norma de aquello que llamamos normal. La representación estará dada por ubicaciones en el mapa para que vea el lugar exacto del hecho e incluso se le proporcionará una vía para ver la foto de los lugares si es de su agrado y le da curiosidad ver con sus propios ojos la veracidad de los hechos. "
   ]
  },
  {
   "cell_type": "code",
   "execution_count": 24,
   "metadata": {},
   "outputs": [
    {
     "name": "stdout",
     "output_type": "stream",
     "text": [
      "      tipo                      loc             imagenes categoria\n",
      "23  blanca  [23.093098, -82.423399]  ./fotos/foto141.jpg     libra\n",
      "      tipo                      loc            imagenes categoria\n",
      "25  blanca  [23.071395, -82.428081]  ./fotos/foto93.jpg     libra\n",
      "26  morada  [23.071395, -82.428081]  ./fotos/foto93.jpg     libra\n"
     ]
    },
    {
     "name": "stderr",
     "output_type": "stream",
     "text": [
      "C:\\Users\\nawyp\\AppData\\Local\\Temp\\ipykernel_15084\\2225044162.py:17: UserWarning: color argument of Icon should be one of: {'darkgreen', 'white', 'lightblue', 'lightgreen', 'gray', 'purple', 'black', 'darkred', 'lightgray', 'darkpurple', 'blue', 'orange', 'cadetblue', 'lightred', 'green', 'pink', 'red', 'darkblue', 'beige'}.\n",
      "  folium.Marker(location=mn,popup=mn_etq,icon=folium.Icon(color=\"yellow\")).add_to(mapa)\n"
     ]
    },
    {
     "data": {
      "text/html": [
       "<div style=\"width:100%;\"><div style=\"position:relative;width:100%;height:0;padding-bottom:60%;\"><span style=\"color:#565656\">Make this Notebook Trusted to load map: File -> Trust Notebook</span><iframe srcdoc=\"&lt;!DOCTYPE html&gt;\n",
       "&lt;html&gt;\n",
       "&lt;head&gt;\n",
       "    \n",
       "    &lt;meta http-equiv=&quot;content-type&quot; content=&quot;text/html; charset=UTF-8&quot; /&gt;\n",
       "    \n",
       "        &lt;script&gt;\n",
       "            L_NO_TOUCH = false;\n",
       "            L_DISABLE_3D = false;\n",
       "        &lt;/script&gt;\n",
       "    \n",
       "    &lt;style&gt;html, body {width: 100%;height: 100%;margin: 0;padding: 0;}&lt;/style&gt;\n",
       "    &lt;style&gt;#map {position:absolute;top:0;bottom:0;right:0;left:0;}&lt;/style&gt;\n",
       "    &lt;script src=&quot;https://cdn.jsdelivr.net/npm/leaflet@1.9.3/dist/leaflet.js&quot;&gt;&lt;/script&gt;\n",
       "    &lt;script src=&quot;https://code.jquery.com/jquery-1.12.4.min.js&quot;&gt;&lt;/script&gt;\n",
       "    &lt;script src=&quot;https://cdn.jsdelivr.net/npm/bootstrap@5.2.2/dist/js/bootstrap.bundle.min.js&quot;&gt;&lt;/script&gt;\n",
       "    &lt;script src=&quot;https://cdnjs.cloudflare.com/ajax/libs/Leaflet.awesome-markers/2.0.2/leaflet.awesome-markers.js&quot;&gt;&lt;/script&gt;\n",
       "    &lt;link rel=&quot;stylesheet&quot; href=&quot;https://cdn.jsdelivr.net/npm/leaflet@1.9.3/dist/leaflet.css&quot;/&gt;\n",
       "    &lt;link rel=&quot;stylesheet&quot; href=&quot;https://cdn.jsdelivr.net/npm/bootstrap@5.2.2/dist/css/bootstrap.min.css&quot;/&gt;\n",
       "    &lt;link rel=&quot;stylesheet&quot; href=&quot;https://netdna.bootstrapcdn.com/bootstrap/3.0.0/css/bootstrap.min.css&quot;/&gt;\n",
       "    &lt;link rel=&quot;stylesheet&quot; href=&quot;https://cdn.jsdelivr.net/npm/@fortawesome/fontawesome-free@6.2.0/css/all.min.css&quot;/&gt;\n",
       "    &lt;link rel=&quot;stylesheet&quot; href=&quot;https://cdnjs.cloudflare.com/ajax/libs/Leaflet.awesome-markers/2.0.2/leaflet.awesome-markers.css&quot;/&gt;\n",
       "    &lt;link rel=&quot;stylesheet&quot; href=&quot;https://cdn.jsdelivr.net/gh/python-visualization/folium/folium/templates/leaflet.awesome.rotate.min.css&quot;/&gt;\n",
       "    \n",
       "            &lt;meta name=&quot;viewport&quot; content=&quot;width=device-width,\n",
       "                initial-scale=1.0, maximum-scale=1.0, user-scalable=no&quot; /&gt;\n",
       "            &lt;style&gt;\n",
       "                #map_dc93356e7d8aef0d67656b996995f35c {\n",
       "                    position: relative;\n",
       "                    width: 100.0%;\n",
       "                    height: 100.0%;\n",
       "                    left: 0.0%;\n",
       "                    top: 0.0%;\n",
       "                }\n",
       "                .leaflet-container { font-size: 1rem; }\n",
       "            &lt;/style&gt;\n",
       "        \n",
       "&lt;/head&gt;\n",
       "&lt;body&gt;\n",
       "    \n",
       "    \n",
       "            &lt;div class=&quot;folium-map&quot; id=&quot;map_dc93356e7d8aef0d67656b996995f35c&quot; &gt;&lt;/div&gt;\n",
       "        \n",
       "&lt;/body&gt;\n",
       "&lt;script&gt;\n",
       "    \n",
       "    \n",
       "            var map_dc93356e7d8aef0d67656b996995f35c = L.map(\n",
       "                &quot;map_dc93356e7d8aef0d67656b996995f35c&quot;,\n",
       "                {\n",
       "                    center: [23.093098, -82.423399],\n",
       "                    crs: L.CRS.EPSG3857,\n",
       "                    zoom: 16,\n",
       "                    zoomControl: true,\n",
       "                    preferCanvas: false,\n",
       "                }\n",
       "            );\n",
       "\n",
       "            \n",
       "\n",
       "        \n",
       "    \n",
       "            var tile_layer_693619073588d8a65828083c2825a8ef = L.tileLayer(\n",
       "                &quot;https://{s}.tile.openstreetmap.org/{z}/{x}/{y}.png&quot;,\n",
       "                {&quot;attribution&quot;: &quot;Data by \\u0026copy; \\u003ca target=\\&quot;_blank\\&quot; href=\\&quot;http://openstreetmap.org\\&quot;\\u003eOpenStreetMap\\u003c/a\\u003e, under \\u003ca target=\\&quot;_blank\\&quot; href=\\&quot;http://www.openstreetmap.org/copyright\\&quot;\\u003eODbL\\u003c/a\\u003e.&quot;, &quot;detectRetina&quot;: false, &quot;maxNativeZoom&quot;: 18, &quot;maxZoom&quot;: 18, &quot;minZoom&quot;: 0, &quot;noWrap&quot;: false, &quot;opacity&quot;: 1, &quot;subdomains&quot;: &quot;abc&quot;, &quot;tms&quot;: false}\n",
       "            ).addTo(map_dc93356e7d8aef0d67656b996995f35c);\n",
       "        \n",
       "    \n",
       "            var marker_084a2a49758e07281ab5bcb4c16d381e = L.marker(\n",
       "                [23.093098, -82.423399],\n",
       "                {}\n",
       "            ).addTo(map_dc93356e7d8aef0d67656b996995f35c);\n",
       "        \n",
       "    \n",
       "            var icon_3b72e355b0837c0a8b92e1d77063edba = L.AwesomeMarkers.icon(\n",
       "                {&quot;extraClasses&quot;: &quot;fa-rotate-0&quot;, &quot;icon&quot;: &quot;info-sign&quot;, &quot;iconColor&quot;: &quot;white&quot;, &quot;markerColor&quot;: &quot;red&quot;, &quot;prefix&quot;: &quot;glyphicon&quot;}\n",
       "            );\n",
       "            marker_084a2a49758e07281ab5bcb4c16d381e.setIcon(icon_3b72e355b0837c0a8b92e1d77063edba);\n",
       "        \n",
       "    \n",
       "        var popup_76f674eb2961505f26af65347a8311e5 = L.popup({&quot;maxWidth&quot;: &quot;100%&quot;});\n",
       "\n",
       "        \n",
       "            \n",
       "                var html_9257a936861690311daa61eb6de8c211 = $(`&lt;div id=&quot;html_9257a936861690311daa61eb6de8c211&quot; style=&quot;width: 100.0%; height: 100.0%;&quot;&gt;tipo                      blanca precio                       420 imagenes     ./fotos/foto141.jpg categoria                  libra Name: 23, dtype: object&lt;/div&gt;`)[0];\n",
       "                popup_76f674eb2961505f26af65347a8311e5.setContent(html_9257a936861690311daa61eb6de8c211);\n",
       "            \n",
       "        \n",
       "\n",
       "        marker_084a2a49758e07281ab5bcb4c16d381e.bindPopup(popup_76f674eb2961505f26af65347a8311e5)\n",
       "        ;\n",
       "\n",
       "        \n",
       "    \n",
       "    \n",
       "            var marker_cb290e3952f4f796c4d986e39fbdf353 = L.marker(\n",
       "                [23.071395, -82.428081],\n",
       "                {}\n",
       "            ).addTo(map_dc93356e7d8aef0d67656b996995f35c);\n",
       "        \n",
       "    \n",
       "            var icon_f578c00fe3bffb51a3a2f34c6125af8f = L.AwesomeMarkers.icon(\n",
       "                {&quot;extraClasses&quot;: &quot;fa-rotate-0&quot;, &quot;icon&quot;: &quot;info-sign&quot;, &quot;iconColor&quot;: &quot;white&quot;, &quot;markerColor&quot;: &quot;yellow&quot;, &quot;prefix&quot;: &quot;glyphicon&quot;}\n",
       "            );\n",
       "            marker_cb290e3952f4f796c4d986e39fbdf353.setIcon(icon_f578c00fe3bffb51a3a2f34c6125af8f);\n",
       "        \n",
       "    \n",
       "        var popup_cfb59f240a126ce7d96cc454c1fd4f3f = L.popup({&quot;maxWidth&quot;: &quot;100%&quot;});\n",
       "\n",
       "        \n",
       "            \n",
       "                var html_7da049ea4b1c53986335f16ea4f0a17b = $(`&lt;div id=&quot;html_7da049ea4b1c53986335f16ea4f0a17b&quot; style=&quot;width: 100.0%; height: 100.0%;&quot;&gt;tipo                     blanca precio                      100 imagenes     ./fotos/foto93.jpg categoria                 libra Name: 25, dtype: object&lt;/div&gt;`)[0];\n",
       "                popup_cfb59f240a126ce7d96cc454c1fd4f3f.setContent(html_7da049ea4b1c53986335f16ea4f0a17b);\n",
       "            \n",
       "        \n",
       "\n",
       "        marker_cb290e3952f4f796c4d986e39fbdf353.bindPopup(popup_cfb59f240a126ce7d96cc454c1fd4f3f)\n",
       "        ;\n",
       "\n",
       "        \n",
       "    \n",
       "&lt;/script&gt;\n",
       "&lt;/html&gt;\" style=\"position:absolute;width:100%;height:100%;left:0;top:0;border:none !important;\" allowfullscreen webkitallowfullscreen mozallowfullscreen></iframe></div></div>"
      ],
      "text/plain": [
       "<folium.folium.Map at 0x26e14ce4590>"
      ]
     },
     "execution_count": 24,
     "metadata": {},
     "output_type": "execute_result"
    }
   ],
   "source": [
    "# Accedemos al diccionario de cebolla y ponemos los valores de los precios max y min\n",
    "max=cebolla[cebolla[\"precio\"]==420][[\"tipo\",\"loc\",\"imagenes\",\"categoria\"]]\n",
    "min=cebolla[cebolla[\"precio\"]==100][[\"tipo\",\"loc\",\"imagenes\",\"categoria\"]]\n",
    "print(max)\n",
    "print(min)\n",
    "# Personalizamos la ubicaciones\n",
    "mx= pd.DataFrame(dicc[\"cebolla\"][23][\"loc\"])\n",
    "mx_etq=cebolla.loc[23][[\"tipo\",\"precio\",\"imagenes\",\"categoria\"]]\n",
    "popuptext=mx_etq\n",
    "mn= pd.DataFrame(dicc[\"cebolla\"][25][\"loc\"])\n",
    "mn_etq=cebolla.loc[25][[\"tipo\",\"precio\",\"imagenes\",\"categoria\"]]\n",
    "popuptext=mn_etq\n",
    "\n",
    "# Agregamos en el mapa las ubicaciones\n",
    "mapa=folium.Map(location=mx,zoom_start=16)\n",
    "folium.Marker(location=mx,popup=mx_etq,icon=folium.Icon(color=\"red\")).add_to(mapa)\n",
    "folium.Marker(location=mn,popup=mn_etq,icon=folium.Icon(color=\"yellow\")).add_to(mapa)\n",
    "mapa"
   ]
  },
  {
   "attachments": {},
   "cell_type": "markdown",
   "metadata": {},
   "source": [
    "---\n",
    "Refresco Instantáneo\n",
    "---\n",
    "## Zuko\n",
    "Zuko es la última incorporación y hay que decir que se ha adueñado de la preferencia gracias a la abundante oferta. El auge de Zuko no solo se resume a Cuba, la empresa se ha instaurado en diversos países basando su campaña en la experticia de manufacturar y comercializar bebidas en polvo, escogiendo solo los mejores ingredientes para producirlo."
   ]
  },
  {
   "cell_type": "code",
   "execution_count": 25,
   "metadata": {},
   "outputs": [
    {
     "data": {
      "image/png": "[encoded data removed]",
      "text/plain": [
       "<Figure size 628.5x500 with 1 Axes>"
      ]
     },
     "metadata": {},
     "output_type": "display_data"
    }
   ],
   "source": [
    "# Accedemos al diccionario de zuko\n",
    "cant_zuko=zuko.loc[:,[\"tipo\"]].value_counts()\n",
    "# Grafico de dispercion \n",
    "sns.catplot(x=\"precio\",\n",
    "            y=\"tipo\",\n",
    "            data=zuko,\n",
    "            kind=\"strip\",\n",
    "            hue=\"tipo\",\n",
    "            s=70)\n",
    "plt.grid()\n",
    "plt.legend(cant_zuko)\n",
    "plt.show()"
   ]
  },
  {
   "attachments": {},
   "cell_type": "markdown",
   "metadata": {},
   "source": [
    "### Disponiblidad de Zuko en Cuba\n",
    " Zuko es un refresco en polvo que se ha vuelto muy popular en Cuba debido a su sabor delicioso, su facilidad de preparación y su bajo costo en comparación con otros refrescos en el mercado cubano. Además, el hecho de que se pueda preparar en casa en cualquier momento lo hace muy atractivo para las familias cubanas. Otra razón del auge del refresco Zuko en Cuba es que tiene una amplia variedad de sabores que atraen a los consumidores, como lima, naranja, piña, fresa, melocotón, mango, uva y otros.\n",
    "\n",
    "También es importante mencionar que la disponibilidad limitada de otros refrescos en la isla ha llevado a muchos consumidores cubanos a buscar otras alternativas de bebidas, como el refresco Zuko. Debido a la escasez de productos en Cuba, los consumidores están recurriendo a otras opciones para satisfacer sus necesidades de refrescos y Zuko ha llenado ese vacío de manera efectiva. Por lo tanto, su facilidad de preparación, su amplia variedad de sabores y su bajo costo han contribuido al auge del refresco Zuko en Cuba.\n",
    "\n",
    "Ha habido un aumento significativo en el envío de Zuko a Cuba en losúltimos años. El creciente interés por el refresco en la isla ha llevado a fabricantes y distribuidores a aumentar la producción y a enfocar sus esfuerzos en el mercado cubano. Además, el hecho de que los consumidores cubanos pueden comprar Zuko en línea ha permitido que sea más accesible para aquellos que no pueden encontrarlo en las tiendas.\n",
    "\n",
    "También es importante mencionar que el aumento en el envío de Zuko a Cuba está relacionado con el aumento en el turismo en la isla. Muchos visitantes de otros países han llevado el gusto por Zuko a Cuba y han creado una demanda adicional para el refresco en la isla. Esto ha llevado a una mayor importación de Zuko en Cuba para satisfacer la creciente demanda."
   ]
  },
  {
   "cell_type": "code",
   "execution_count": 26,
   "metadata": {},
   "outputs": [
    {
     "name": "stdout",
     "output_type": "stream",
     "text": [
      "           precio\n",
      "count  147.000000\n",
      "mean    82.244898\n",
      "std      9.384913\n",
      "min     60.000000\n",
      "25%     80.000000\n",
      "50%     80.000000\n",
      "75%     85.000000\n",
      "max    100.000000\n",
      "precio\n",
      "80        83\n",
      "100       22\n",
      "70        10\n",
      "90        10\n",
      "85         9\n",
      "75         7\n",
      "60         6\n",
      "Name: count, dtype: int64\n"
     ]
    },
    {
     "data": {
      "text/html": [
       "<div>\n",
       "<style scoped>\n",
       "    .dataframe tbody tr th:only-of-type {\n",
       "        vertical-align: middle;\n",
       "    }\n",
       "\n",
       "    .dataframe tbody tr th {\n",
       "        vertical-align: top;\n",
       "    }\n",
       "\n",
       "    .dataframe thead th {\n",
       "        text-align: right;\n",
       "    }\n",
       "</style>\n",
       "<table border=\"1\" class=\"dataframe\">\n",
       "  <thead>\n",
       "    <tr style=\"text-align: right;\">\n",
       "      <th></th>\n",
       "      <th>precio</th>\n",
       "    </tr>\n",
       "  </thead>\n",
       "  <tbody>\n",
       "    <tr>\n",
       "      <th>0</th>\n",
       "      <td>80</td>\n",
       "    </tr>\n",
       "  </tbody>\n",
       "</table>\n",
       "</div>"
      ],
      "text/plain": [
       "   precio\n",
       "0      80"
      ]
     },
     "execution_count": 26,
     "metadata": {},
     "output_type": "execute_result"
    }
   ],
   "source": [
    "# Utilizamos el precio de los zukos y con la funcion (.describe) y (.value_counts) y (.mode) para sacar moda, la repeticion de los precios y otras propiedades\n",
    "precios=zuko.loc[:,[\"precio\"]].describe()\n",
    "precios1=zuko.loc[:,[\"precio\"]].value_counts()\n",
    "print(precios)\n",
    "print(precios1)\n",
    "\n",
    "precios2=zuko.loc[:,[\"precio\"]].mode()\n",
    "precios2"
   ]
  },
  {
   "attachments": {},
   "cell_type": "markdown",
   "metadata": {},
   "source": [
    "### Localidades\n",
    "Conforme a las localidades en base a la disponibilidad de Zuko, como antes mencionábamos, su popularidad se deja ver a simple vista con su alta disponibilidad en los locales de venta. Marianao, como municipio de La Habana, no se queda atrás. Al ser un refresco muy cotizado por la mayoría de las personas, no queda casi ni un lugar en Marianao donde no puedas encontrar un paquetico de este refresco y su gran variedad de sabores."
   ]
  },
  {
   "attachments": {},
   "cell_type": "markdown",
   "metadata": {},
   "source": [
    "---\n",
    "Refresco Gaseado\n",
    "---\n",
    "Como último producto en nuestra lista, presentamos el análisis del refresco gaseado o refresco de gas, ya que es una bebida muy popular consumida en todo el mundo. Se caracteriza por su burbujeante efervescencia y su sabor dulce y refrescante. Sin embargo, su consumo excesivo ha sido vinculado a una serie de problemas de salud, incluyendo la obesidad, la diabetes y las enfermedades cardíacas. El punto es que es un producto interesante a investigar y más allá de las características que pueda tener estaremos haciendo un análisis no distinto a como lo realizamos con los productos anteriores.\n",
    "\n",
    "Simplemente, la primera pregunta que resalta al investigar este producto sería: ¿cuáles son las marcas de refresco que se encuentran en el mercado y cuáles países las integran? Simultáneamente a esto, con los datos que ya de antemano habíamos proporcionado, se realizó el siguiente gráfico."
   ]
  },
  {
   "cell_type": "code",
   "execution_count": 27,
   "metadata": {},
   "outputs": [
    {
     "data": {
      "application/vnd.plotly.v1+json": {
       "config": {
        "plotlyServerURL": "https://plot.ly"
       },
       "data": [
        {
         "branchvalues": "total",
         "domain": {
          "x": [
           0,
           1
          ],
          "y": [
           0,
           1
          ]
         },
         "hovertemplate": "labels=%{label}<br>count=%{value}<br>parent=%{parent}<br>id=%{id}<extra></extra>",
         "ids": [
          "Cuba/ciego montero",
          "Estados Unidos/coca cola",
          "Itilia/fanta",
          "Alemania/frised",
          "Espana/mirinda",
          "Cuba/najita",
          "Estados Unidos/pepsi",
          "Mexico/pool",
          "Estados Unidos/ritz",
          "Espana/santa",
          "Estados Unidos/seven up",
          "Estados Unidos/sprite",
          "Cuba/tropicola",
          "Panama/unicola",
          "Alemania",
          "Cuba",
          "Espana",
          "Estados Unidos",
          "Itilia",
          "Mexico",
          "Panama"
         ],
         "labels": [
          "ciego montero",
          "coca cola",
          "fanta",
          "frised",
          "mirinda",
          "najita",
          "pepsi",
          "pool",
          "ritz",
          "santa",
          "seven up",
          "sprite",
          "tropicola",
          "unicola",
          "Alemania",
          "Cuba",
          "Espana",
          "Estados Unidos",
          "Itilia",
          "Mexico",
          "Panama"
         ],
         "name": "",
         "parents": [
          "Cuba",
          "Estados Unidos",
          "Itilia",
          "Alemania",
          "Espana",
          "Cuba",
          "Estados Unidos",
          "Mexico",
          "Estados Unidos",
          "Espana",
          "Estados Unidos",
          "Estados Unidos",
          "Cuba",
          "Panama",
          "",
          "",
          "",
          "",
          "",
          "",
          ""
         ],
         "type": "treemap",
         "values": [
          28,
          13,
          5,
          12,
          4,
          2,
          18,
          1,
          2,
          20,
          5,
          5,
          2,
          1,
          12,
          32,
          24,
          43,
          5,
          1,
          1
         ]
        }
       ],
       "layout": {
        "legend": {
         "tracegroupgap": 0
        },
        "template": {
         "data": {
          "bar": [
           {
            "error_x": {
             "color": "#2a3f5f"
            },
            "error_y": {
             "color": "#2a3f5f"
            },
            "marker": {
             "line": {
              "color": "#E5ECF6",
              "width": 0.5
             },
             "pattern": {
              "fillmode": "overlay",
              "size": 10,
              "solidity": 0.2
             }
            },
            "type": "bar"
           }
          ],
          "barpolar": [
           {
            "marker": {
             "line": {
              "color": "#E5ECF6",
              "width": 0.5
             },
             "pattern": {
              "fillmode": "overlay",
              "size": 10,
              "solidity": 0.2
             }
            },
            "type": "barpolar"
           }
          ],
          "carpet": [
           {
            "aaxis": {
             "endlinecolor": "#2a3f5f",
             "gridcolor": "white",
             "linecolor": "white",
             "minorgridcolor": "white",
             "startlinecolor": "#2a3f5f"
            },
            "baxis": {
             "endlinecolor": "#2a3f5f",
             "gridcolor": "white",
             "linecolor": "white",
             "minorgridcolor": "white",
             "startlinecolor": "#2a3f5f"
            },
            "type": "carpet"
           }
          ],
          "choropleth": [
           {
            "colorbar": {
             "outlinewidth": 0,
             "ticks": ""
            },
            "type": "choropleth"
           }
          ],
          "contour": [
           {
            "colorbar": {
             "outlinewidth": 0,
             "ticks": ""
            },
            "colorscale": [
             [
              0,
              "#0d0887"
             ],
             [
              0.1111111111111111,
              "#46039f"
             ],
             [
              0.2222222222222222,
              "#7201a8"
             ],
             [
              0.3333333333333333,
              "#9c179e"
             ],
             [
              0.4444444444444444,
              "#bd3786"
             ],
             [
              0.5555555555555556,
              "#d8576b"
             ],
             [
              0.6666666666666666,
              "#ed7953"
             ],
             [
              0.7777777777777778,
              "#fb9f3a"
             ],
             [
              0.8888888888888888,
              "#fdca26"
             ],
             [
              1,
              "#f0f921"
             ]
            ],
            "type": "contour"
           }
          ],
          "contourcarpet": [
           {
            "colorbar": {
             "outlinewidth": 0,
             "ticks": ""
            },
            "type": "contourcarpet"
           }
          ],
          "heatmap": [
           {
            "colorbar": {
             "outlinewidth": 0,
             "ticks": ""
            },
            "colorscale": [
             [
              0,
              "#0d0887"
             ],
             [
              0.1111111111111111,
              "#46039f"
             ],
             [
              0.2222222222222222,
              "#7201a8"
             ],
             [
              0.3333333333333333,
              "#9c179e"
             ],
             [
              0.4444444444444444,
              "#bd3786"
             ],
             [
              0.5555555555555556,
              "#d8576b"
             ],
             [
              0.6666666666666666,
              "#ed7953"
             ],
             [
              0.7777777777777778,
              "#fb9f3a"
             ],
             [
              0.8888888888888888,
              "#fdca26"
             ],
             [
              1,
              "#f0f921"
             ]
            ],
            "type": "heatmap"
           }
          ],
          "heatmapgl": [
           {
            "colorbar": {
             "outlinewidth": 0,
             "ticks": ""
            },
            "colorscale": [
             [
              0,
              "#0d0887"
             ],
             [
              0.1111111111111111,
              "#46039f"
             ],
             [
              0.2222222222222222,
              "#7201a8"
             ],
             [
              0.3333333333333333,
              "#9c179e"
             ],
             [
              0.4444444444444444,
              "#bd3786"
             ],
             [
              0.5555555555555556,
              "#d8576b"
             ],
             [
              0.6666666666666666,
              "#ed7953"
             ],
             [
              0.7777777777777778,
              "#fb9f3a"
             ],
             [
              0.8888888888888888,
              "#fdca26"
             ],
             [
              1,
              "#f0f921"
             ]
            ],
            "type": "heatmapgl"
           }
          ],
          "histogram": [
           {
            "marker": {
             "pattern": {
              "fillmode": "overlay",
              "size": 10,
              "solidity": 0.2
             }
            },
            "type": "histogram"
           }
          ],
          "histogram2d": [
           {
            "colorbar": {
             "outlinewidth": 0,
             "ticks": ""
            },
            "colorscale": [
             [
              0,
              "#0d0887"
             ],
             [
              0.1111111111111111,
              "#46039f"
             ],
             [
              0.2222222222222222,
              "#7201a8"
             ],
             [
              0.3333333333333333,
              "#9c179e"
             ],
             [
              0.4444444444444444,
              "#bd3786"
             ],
             [
              0.5555555555555556,
              "#d8576b"
             ],
             [
              0.6666666666666666,
              "#ed7953"
             ],
             [
              0.7777777777777778,
              "#fb9f3a"
             ],
             [
              0.8888888888888888,
              "#fdca26"
             ],
             [
              1,
              "#f0f921"
             ]
            ],
            "type": "histogram2d"
           }
          ],
          "histogram2dcontour": [
           {
            "colorbar": {
             "outlinewidth": 0,
             "ticks": ""
            },
            "colorscale": [
             [
              0,
              "#0d0887"
             ],
             [
              0.1111111111111111,
              "#46039f"
             ],
             [
              0.2222222222222222,
              "#7201a8"
             ],
             [
              0.3333333333333333,
              "#9c179e"
             ],
             [
              0.4444444444444444,
              "#bd3786"
             ],
             [
              0.5555555555555556,
              "#d8576b"
             ],
             [
              0.6666666666666666,
              "#ed7953"
             ],
             [
              0.7777777777777778,
              "#fb9f3a"
             ],
             [
              0.8888888888888888,
              "#fdca26"
             ],
             [
              1,
              "#f0f921"
             ]
            ],
            "type": "histogram2dcontour"
           }
          ],
          "mesh3d": [
           {
            "colorbar": {
             "outlinewidth": 0,
             "ticks": ""
            },
            "type": "mesh3d"
           }
          ],
          "parcoords": [
           {
            "line": {
             "colorbar": {
              "outlinewidth": 0,
              "ticks": ""
             }
            },
            "type": "parcoords"
           }
          ],
          "pie": [
           {
            "automargin": true,
            "type": "pie"
           }
          ],
          "scatter": [
           {
            "fillpattern": {
             "fillmode": "overlay",
             "size": 10,
             "solidity": 0.2
            },
            "type": "scatter"
           }
          ],
          "scatter3d": [
           {
            "line": {
             "colorbar": {
              "outlinewidth": 0,
              "ticks": ""
             }
            },
            "marker": {
             "colorbar": {
              "outlinewidth": 0,
              "ticks": ""
             }
            },
            "type": "scatter3d"
           }
          ],
          "scattercarpet": [
           {
            "marker": {
             "colorbar": {
              "outlinewidth": 0,
              "ticks": ""
             }
            },
            "type": "scattercarpet"
           }
          ],
          "scattergeo": [
           {
            "marker": {
             "colorbar": {
              "outlinewidth": 0,
              "ticks": ""
             }
            },
            "type": "scattergeo"
           }
          ],
          "scattergl": [
           {
            "marker": {
             "colorbar": {
              "outlinewidth": 0,
              "ticks": ""
             }
            },
            "type": "scattergl"
           }
          ],
          "scattermapbox": [
           {
            "marker": {
             "colorbar": {
              "outlinewidth": 0,
              "ticks": ""
             }
            },
            "type": "scattermapbox"
           }
          ],
          "scatterpolar": [
           {
            "marker": {
             "colorbar": {
              "outlinewidth": 0,
              "ticks": ""
             }
            },
            "type": "scatterpolar"
           }
          ],
          "scatterpolargl": [
           {
            "marker": {
             "colorbar": {
              "outlinewidth": 0,
              "ticks": ""
             }
            },
            "type": "scatterpolargl"
           }
          ],
          "scatterternary": [
           {
            "marker": {
             "colorbar": {
              "outlinewidth": 0,
              "ticks": ""
             }
            },
            "type": "scatterternary"
           }
          ],
          "surface": [
           {
            "colorbar": {
             "outlinewidth": 0,
             "ticks": ""
            },
            "colorscale": [
             [
              0,
              "#0d0887"
             ],
             [
              0.1111111111111111,
              "#46039f"
             ],
             [
              0.2222222222222222,
              "#7201a8"
             ],
             [
              0.3333333333333333,
              "#9c179e"
             ],
             [
              0.4444444444444444,
              "#bd3786"
             ],
             [
              0.5555555555555556,
              "#d8576b"
             ],
             [
              0.6666666666666666,
              "#ed7953"
             ],
             [
              0.7777777777777778,
              "#fb9f3a"
             ],
             [
              0.8888888888888888,
              "#fdca26"
             ],
             [
              1,
              "#f0f921"
             ]
            ],
            "type": "surface"
           }
          ],
          "table": [
           {
            "cells": {
             "fill": {
              "color": "#EBF0F8"
             },
             "line": {
              "color": "white"
             }
            },
            "header": {
             "fill": {
              "color": "#C8D4E3"
             },
             "line": {
              "color": "white"
             }
            },
            "type": "table"
           }
          ]
         },
         "layout": {
          "annotationdefaults": {
           "arrowcolor": "#2a3f5f",
           "arrowhead": 0,
           "arrowwidth": 1
          },
          "autotypenumbers": "strict",
          "coloraxis": {
           "colorbar": {
            "outlinewidth": 0,
            "ticks": ""
           }
          },
          "colorscale": {
           "diverging": [
            [
             0,
             "#8e0152"
            ],
            [
             0.1,
             "#c51b7d"
            ],
            [
             0.2,
             "#de77ae"
            ],
            [
             0.3,
             "#f1b6da"
            ],
            [
             0.4,
             "#fde0ef"
            ],
            [
             0.5,
             "#f7f7f7"
            ],
            [
             0.6,
             "#e6f5d0"
            ],
            [
             0.7,
             "#b8e186"
            ],
            [
             0.8,
             "#7fbc41"
            ],
            [
             0.9,
             "#4d9221"
            ],
            [
             1,
             "#276419"
            ]
           ],
           "sequential": [
            [
             0,
             "#0d0887"
            ],
            [
             0.1111111111111111,
             "#46039f"
            ],
            [
             0.2222222222222222,
             "#7201a8"
            ],
            [
             0.3333333333333333,
             "#9c179e"
            ],
            [
             0.4444444444444444,
             "#bd3786"
            ],
            [
             0.5555555555555556,
             "#d8576b"
            ],
            [
             0.6666666666666666,
             "#ed7953"
            ],
            [
             0.7777777777777778,
             "#fb9f3a"
            ],
            [
             0.8888888888888888,
             "#fdca26"
            ],
            [
             1,
             "#f0f921"
            ]
           ],
           "sequentialminus": [
            [
             0,
             "#0d0887"
            ],
            [
             0.1111111111111111,
             "#46039f"
            ],
            [
             0.2222222222222222,
             "#7201a8"
            ],
            [
             0.3333333333333333,
             "#9c179e"
            ],
            [
             0.4444444444444444,
             "#bd3786"
            ],
            [
             0.5555555555555556,
             "#d8576b"
            ],
            [
             0.6666666666666666,
             "#ed7953"
            ],
            [
             0.7777777777777778,
             "#fb9f3a"
            ],
            [
             0.8888888888888888,
             "#fdca26"
            ],
            [
             1,
             "#f0f921"
            ]
           ]
          },
          "colorway": [
           "#636efa",
           "#EF553B",
           "#00cc96",
           "#ab63fa",
           "#FFA15A",
           "#19d3f3",
           "#FF6692",
           "#B6E880",
           "#FF97FF",
           "#FECB52"
          ],
          "font": {
           "color": "#2a3f5f"
          },
          "geo": {
           "bgcolor": "white",
           "lakecolor": "white",
           "landcolor": "#E5ECF6",
           "showlakes": true,
           "showland": true,
           "subunitcolor": "white"
          },
          "hoverlabel": {
           "align": "left"
          },
          "hovermode": "closest",
          "mapbox": {
           "style": "light"
          },
          "paper_bgcolor": "white",
          "plot_bgcolor": "#E5ECF6",
          "polar": {
           "angularaxis": {
            "gridcolor": "white",
            "linecolor": "white",
            "ticks": ""
           },
           "bgcolor": "#E5ECF6",
           "radialaxis": {
            "gridcolor": "white",
            "linecolor": "white",
            "ticks": ""
           }
          },
          "scene": {
           "xaxis": {
            "backgroundcolor": "#E5ECF6",
            "gridcolor": "white",
            "gridwidth": 2,
            "linecolor": "white",
            "showbackground": true,
            "ticks": "",
            "zerolinecolor": "white"
           },
           "yaxis": {
            "backgroundcolor": "#E5ECF6",
            "gridcolor": "white",
            "gridwidth": 2,
            "linecolor": "white",
            "showbackground": true,
            "ticks": "",
            "zerolinecolor": "white"
           },
           "zaxis": {
            "backgroundcolor": "#E5ECF6",
            "gridcolor": "white",
            "gridwidth": 2,
            "linecolor": "white",
            "showbackground": true,
            "ticks": "",
            "zerolinecolor": "white"
           }
          },
          "shapedefaults": {
           "line": {
            "color": "#2a3f5f"
           }
          },
          "ternary": {
           "aaxis": {
            "gridcolor": "white",
            "linecolor": "white",
            "ticks": ""
           },
           "baxis": {
            "gridcolor": "white",
            "linecolor": "white",
            "ticks": ""
           },
           "bgcolor": "#E5ECF6",
           "caxis": {
            "gridcolor": "white",
            "linecolor": "white",
            "ticks": ""
           }
          },
          "title": {
           "x": 0.05
          },
          "xaxis": {
           "automargin": true,
           "gridcolor": "white",
           "linecolor": "white",
           "ticks": "",
           "title": {
            "standoff": 15
           },
           "zerolinecolor": "white",
           "zerolinewidth": 2
          },
          "yaxis": {
           "automargin": true,
           "gridcolor": "white",
           "linecolor": "white",
           "ticks": "",
           "title": {
            "standoff": 15
           },
           "zerolinecolor": "white",
           "zerolinewidth": 2
          }
         }
        },
        "title": {
         "text": "Paises y sus marcas"
        }
       }
      }
     },
     "metadata": {},
     "output_type": "display_data"
    }
   ],
   "source": [
    "# Montamos el diccionario de refresco evaluado para marca y pais utilizando nuevamente la funcion(.value_counts)\n",
    "df = pd.DataFrame(refresco.loc[:,[\"marca\", \"pais\"]].value_counts())\n",
    "# Personalizamos el nombre para la visualizacion\n",
    "df = df.reset_index()\n",
    "df = df.rename({0: \"count\"}, axis=1)\n",
    "# Grafico interactivo \n",
    "fig = px.treemap(df, path=[\"pais\", \"marca\"], values= \"count\",title=\"Paises y sus marcas\") \n",
    "fig.show()"
   ]
  },
  {
   "attachments": {},
   "cell_type": "markdown",
   "metadata": {},
   "source": [
    "El gráfico muestra claramente la cantidad de países que exportan refresco gaseado a Cuba y las respectivas marcas que las componen.\n",
    "\n",
    "Como ya sabemos, Cuba tiene un embargo comercial por el gobierno de Estados Unidos, lo que le imposibilita la importación directa de sus productos de venta y el refresco gaseado está dentro de estos. Cuba depende de países terceros para poder realizar este tipo de importaciones al territorio cubano. Países como México y Canadá entran en la lista de países donde Cuba accede a la compra de estos productos estadounidenses, y de esta manera es como tenemos variedad de marcas americanas de los refrescos gaseados circulando por nuestro país. Representando Estados Unidos el mayor porcentaje de venta de refresco debido a marcas populares como son Pepsi, Coca Cola y Seven Up que hoy se encuentran al por mayor en cafeterías, restaurantes y tiendas de comercialización de productos.\n",
    "\n",
    "Cuba no se queda atrás y es mayorista en la comercialización de refresco gaseado. No solo exporta, sino que también juega un papel esencial en el consumo y venta de refresco en el país, con la marca Ciego Montero liderando el mayor porcentaje de venta de sodas cubanas en el país. En general, losrefrescos y bebidas gaseosas cubanas son populares entre los consumidores en Cuba y se consideran parte de la cultura y la identidad de la isla. Tienen una base de consumidores leal y se comercializan como parte de la identidad nacional de Cuba.\n",
    "\n",
    "Marcas como Santa y Mirinda forman parte del ardor cotidiano de ventas de gaseosas actual. Ambas procedentes de España, han cobrado un gran auge en el ámbito cubano. Especializadas principalmente en el sabor naranja, cautivan el paladar de muchas personas en el mundo. España entra en la lista de principales países exportadores de refrescos en el mundo, y hoy en día repobla con sus marcas las cafeterías y lugares de ventas en Cuba. Junto a Estados Unidos, son el mayor porcentaje de marcas importadas de refrescos vendidas en el país y la gráfica muestra con datos esta relación.\n",
    "\n",
    "En nuestra lista también tenemos Alemania, que se ha ganado su lugar con la producción de refresco Frisè y la podemos encontrar circulando en nuestro país, aunque no ha ganado mucha popularidad en la región al igual que otras marcas de otros países que se encuentran en la gráfica conformando un número destacable en nuestros datos."
   ]
  },
  {
   "attachments": {},
   "cell_type": "markdown",
   "metadata": {},
   "source": [
    "### Variación del precio conforme al envase\n",
    "\n",
    "Un dato curioso de analizar es el envase en donde se proporciona el refresco. Lo mismo puede ser en una lata que en un pomo, ¿pero qué tiene de interesante este dato? Mucho, a decir verdad. Aunque no se note, cumple una función bastante significativa al hablar sobre proporciones, precio y también, cómo no, el gusto del público consumidor.\n",
    "\n",
    "En términos de popularidad y quizás beneficios conforme al envase, se ha estudiado que el mayor porcentaje de venta de refresco en el mundo es de refrescos con envase en lata. Ya que, con respecto al sabor, algunos consumidores prefieren los refrescos en lata porque mantiene mucho mejor la frescura y el sabor del producto. Esto se debe a que las latas son opacas y no permiten que la luz entre en contacto con el líquido, lo que puede afectar la calidad del sabor con el tiempo. Y esto, las grandes empresas productoras de refrescos lo saben. Por esta razón, se puede distinguir una diferencia entre la cantidad de refrescos en latas por encima de las de pomos, y lo mostramos en la gráfica siguiente.\n",
    "\n",
    "Otro caso a tener en cuenta es la proporción y es evidente en la mayoría de los casos en este tema: el volumen en los pomos de refresco es mayor que en las latas. Y en temas de gusto, depende de la situación en la que se encuentre el consumidor y la preferencia que desee, conforme a que si quiere más o menos líquido a tomar. Pero este dato, además de ser evidente a simple vista, tiene efecto en otro campo: el precio. Este dato influye principalmente en el precio del refresco. Al tener mayores volúmenes de líquido, evidentemente su costo será relativamente mayor y esto se puede evidenciar en la gráfica posterior donde se puede analizar cómo la diferencia de refresco en lata es excesiva por encima de la de pomo y por marca, y cómo esto puede influenciar en el precio del refresco."
   ]
  },
  {
   "cell_type": "code",
   "execution_count": 28,
   "metadata": {},
   "outputs": [
    {
     "data": {
      "application/vnd.plotly.v1+json": {
       "config": {
        "plotlyServerURL": "https://plot.ly"
       },
       "data": [
        {
         "branchvalues": "total",
         "domain": {
          "x": [
           0,
           1
          ],
          "y": [
           0,
           1
          ]
         },
         "hovertemplate": "labels=%{label}<br>count=%{value}<br>parent=%{parent}<br>id=%{id}<extra></extra>",
         "ids": [
          "lata/ciego montero/130",
          "pomo/fanta/130",
          "lata/santa/130",
          "pomo/sprite/130",
          "lata/ciego montero/140",
          "lata/frised/140",
          "lata/santa/140",
          "lata/ciego montero/150",
          "lata/coca cola/150",
          "lata/fanta/150",
          "lata/frised/150",
          "lata/mirinda/150",
          "lata/najita/150",
          "lata/pepsi/150",
          "pomo/pool/150",
          "lata/santa/150",
          "lata/seven up/150",
          "lata/sprite/150",
          "lata/ciego montero/160",
          "lata/coca cola/160",
          "lata/fanta/160",
          "lata/pepsi/160",
          "lata/santa/160",
          "lata/tropicola/160",
          "lata/ciego montero/170",
          "lata/najita/170",
          "lata/pepsi/170",
          "lata/tropicola/170",
          "pomo/unicola/170",
          "lata/coca cola/180",
          "lata/fanta/180",
          "lata/mirinda/180",
          "lata/pepsi/180",
          "lata/sprite/180",
          "lata/pepsi/200",
          "lata/santa/200",
          "pomo/ciego montero/350",
          "pomo/ciego montero/380",
          "pomo/ciego montero/400",
          "lata/ciego montero",
          "pomo/ciego montero",
          "lata/coca cola",
          "lata/fanta",
          "pomo/fanta",
          "lata/frised",
          "lata/mirinda",
          "lata/najita",
          "lata/pepsi",
          "pomo/pool",
          "lata/santa",
          "lata/seven up",
          "lata/sprite",
          "pomo/sprite",
          "lata/tropicola",
          "pomo/unicola",
          "lata",
          "pomo"
         ],
         "labels": [
          "130",
          "130",
          "130",
          "130",
          "140",
          "140",
          "140",
          "150",
          "150",
          "150",
          "150",
          "150",
          "150",
          "150",
          "150",
          "150",
          "150",
          "150",
          "160",
          "160",
          "160",
          "160",
          "160",
          "160",
          "170",
          "170",
          "170",
          "170",
          "170",
          "180",
          "180",
          "180",
          "180",
          "180",
          "200",
          "200",
          "350",
          "380",
          "400",
          "ciego montero",
          "ciego montero",
          "coca cola",
          "fanta",
          "fanta",
          "frised",
          "mirinda",
          "najita",
          "pepsi",
          "pool",
          "santa",
          "seven up",
          "sprite",
          "sprite",
          "tropicola",
          "unicola",
          "lata",
          "pomo"
         ],
         "name": "",
         "parents": [
          "lata/ciego montero",
          "pomo/fanta",
          "lata/santa",
          "pomo/sprite",
          "lata/ciego montero",
          "lata/frised",
          "lata/santa",
          "lata/ciego montero",
          "lata/coca cola",
          "lata/fanta",
          "lata/frised",
          "lata/mirinda",
          "lata/najita",
          "lata/pepsi",
          "pomo/pool",
          "lata/santa",
          "lata/seven up",
          "lata/sprite",
          "lata/ciego montero",
          "lata/coca cola",
          "lata/fanta",
          "lata/pepsi",
          "lata/santa",
          "lata/tropicola",
          "lata/ciego montero",
          "lata/najita",
          "lata/pepsi",
          "lata/tropicola",
          "pomo/unicola",
          "lata/coca cola",
          "lata/fanta",
          "lata/mirinda",
          "lata/pepsi",
          "lata/sprite",
          "lata/pepsi",
          "lata/santa",
          "pomo/ciego montero",
          "pomo/ciego montero",
          "pomo/ciego montero",
          "lata",
          "pomo",
          "lata",
          "lata",
          "pomo",
          "lata",
          "lata",
          "lata",
          "lata",
          "pomo",
          "lata",
          "lata",
          "lata",
          "pomo",
          "lata",
          "pomo",
          "",
          ""
         ],
         "type": "sunburst",
         "values": [
          2,
          1,
          5,
          2,
          2,
          2,
          3,
          4,
          6,
          1,
          10,
          3,
          1,
          8,
          1,
          7,
          5,
          1,
          3,
          5,
          1,
          3,
          2,
          1,
          1,
          1,
          2,
          1,
          1,
          2,
          2,
          1,
          4,
          2,
          1,
          3,
          7,
          8,
          1,
          12,
          16,
          13,
          4,
          1,
          12,
          4,
          2,
          18,
          1,
          20,
          5,
          3,
          2,
          2,
          1,
          95,
          21
         ]
        }
       ],
       "layout": {
        "legend": {
         "tracegroupgap": 0
        },
        "template": {
         "data": {
          "bar": [
           {
            "error_x": {
             "color": "#2a3f5f"
            },
            "error_y": {
             "color": "#2a3f5f"
            },
            "marker": {
             "line": {
              "color": "#E5ECF6",
              "width": 0.5
             },
             "pattern": {
              "fillmode": "overlay",
              "size": 10,
              "solidity": 0.2
             }
            },
            "type": "bar"
           }
          ],
          "barpolar": [
           {
            "marker": {
             "line": {
              "color": "#E5ECF6",
              "width": 0.5
             },
             "pattern": {
              "fillmode": "overlay",
              "size": 10,
              "solidity": 0.2
             }
            },
            "type": "barpolar"
           }
          ],
          "carpet": [
           {
            "aaxis": {
             "endlinecolor": "#2a3f5f",
             "gridcolor": "white",
             "linecolor": "white",
             "minorgridcolor": "white",
             "startlinecolor": "#2a3f5f"
            },
            "baxis": {
             "endlinecolor": "#2a3f5f",
             "gridcolor": "white",
             "linecolor": "white",
             "minorgridcolor": "white",
             "startlinecolor": "#2a3f5f"
            },
            "type": "carpet"
           }
          ],
          "choropleth": [
           {
            "colorbar": {
             "outlinewidth": 0,
             "ticks": ""
            },
            "type": "choropleth"
           }
          ],
          "contour": [
           {
            "colorbar": {
             "outlinewidth": 0,
             "ticks": ""
            },
            "colorscale": [
             [
              0,
              "#0d0887"
             ],
             [
              0.1111111111111111,
              "#46039f"
             ],
             [
              0.2222222222222222,
              "#7201a8"
             ],
             [
              0.3333333333333333,
              "#9c179e"
             ],
             [
              0.4444444444444444,
              "#bd3786"
             ],
             [
              0.5555555555555556,
              "#d8576b"
             ],
             [
              0.6666666666666666,
              "#ed7953"
             ],
             [
              0.7777777777777778,
              "#fb9f3a"
             ],
             [
              0.8888888888888888,
              "#fdca26"
             ],
             [
              1,
              "#f0f921"
             ]
            ],
            "type": "contour"
           }
          ],
          "contourcarpet": [
           {
            "colorbar": {
             "outlinewidth": 0,
             "ticks": ""
            },
            "type": "contourcarpet"
           }
          ],
          "heatmap": [
           {
            "colorbar": {
             "outlinewidth": 0,
             "ticks": ""
            },
            "colorscale": [
             [
              0,
              "#0d0887"
             ],
             [
              0.1111111111111111,
              "#46039f"
             ],
             [
              0.2222222222222222,
              "#7201a8"
             ],
             [
              0.3333333333333333,
              "#9c179e"
             ],
             [
              0.4444444444444444,
              "#bd3786"
             ],
             [
              0.5555555555555556,
              "#d8576b"
             ],
             [
              0.6666666666666666,
              "#ed7953"
             ],
             [
              0.7777777777777778,
              "#fb9f3a"
             ],
             [
              0.8888888888888888,
              "#fdca26"
             ],
             [
              1,
              "#f0f921"
             ]
            ],
            "type": "heatmap"
           }
          ],
          "heatmapgl": [
           {
            "colorbar": {
             "outlinewidth": 0,
             "ticks": ""
            },
            "colorscale": [
             [
              0,
              "#0d0887"
             ],
             [
              0.1111111111111111,
              "#46039f"
             ],
             [
              0.2222222222222222,
              "#7201a8"
             ],
             [
              0.3333333333333333,
              "#9c179e"
             ],
             [
              0.4444444444444444,
              "#bd3786"
             ],
             [
              0.5555555555555556,
              "#d8576b"
             ],
             [
              0.6666666666666666,
              "#ed7953"
             ],
             [
              0.7777777777777778,
              "#fb9f3a"
             ],
             [
              0.8888888888888888,
              "#fdca26"
             ],
             [
              1,
              "#f0f921"
             ]
            ],
            "type": "heatmapgl"
           }
          ],
          "histogram": [
           {
            "marker": {
             "pattern": {
              "fillmode": "overlay",
              "size": 10,
              "solidity": 0.2
             }
            },
            "type": "histogram"
           }
          ],
          "histogram2d": [
           {
            "colorbar": {
             "outlinewidth": 0,
             "ticks": ""
            },
            "colorscale": [
             [
              0,
              "#0d0887"
             ],
             [
              0.1111111111111111,
              "#46039f"
             ],
             [
              0.2222222222222222,
              "#7201a8"
             ],
             [
              0.3333333333333333,
              "#9c179e"
             ],
             [
              0.4444444444444444,
              "#bd3786"
             ],
             [
              0.5555555555555556,
              "#d8576b"
             ],
             [
              0.6666666666666666,
              "#ed7953"
             ],
             [
              0.7777777777777778,
              "#fb9f3a"
             ],
             [
              0.8888888888888888,
              "#fdca26"
             ],
             [
              1,
              "#f0f921"
             ]
            ],
            "type": "histogram2d"
           }
          ],
          "histogram2dcontour": [
           {
            "colorbar": {
             "outlinewidth": 0,
             "ticks": ""
            },
            "colorscale": [
             [
              0,
              "#0d0887"
             ],
             [
              0.1111111111111111,
              "#46039f"
             ],
             [
              0.2222222222222222,
              "#7201a8"
             ],
             [
              0.3333333333333333,
              "#9c179e"
             ],
             [
              0.4444444444444444,
              "#bd3786"
             ],
             [
              0.5555555555555556,
              "#d8576b"
             ],
             [
              0.6666666666666666,
              "#ed7953"
             ],
             [
              0.7777777777777778,
              "#fb9f3a"
             ],
             [
              0.8888888888888888,
              "#fdca26"
             ],
             [
              1,
              "#f0f921"
             ]
            ],
            "type": "histogram2dcontour"
           }
          ],
          "mesh3d": [
           {
            "colorbar": {
             "outlinewidth": 0,
             "ticks": ""
            },
            "type": "mesh3d"
           }
          ],
          "parcoords": [
           {
            "line": {
             "colorbar": {
              "outlinewidth": 0,
              "ticks": ""
             }
            },
            "type": "parcoords"
           }
          ],
          "pie": [
           {
            "automargin": true,
            "type": "pie"
           }
          ],
          "scatter": [
           {
            "fillpattern": {
             "fillmode": "overlay",
             "size": 10,
             "solidity": 0.2
            },
            "type": "scatter"
           }
          ],
          "scatter3d": [
           {
            "line": {
             "colorbar": {
              "outlinewidth": 0,
              "ticks": ""
             }
            },
            "marker": {
             "colorbar": {
              "outlinewidth": 0,
              "ticks": ""
             }
            },
            "type": "scatter3d"
           }
          ],
          "scattercarpet": [
           {
            "marker": {
             "colorbar": {
              "outlinewidth": 0,
              "ticks": ""
             }
            },
            "type": "scattercarpet"
           }
          ],
          "scattergeo": [
           {
            "marker": {
             "colorbar": {
              "outlinewidth": 0,
              "ticks": ""
             }
            },
            "type": "scattergeo"
           }
          ],
          "scattergl": [
           {
            "marker": {
             "colorbar": {
              "outlinewidth": 0,
              "ticks": ""
             }
            },
            "type": "scattergl"
           }
          ],
          "scattermapbox": [
           {
            "marker": {
             "colorbar": {
              "outlinewidth": 0,
              "ticks": ""
             }
            },
            "type": "scattermapbox"
           }
          ],
          "scatterpolar": [
           {
            "marker": {
             "colorbar": {
              "outlinewidth": 0,
              "ticks": ""
             }
            },
            "type": "scatterpolar"
           }
          ],
          "scatterpolargl": [
           {
            "marker": {
             "colorbar": {
              "outlinewidth": 0,
              "ticks": ""
             }
            },
            "type": "scatterpolargl"
           }
          ],
          "scatterternary": [
           {
            "marker": {
             "colorbar": {
              "outlinewidth": 0,
              "ticks": ""
             }
            },
            "type": "scatterternary"
           }
          ],
          "surface": [
           {
            "colorbar": {
             "outlinewidth": 0,
             "ticks": ""
            },
            "colorscale": [
             [
              0,
              "#0d0887"
             ],
             [
              0.1111111111111111,
              "#46039f"
             ],
             [
              0.2222222222222222,
              "#7201a8"
             ],
             [
              0.3333333333333333,
              "#9c179e"
             ],
             [
              0.4444444444444444,
              "#bd3786"
             ],
             [
              0.5555555555555556,
              "#d8576b"
             ],
             [
              0.6666666666666666,
              "#ed7953"
             ],
             [
              0.7777777777777778,
              "#fb9f3a"
             ],
             [
              0.8888888888888888,
              "#fdca26"
             ],
             [
              1,
              "#f0f921"
             ]
            ],
            "type": "surface"
           }
          ],
          "table": [
           {
            "cells": {
             "fill": {
              "color": "#EBF0F8"
             },
             "line": {
              "color": "white"
             }
            },
            "header": {
             "fill": {
              "color": "#C8D4E3"
             },
             "line": {
              "color": "white"
             }
            },
            "type": "table"
           }
          ]
         },
         "layout": {
          "annotationdefaults": {
           "arrowcolor": "#2a3f5f",
           "arrowhead": 0,
           "arrowwidth": 1
          },
          "autotypenumbers": "strict",
          "coloraxis": {
           "colorbar": {
            "outlinewidth": 0,
            "ticks": ""
           }
          },
          "colorscale": {
           "diverging": [
            [
             0,
             "#8e0152"
            ],
            [
             0.1,
             "#c51b7d"
            ],
            [
             0.2,
             "#de77ae"
            ],
            [
             0.3,
             "#f1b6da"
            ],
            [
             0.4,
             "#fde0ef"
            ],
            [
             0.5,
             "#f7f7f7"
            ],
            [
             0.6,
             "#e6f5d0"
            ],
            [
             0.7,
             "#b8e186"
            ],
            [
             0.8,
             "#7fbc41"
            ],
            [
             0.9,
             "#4d9221"
            ],
            [
             1,
             "#276419"
            ]
           ],
           "sequential": [
            [
             0,
             "#0d0887"
            ],
            [
             0.1111111111111111,
             "#46039f"
            ],
            [
             0.2222222222222222,
             "#7201a8"
            ],
            [
             0.3333333333333333,
             "#9c179e"
            ],
            [
             0.4444444444444444,
             "#bd3786"
            ],
            [
             0.5555555555555556,
             "#d8576b"
            ],
            [
             0.6666666666666666,
             "#ed7953"
            ],
            [
             0.7777777777777778,
             "#fb9f3a"
            ],
            [
             0.8888888888888888,
             "#fdca26"
            ],
            [
             1,
             "#f0f921"
            ]
           ],
           "sequentialminus": [
            [
             0,
             "#0d0887"
            ],
            [
             0.1111111111111111,
             "#46039f"
            ],
            [
             0.2222222222222222,
             "#7201a8"
            ],
            [
             0.3333333333333333,
             "#9c179e"
            ],
            [
             0.4444444444444444,
             "#bd3786"
            ],
            [
             0.5555555555555556,
             "#d8576b"
            ],
            [
             0.6666666666666666,
             "#ed7953"
            ],
            [
             0.7777777777777778,
             "#fb9f3a"
            ],
            [
             0.8888888888888888,
             "#fdca26"
            ],
            [
             1,
             "#f0f921"
            ]
           ]
          },
          "colorway": [
           "#636efa",
           "#EF553B",
           "#00cc96",
           "#ab63fa",
           "#FFA15A",
           "#19d3f3",
           "#FF6692",
           "#B6E880",
           "#FF97FF",
           "#FECB52"
          ],
          "font": {
           "color": "#2a3f5f"
          },
          "geo": {
           "bgcolor": "white",
           "lakecolor": "white",
           "landcolor": "#E5ECF6",
           "showlakes": true,
           "showland": true,
           "subunitcolor": "white"
          },
          "hoverlabel": {
           "align": "left"
          },
          "hovermode": "closest",
          "mapbox": {
           "style": "light"
          },
          "paper_bgcolor": "white",
          "plot_bgcolor": "#E5ECF6",
          "polar": {
           "angularaxis": {
            "gridcolor": "white",
            "linecolor": "white",
            "ticks": ""
           },
           "bgcolor": "#E5ECF6",
           "radialaxis": {
            "gridcolor": "white",
            "linecolor": "white",
            "ticks": ""
           }
          },
          "scene": {
           "xaxis": {
            "backgroundcolor": "#E5ECF6",
            "gridcolor": "white",
            "gridwidth": 2,
            "linecolor": "white",
            "showbackground": true,
            "ticks": "",
            "zerolinecolor": "white"
           },
           "yaxis": {
            "backgroundcolor": "#E5ECF6",
            "gridcolor": "white",
            "gridwidth": 2,
            "linecolor": "white",
            "showbackground": true,
            "ticks": "",
            "zerolinecolor": "white"
           },
           "zaxis": {
            "backgroundcolor": "#E5ECF6",
            "gridcolor": "white",
            "gridwidth": 2,
            "linecolor": "white",
            "showbackground": true,
            "ticks": "",
            "zerolinecolor": "white"
           }
          },
          "shapedefaults": {
           "line": {
            "color": "#2a3f5f"
           }
          },
          "ternary": {
           "aaxis": {
            "gridcolor": "white",
            "linecolor": "white",
            "ticks": ""
           },
           "baxis": {
            "gridcolor": "white",
            "linecolor": "white",
            "ticks": ""
           },
           "bgcolor": "#E5ECF6",
           "caxis": {
            "gridcolor": "white",
            "linecolor": "white",
            "ticks": ""
           }
          },
          "title": {
           "x": 0.05
          },
          "xaxis": {
           "automargin": true,
           "gridcolor": "white",
           "linecolor": "white",
           "ticks": "",
           "title": {
            "standoff": 15
           },
           "zerolinecolor": "white",
           "zerolinewidth": 2
          },
          "yaxis": {
           "automargin": true,
           "gridcolor": "white",
           "linecolor": "white",
           "ticks": "",
           "title": {
            "standoff": 15
           },
           "zerolinecolor": "white",
           "zerolinewidth": 2
          }
         }
        },
        "title": {
         "text": "Envase"
        }
       }
      }
     },
     "metadata": {},
     "output_type": "display_data"
    }
   ],
   "source": [
    "# Accedemos al DataFrame del refresco y escogemos la marca, envase y el precio, utilizando nuevamente la funcion(.value_counts)\n",
    "df = pd.DataFrame(refresco.loc[:,[\"marca\", \"envase\",\"precio\"]].value_counts())\n",
    "df = df.reset_index()\n",
    "df = df.rename({0: \"count\"}, axis=1)\n",
    "# Grafica interactiva de pastel\n",
    "fig = px.sunburst(df, path=[\"envase\", \"marca\",\"precio\"], values= \"count\",title=\"Envase\") \n",
    "fig.show()"
   ]
  },
  {
   "attachments": {},
   "cell_type": "markdown",
   "metadata": {},
   "source": [
    "### Precios, Marcas y sobre todo Sabor\n",
    "Aquí es donde entramos en la variedad de sabores de cada marca vendida en Cuba, como dato interesante en nuestro análisis.\n",
    "\n",
    "La siguiente gráfica interactiva contiene la relación por sabores en las marcas y el precio correspondiente. De esta gráfica, podemos sacar mucha información importante y respuestas a preguntas que queramos hacernos referente a este tema. Por ejemplo, ¿cuál es la marca más cara y de qué sabor es? Y sencillamente encontraremos la respuesta evidente de que es la marca Ciego Montero, procedente de Cuba, con sabor a cola y un precio de 400 pesos, y su precio se debe a que su contenido es en envase. Podríamos hacernos la pregunta de ¿cuál es el sabor más predominante? Y veremos cómo la naranja predomina más que la cola o limón. Recuérdese que esto está basado en los datos extraídos en el municipio de Marianao. Y con respecto a las marcas, podría surgir la pregunta de ¿cuál sería la que más abunda y cuál es la que más variedad de sabores tiene? Respectivamente, la respuesta sería en ambas la Ciego Montero nuevamente.\n",
    "\n",
    "Puede realizarse cualquier tipo de análisis relacionadosobre este tema basándonos en los datos que nos proporciona la gráfica. Y es muy interesante toda la información que podemos sacar de todo esto."
   ]
  },
  {
   "cell_type": "code",
   "execution_count": 29,
   "metadata": {},
   "outputs": [
    {
     "data": {
      "application/vnd.plotly.v1+json": {
       "config": {
        "plotlyServerURL": "https://plot.ly"
       },
       "data": [
        {
         "hovertemplate": "sabor=cola<br>marca=%{x}<br>precio=%{y}<extra></extra>",
         "legendgroup": "cola",
         "marker": {
          "color": "#636efa",
          "symbol": "circle"
         },
         "mode": "markers",
         "name": "cola",
         "orientation": "v",
         "showlegend": true,
         "type": "scatter",
         "x": [
          "pepsi",
          "pepsi",
          "santa",
          "coca cola",
          "santa",
          "pepsi",
          "ciego montero",
          "coca cola",
          "ciego montero",
          "tropicola",
          "pepsi",
          "frised",
          "ciego montero",
          "pepsi",
          "ciego montero",
          "pepsi",
          "pepsi",
          "ciego montero",
          "tropicola",
          "frised",
          "santa",
          "ritz",
          "frised",
          "ciego montero",
          "coca cola",
          "coca cola",
          "coca cola",
          "pepsi",
          "pepsi",
          "santa",
          "santa",
          "coca cola",
          "pepsi",
          "santa",
          "pepsi",
          "pepsi",
          "coca cola",
          "pepsi",
          "coca cola",
          "frised",
          "pepsi",
          "coca cola",
          "pepsi",
          "coca cola",
          "ciego montero",
          "ciego montero",
          "ciego montero",
          "pepsi",
          "frised",
          "coca cola",
          "ciego montero",
          "pepsi",
          "unicola",
          "ciego montero",
          "frised",
          "santa",
          "pepsi",
          "santa",
          "coca cola"
         ],
         "xaxis": "x",
         "y": [
          150,
          180,
          150,
          150,
          150,
          150,
          130,
          180,
          170,
          170,
          150,
          150,
          350,
          180,
          150,
          150,
          180,
          350,
          160,
          150,
          160,
          160,
          150,
          350,
          150,
          150,
          160,
          150,
          150,
          140,
          130,
          160,
          160,
          140,
          170,
          180,
          180,
          160,
          160,
          150,
          150,
          150,
          150,
          150,
          380,
          160,
          380,
          160,
          140,
          150,
          380,
          170,
          170,
          400,
          150,
          130,
          200,
          200,
          160
         ],
         "yaxis": "y"
        },
        {
         "hovertemplate": "sabor=naranja<br>marca=%{x}<br>precio=%{y}<extra></extra>",
         "legendgroup": "naranja",
         "marker": {
          "color": "#EF553B",
          "symbol": "circle"
         },
         "mode": "markers",
         "name": "naranja",
         "orientation": "v",
         "showlegend": true,
         "type": "scatter",
         "x": [
          "santa",
          "najita",
          "mirinda",
          "santa",
          "fanta",
          "mirinda",
          "ciego montero",
          "pool",
          "mirinda",
          "ciego montero",
          "ciego montero",
          "frised",
          "santa",
          "ritz",
          "frised",
          "santa",
          "mirinda",
          "santa",
          "santa",
          "ciego montero",
          "najita",
          "fanta",
          "fanta",
          "ciego montero",
          "frised",
          "santa",
          "santa",
          "fanta",
          "fanta"
         ],
         "xaxis": "x",
         "y": [
          150,
          150,
          150,
          150,
          180,
          150,
          150,
          150,
          180,
          150,
          350,
          150,
          160,
          160,
          150,
          150,
          150,
          140,
          130,
          140,
          170,
          180,
          150,
          160,
          150,
          130,
          200,
          160,
          130
         ],
         "yaxis": "y"
        },
        {
         "hovertemplate": "sabor=limon<br>marca=%{x}<br>precio=%{y}<extra></extra>",
         "legendgroup": "limon",
         "marker": {
          "color": "#00cc96",
          "symbol": "circle"
         },
         "mode": "markers",
         "name": "limon",
         "orientation": "v",
         "showlegend": true,
         "type": "scatter",
         "x": [
          "santa",
          "seven up",
          "sprite",
          "seven up",
          "santa",
          "seven up",
          "ciego montero",
          "ciego montero",
          "sprite",
          "ciego montero",
          "seven up",
          "santa",
          "sprite",
          "seven up",
          "sprite",
          "ciego montero",
          "frised",
          "frised",
          "santa",
          "sprite"
         ],
         "xaxis": "x",
         "y": [
          150,
          150,
          180,
          150,
          150,
          150,
          160,
          350,
          130,
          350,
          150,
          130,
          180,
          150,
          150,
          380,
          140,
          150,
          200,
          130
         ],
         "yaxis": "y"
        },
        {
         "hovertemplate": "sabor=pinna<br>marca=%{x}<br>precio=%{y}<extra></extra>",
         "legendgroup": "pinna",
         "marker": {
          "color": "#ab63fa",
          "symbol": "circle"
         },
         "mode": "markers",
         "name": "pinna",
         "orientation": "v",
         "showlegend": true,
         "type": "scatter",
         "x": [
          "ciego montero",
          "frised"
         ],
         "xaxis": "x",
         "y": [
          150,
          150
         ],
         "yaxis": "y"
        },
        {
         "hovertemplate": "sabor=mate<br>marca=%{x}<br>precio=%{y}<extra></extra>",
         "legendgroup": "mate",
         "marker": {
          "color": "#FFA15A",
          "symbol": "circle"
         },
         "mode": "markers",
         "name": "mate",
         "orientation": "v",
         "showlegend": true,
         "type": "scatter",
         "x": [
          "ciego montero",
          "ciego montero",
          "ciego montero",
          "ciego montero",
          "ciego montero",
          "ciego montero"
         ],
         "xaxis": "x",
         "y": [
          380,
          350,
          380,
          380,
          140,
          380
         ],
         "yaxis": "y"
        },
        {
         "hovertemplate": "sabor=cola dietetica<br>marca=%{x}<br>precio=%{y}<extra></extra>",
         "legendgroup": "cola dietetica",
         "marker": {
          "color": "#19d3f3",
          "symbol": "circle"
         },
         "mode": "markers",
         "name": "cola dietetica",
         "orientation": "v",
         "showlegend": true,
         "type": "scatter",
         "x": [
          "ciego montero",
          "coca cola"
         ],
         "xaxis": "x",
         "y": [
          130,
          160
         ],
         "yaxis": "y"
        }
       ],
       "layout": {
        "legend": {
         "title": {
          "text": "sabor"
         },
         "tracegroupgap": 0
        },
        "template": {
         "data": {
          "bar": [
           {
            "error_x": {
             "color": "#2a3f5f"
            },
            "error_y": {
             "color": "#2a3f5f"
            },
            "marker": {
             "line": {
              "color": "#E5ECF6",
              "width": 0.5
             },
             "pattern": {
              "fillmode": "overlay",
              "size": 10,
              "solidity": 0.2
             }
            },
            "type": "bar"
           }
          ],
          "barpolar": [
           {
            "marker": {
             "line": {
              "color": "#E5ECF6",
              "width": 0.5
             },
             "pattern": {
              "fillmode": "overlay",
              "size": 10,
              "solidity": 0.2
             }
            },
            "type": "barpolar"
           }
          ],
          "carpet": [
           {
            "aaxis": {
             "endlinecolor": "#2a3f5f",
             "gridcolor": "white",
             "linecolor": "white",
             "minorgridcolor": "white",
             "startlinecolor": "#2a3f5f"
            },
            "baxis": {
             "endlinecolor": "#2a3f5f",
             "gridcolor": "white",
             "linecolor": "white",
             "minorgridcolor": "white",
             "startlinecolor": "#2a3f5f"
            },
            "type": "carpet"
           }
          ],
          "choropleth": [
           {
            "colorbar": {
             "outlinewidth": 0,
             "ticks": ""
            },
            "type": "choropleth"
           }
          ],
          "contour": [
           {
            "colorbar": {
             "outlinewidth": 0,
             "ticks": ""
            },
            "colorscale": [
             [
              0,
              "#0d0887"
             ],
             [
              0.1111111111111111,
              "#46039f"
             ],
             [
              0.2222222222222222,
              "#7201a8"
             ],
             [
              0.3333333333333333,
              "#9c179e"
             ],
             [
              0.4444444444444444,
              "#bd3786"
             ],
             [
              0.5555555555555556,
              "#d8576b"
             ],
             [
              0.6666666666666666,
              "#ed7953"
             ],
             [
              0.7777777777777778,
              "#fb9f3a"
             ],
             [
              0.8888888888888888,
              "#fdca26"
             ],
             [
              1,
              "#f0f921"
             ]
            ],
            "type": "contour"
           }
          ],
          "contourcarpet": [
           {
            "colorbar": {
             "outlinewidth": 0,
             "ticks": ""
            },
            "type": "contourcarpet"
           }
          ],
          "heatmap": [
           {
            "colorbar": {
             "outlinewidth": 0,
             "ticks": ""
            },
            "colorscale": [
             [
              0,
              "#0d0887"
             ],
             [
              0.1111111111111111,
              "#46039f"
             ],
             [
              0.2222222222222222,
              "#7201a8"
             ],
             [
              0.3333333333333333,
              "#9c179e"
             ],
             [
              0.4444444444444444,
              "#bd3786"
             ],
             [
              0.5555555555555556,
              "#d8576b"
             ],
             [
              0.6666666666666666,
              "#ed7953"
             ],
             [
              0.7777777777777778,
              "#fb9f3a"
             ],
             [
              0.8888888888888888,
              "#fdca26"
             ],
             [
              1,
              "#f0f921"
             ]
            ],
            "type": "heatmap"
           }
          ],
          "heatmapgl": [
           {
            "colorbar": {
             "outlinewidth": 0,
             "ticks": ""
            },
            "colorscale": [
             [
              0,
              "#0d0887"
             ],
             [
              0.1111111111111111,
              "#46039f"
             ],
             [
              0.2222222222222222,
              "#7201a8"
             ],
             [
              0.3333333333333333,
              "#9c179e"
             ],
             [
              0.4444444444444444,
              "#bd3786"
             ],
             [
              0.5555555555555556,
              "#d8576b"
             ],
             [
              0.6666666666666666,
              "#ed7953"
             ],
             [
              0.7777777777777778,
              "#fb9f3a"
             ],
             [
              0.8888888888888888,
              "#fdca26"
             ],
             [
              1,
              "#f0f921"
             ]
            ],
            "type": "heatmapgl"
           }
          ],
          "histogram": [
           {
            "marker": {
             "pattern": {
              "fillmode": "overlay",
              "size": 10,
              "solidity": 0.2
             }
            },
            "type": "histogram"
           }
          ],
          "histogram2d": [
           {
            "colorbar": {
             "outlinewidth": 0,
             "ticks": ""
            },
            "colorscale": [
             [
              0,
              "#0d0887"
             ],
             [
              0.1111111111111111,
              "#46039f"
             ],
             [
              0.2222222222222222,
              "#7201a8"
             ],
             [
              0.3333333333333333,
              "#9c179e"
             ],
             [
              0.4444444444444444,
              "#bd3786"
             ],
             [
              0.5555555555555556,
              "#d8576b"
             ],
             [
              0.6666666666666666,
              "#ed7953"
             ],
             [
              0.7777777777777778,
              "#fb9f3a"
             ],
             [
              0.8888888888888888,
              "#fdca26"
             ],
             [
              1,
              "#f0f921"
             ]
            ],
            "type": "histogram2d"
           }
          ],
          "histogram2dcontour": [
           {
            "colorbar": {
             "outlinewidth": 0,
             "ticks": ""
            },
            "colorscale": [
             [
              0,
              "#0d0887"
             ],
             [
              0.1111111111111111,
              "#46039f"
             ],
             [
              0.2222222222222222,
              "#7201a8"
             ],
             [
              0.3333333333333333,
              "#9c179e"
             ],
             [
              0.4444444444444444,
              "#bd3786"
             ],
             [
              0.5555555555555556,
              "#d8576b"
             ],
             [
              0.6666666666666666,
              "#ed7953"
             ],
             [
              0.7777777777777778,
              "#fb9f3a"
             ],
             [
              0.8888888888888888,
              "#fdca26"
             ],
             [
              1,
              "#f0f921"
             ]
            ],
            "type": "histogram2dcontour"
           }
          ],
          "mesh3d": [
           {
            "colorbar": {
             "outlinewidth": 0,
             "ticks": ""
            },
            "type": "mesh3d"
           }
          ],
          "parcoords": [
           {
            "line": {
             "colorbar": {
              "outlinewidth": 0,
              "ticks": ""
             }
            },
            "type": "parcoords"
           }
          ],
          "pie": [
           {
            "automargin": true,
            "type": "pie"
           }
          ],
          "scatter": [
           {
            "fillpattern": {
             "fillmode": "overlay",
             "size": 10,
             "solidity": 0.2
            },
            "type": "scatter"
           }
          ],
          "scatter3d": [
           {
            "line": {
             "colorbar": {
              "outlinewidth": 0,
              "ticks": ""
             }
            },
            "marker": {
             "colorbar": {
              "outlinewidth": 0,
              "ticks": ""
             }
            },
            "type": "scatter3d"
           }
          ],
          "scattercarpet": [
           {
            "marker": {
             "colorbar": {
              "outlinewidth": 0,
              "ticks": ""
             }
            },
            "type": "scattercarpet"
           }
          ],
          "scattergeo": [
           {
            "marker": {
             "colorbar": {
              "outlinewidth": 0,
              "ticks": ""
             }
            },
            "type": "scattergeo"
           }
          ],
          "scattergl": [
           {
            "marker": {
             "colorbar": {
              "outlinewidth": 0,
              "ticks": ""
             }
            },
            "type": "scattergl"
           }
          ],
          "scattermapbox": [
           {
            "marker": {
             "colorbar": {
              "outlinewidth": 0,
              "ticks": ""
             }
            },
            "type": "scattermapbox"
           }
          ],
          "scatterpolar": [
           {
            "marker": {
             "colorbar": {
              "outlinewidth": 0,
              "ticks": ""
             }
            },
            "type": "scatterpolar"
           }
          ],
          "scatterpolargl": [
           {
            "marker": {
             "colorbar": {
              "outlinewidth": 0,
              "ticks": ""
             }
            },
            "type": "scatterpolargl"
           }
          ],
          "scatterternary": [
           {
            "marker": {
             "colorbar": {
              "outlinewidth": 0,
              "ticks": ""
             }
            },
            "type": "scatterternary"
           }
          ],
          "surface": [
           {
            "colorbar": {
             "outlinewidth": 0,
             "ticks": ""
            },
            "colorscale": [
             [
              0,
              "#0d0887"
             ],
             [
              0.1111111111111111,
              "#46039f"
             ],
             [
              0.2222222222222222,
              "#7201a8"
             ],
             [
              0.3333333333333333,
              "#9c179e"
             ],
             [
              0.4444444444444444,
              "#bd3786"
             ],
             [
              0.5555555555555556,
              "#d8576b"
             ],
             [
              0.6666666666666666,
              "#ed7953"
             ],
             [
              0.7777777777777778,
              "#fb9f3a"
             ],
             [
              0.8888888888888888,
              "#fdca26"
             ],
             [
              1,
              "#f0f921"
             ]
            ],
            "type": "surface"
           }
          ],
          "table": [
           {
            "cells": {
             "fill": {
              "color": "#EBF0F8"
             },
             "line": {
              "color": "white"
             }
            },
            "header": {
             "fill": {
              "color": "#C8D4E3"
             },
             "line": {
              "color": "white"
             }
            },
            "type": "table"
           }
          ]
         },
         "layout": {
          "annotationdefaults": {
           "arrowcolor": "#2a3f5f",
           "arrowhead": 0,
           "arrowwidth": 1
          },
          "autotypenumbers": "strict",
          "coloraxis": {
           "colorbar": {
            "outlinewidth": 0,
            "ticks": ""
           }
          },
          "colorscale": {
           "diverging": [
            [
             0,
             "#8e0152"
            ],
            [
             0.1,
             "#c51b7d"
            ],
            [
             0.2,
             "#de77ae"
            ],
            [
             0.3,
             "#f1b6da"
            ],
            [
             0.4,
             "#fde0ef"
            ],
            [
             0.5,
             "#f7f7f7"
            ],
            [
             0.6,
             "#e6f5d0"
            ],
            [
             0.7,
             "#b8e186"
            ],
            [
             0.8,
             "#7fbc41"
            ],
            [
             0.9,
             "#4d9221"
            ],
            [
             1,
             "#276419"
            ]
           ],
           "sequential": [
            [
             0,
             "#0d0887"
            ],
            [
             0.1111111111111111,
             "#46039f"
            ],
            [
             0.2222222222222222,
             "#7201a8"
            ],
            [
             0.3333333333333333,
             "#9c179e"
            ],
            [
             0.4444444444444444,
             "#bd3786"
            ],
            [
             0.5555555555555556,
             "#d8576b"
            ],
            [
             0.6666666666666666,
             "#ed7953"
            ],
            [
             0.7777777777777778,
             "#fb9f3a"
            ],
            [
             0.8888888888888888,
             "#fdca26"
            ],
            [
             1,
             "#f0f921"
            ]
           ],
           "sequentialminus": [
            [
             0,
             "#0d0887"
            ],
            [
             0.1111111111111111,
             "#46039f"
            ],
            [
             0.2222222222222222,
             "#7201a8"
            ],
            [
             0.3333333333333333,
             "#9c179e"
            ],
            [
             0.4444444444444444,
             "#bd3786"
            ],
            [
             0.5555555555555556,
             "#d8576b"
            ],
            [
             0.6666666666666666,
             "#ed7953"
            ],
            [
             0.7777777777777778,
             "#fb9f3a"
            ],
            [
             0.8888888888888888,
             "#fdca26"
            ],
            [
             1,
             "#f0f921"
            ]
           ]
          },
          "colorway": [
           "#636efa",
           "#EF553B",
           "#00cc96",
           "#ab63fa",
           "#FFA15A",
           "#19d3f3",
           "#FF6692",
           "#B6E880",
           "#FF97FF",
           "#FECB52"
          ],
          "font": {
           "color": "#2a3f5f"
          },
          "geo": {
           "bgcolor": "white",
           "lakecolor": "white",
           "landcolor": "#E5ECF6",
           "showlakes": true,
           "showland": true,
           "subunitcolor": "white"
          },
          "hoverlabel": {
           "align": "left"
          },
          "hovermode": "closest",
          "mapbox": {
           "style": "light"
          },
          "paper_bgcolor": "white",
          "plot_bgcolor": "#E5ECF6",
          "polar": {
           "angularaxis": {
            "gridcolor": "white",
            "linecolor": "white",
            "ticks": ""
           },
           "bgcolor": "#E5ECF6",
           "radialaxis": {
            "gridcolor": "white",
            "linecolor": "white",
            "ticks": ""
           }
          },
          "scene": {
           "xaxis": {
            "backgroundcolor": "#E5ECF6",
            "gridcolor": "white",
            "gridwidth": 2,
            "linecolor": "white",
            "showbackground": true,
            "ticks": "",
            "zerolinecolor": "white"
           },
           "yaxis": {
            "backgroundcolor": "#E5ECF6",
            "gridcolor": "white",
            "gridwidth": 2,
            "linecolor": "white",
            "showbackground": true,
            "ticks": "",
            "zerolinecolor": "white"
           },
           "zaxis": {
            "backgroundcolor": "#E5ECF6",
            "gridcolor": "white",
            "gridwidth": 2,
            "linecolor": "white",
            "showbackground": true,
            "ticks": "",
            "zerolinecolor": "white"
           }
          },
          "shapedefaults": {
           "line": {
            "color": "#2a3f5f"
           }
          },
          "ternary": {
           "aaxis": {
            "gridcolor": "white",
            "linecolor": "white",
            "ticks": ""
           },
           "baxis": {
            "gridcolor": "white",
            "linecolor": "white",
            "ticks": ""
           },
           "bgcolor": "#E5ECF6",
           "caxis": {
            "gridcolor": "white",
            "linecolor": "white",
            "ticks": ""
           }
          },
          "title": {
           "x": 0.05
          },
          "xaxis": {
           "automargin": true,
           "gridcolor": "white",
           "linecolor": "white",
           "ticks": "",
           "title": {
            "standoff": 15
           },
           "zerolinecolor": "white",
           "zerolinewidth": 2
          },
          "yaxis": {
           "automargin": true,
           "gridcolor": "white",
           "linecolor": "white",
           "ticks": "",
           "title": {
            "standoff": 15
           },
           "zerolinecolor": "white",
           "zerolinewidth": 2
          }
         }
        },
        "title": {
         "text": "Refresco en Marianao"
        },
        "xaxis": {
         "anchor": "y",
         "domain": [
          0,
          1
         ],
         "title": {
          "text": "marca"
         }
        },
        "yaxis": {
         "anchor": "x",
         "domain": [
          0,
          1
         ],
         "title": {
          "text": "precio"
         }
        }
       }
      }
     },
     "metadata": {},
     "output_type": "display_data"
    }
   ],
   "source": [
    "# Acceder al DataFrame de los refresco con respecto a marca, precio y sabor\n",
    "df = pd.DataFrame(refresco.loc[:,[\"marca\", \"precio\",\"sabor\"]])\n",
    "# Grafica de dispercion interactiva\n",
    "fig1 = px.scatter(df, x=\"marca\", y=\"precio\",color=\"sabor\",title=\"Refresco en Marianao\")\n",
    "fig1.show()"
   ]
  },
  {
   "attachments": {},
   "cell_type": "markdown",
   "metadata": {},
   "source": [
    "La siguiente tabla nos proporciona la información detallada que no es posible asimilar con el gráfico anterior y se pueden notar la cantidad de refresco con respecto a la marca y su sabor correspondiente"
   ]
  },
  {
   "cell_type": "code",
   "execution_count": 30,
   "metadata": {},
   "outputs": [
    {
     "data": {
      "text/plain": [
       "marca          sabor         \n",
       "pepsi          cola              18\n",
       "coca cola      cola              12\n",
       "ciego montero  cola              11\n",
       "santa          naranja            8\n",
       "               cola               8\n",
       "ciego montero  mate               6\n",
       "frised         cola               6\n",
       "sprite         limon              5\n",
       "ciego montero  naranja            5\n",
       "seven up       limon              5\n",
       "fanta          naranja            5\n",
       "santa          limon              4\n",
       "mirinda        naranja            4\n",
       "ciego montero  limon              4\n",
       "frised         naranja            3\n",
       "najita         naranja            2\n",
       "frised         limon              2\n",
       "tropicola      cola               2\n",
       "ciego montero  cola dietetica     1\n",
       "frised         pinna              1\n",
       "pool           naranja            1\n",
       "ritz           cola               1\n",
       "               naranja            1\n",
       "coca cola      cola dietetica     1\n",
       "ciego montero  pinna              1\n",
       "unicola        cola               1\n",
       "Name: count, dtype: int64"
      ]
     },
     "execution_count": 30,
     "metadata": {},
     "output_type": "execute_result"
    }
   ],
   "source": [
    "# Accedemos al DataFrame de los refresco con respecto a marca y sabor utilizando nuevamente la funcion(.value_counts())\n",
    "df = pd.DataFrame(refresco.loc[:,[\"marca\",\"sabor\"]]).value_counts()\n",
    "df"
   ]
  },
  {
   "attachments": {},
   "cell_type": "markdown",
   "metadata": {},
   "source": [
    "---\n",
    "Conclusiones\n",
    "---\n",
    "Con este último análisis, podemos concluir nuestra presentación de los análisis extraídos sobre los productos cerveza, cebolla, refresco gaseado y refresco instantáneo. Hemos trabajado en base a presentar la información lo más explicativa y fácil de disolver para el lector. Basándonos en el análisis que nos pareció interesante debatir y presenciar, esto no quiere decir que sea lo único y exclusivo que se pueda sacar de esta información. Estamos abiertos a seguir mejorando y perfeccionando nuestro proyecto. ¿En qué otras preguntas podemos resolver y qué otros datos interesantes podemos sacar de toda esta información? Sin más preámbulos, aquí concluye la presentación. Esperamos que le haya gustado y le haya servido de mucha ayuda para su saber propio.\n",
    "\n",
    "Muchas gracias."
   ]
  }
 ],
 "metadata": {
  "kernelspec": {
   "display_name": "Python 3",
   "language": "python",
   "name": "python3"
  },
  "language_info": {
   "codemirror_mode": {
    "name": "ipython",
    "version": 3
   },
   "file_extension": ".py",
   "mimetype": "text/x-python",
   "name": "python",
   "nbconvert_exporter": "python",
   "pygments_lexer": "ipython3",
   "version": "3.11.1"
  },
  "orig_nbformat": 4
 },
 "nbformat": 4,
 "nbformat_minor": 2
}
